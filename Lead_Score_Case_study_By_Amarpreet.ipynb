{
 "cells": [
  {
   "cell_type": "markdown",
   "metadata": {},
   "source": [
    "# Lead Score Case Study\n",
    "### By Amarpreet & Mathan"
   ]
  },
  {
   "cell_type": "code",
   "execution_count": 1,
   "metadata": {},
   "outputs": [],
   "source": [
    "# Ignore Warnings\n",
    "import warnings\n",
    "warnings.filterwarnings('ignore')"
   ]
  },
  {
   "cell_type": "code",
   "execution_count": 2,
   "metadata": {},
   "outputs": [],
   "source": [
    "#importing required libraries\n",
    "import numpy as np\n",
    "import pandas as pd\n",
    "import matplotlib.pyplot as plt\n",
    "import seaborn as sns\n",
    "%matplotlib inline"
   ]
  },
  {
   "cell_type": "code",
   "execution_count": 3,
   "metadata": {},
   "outputs": [],
   "source": [
    "# loading dataset\n",
    "df_lead=pd.read_csv('Leads.csv',encoding='utf-8')"
   ]
  },
  {
   "cell_type": "markdown",
   "metadata": {},
   "source": [
    "### Reading the data"
   ]
  },
  {
   "cell_type": "code",
   "execution_count": 4,
   "metadata": {},
   "outputs": [
    {
     "data": {
      "text/html": [
       "<div>\n",
       "<style scoped>\n",
       "    .dataframe tbody tr th:only-of-type {\n",
       "        vertical-align: middle;\n",
       "    }\n",
       "\n",
       "    .dataframe tbody tr th {\n",
       "        vertical-align: top;\n",
       "    }\n",
       "\n",
       "    .dataframe thead th {\n",
       "        text-align: right;\n",
       "    }\n",
       "</style>\n",
       "<table border=\"1\" class=\"dataframe\">\n",
       "  <thead>\n",
       "    <tr style=\"text-align: right;\">\n",
       "      <th></th>\n",
       "      <th>Prospect ID</th>\n",
       "      <th>Lead Number</th>\n",
       "      <th>Lead Origin</th>\n",
       "      <th>Lead Source</th>\n",
       "      <th>Do Not Email</th>\n",
       "      <th>Do Not Call</th>\n",
       "      <th>Converted</th>\n",
       "      <th>TotalVisits</th>\n",
       "      <th>Total Time Spent on Website</th>\n",
       "      <th>Page Views Per Visit</th>\n",
       "      <th>...</th>\n",
       "      <th>Get updates on DM Content</th>\n",
       "      <th>Lead Profile</th>\n",
       "      <th>City</th>\n",
       "      <th>Asymmetrique Activity Index</th>\n",
       "      <th>Asymmetrique Profile Index</th>\n",
       "      <th>Asymmetrique Activity Score</th>\n",
       "      <th>Asymmetrique Profile Score</th>\n",
       "      <th>I agree to pay the amount through cheque</th>\n",
       "      <th>A free copy of Mastering The Interview</th>\n",
       "      <th>Last Notable Activity</th>\n",
       "    </tr>\n",
       "  </thead>\n",
       "  <tbody>\n",
       "    <tr>\n",
       "      <th>0</th>\n",
       "      <td>7927b2df-8bba-4d29-b9a2-b6e0beafe620</td>\n",
       "      <td>660737</td>\n",
       "      <td>API</td>\n",
       "      <td>Olark Chat</td>\n",
       "      <td>No</td>\n",
       "      <td>No</td>\n",
       "      <td>0</td>\n",
       "      <td>0.0</td>\n",
       "      <td>0</td>\n",
       "      <td>0.0</td>\n",
       "      <td>...</td>\n",
       "      <td>No</td>\n",
       "      <td>Select</td>\n",
       "      <td>Select</td>\n",
       "      <td>02.Medium</td>\n",
       "      <td>02.Medium</td>\n",
       "      <td>15.0</td>\n",
       "      <td>15.0</td>\n",
       "      <td>No</td>\n",
       "      <td>No</td>\n",
       "      <td>Modified</td>\n",
       "    </tr>\n",
       "    <tr>\n",
       "      <th>1</th>\n",
       "      <td>2a272436-5132-4136-86fa-dcc88c88f482</td>\n",
       "      <td>660728</td>\n",
       "      <td>API</td>\n",
       "      <td>Organic Search</td>\n",
       "      <td>No</td>\n",
       "      <td>No</td>\n",
       "      <td>0</td>\n",
       "      <td>5.0</td>\n",
       "      <td>674</td>\n",
       "      <td>2.5</td>\n",
       "      <td>...</td>\n",
       "      <td>No</td>\n",
       "      <td>Select</td>\n",
       "      <td>Select</td>\n",
       "      <td>02.Medium</td>\n",
       "      <td>02.Medium</td>\n",
       "      <td>15.0</td>\n",
       "      <td>15.0</td>\n",
       "      <td>No</td>\n",
       "      <td>No</td>\n",
       "      <td>Email Opened</td>\n",
       "    </tr>\n",
       "    <tr>\n",
       "      <th>2</th>\n",
       "      <td>8cc8c611-a219-4f35-ad23-fdfd2656bd8a</td>\n",
       "      <td>660727</td>\n",
       "      <td>Landing Page Submission</td>\n",
       "      <td>Direct Traffic</td>\n",
       "      <td>No</td>\n",
       "      <td>No</td>\n",
       "      <td>1</td>\n",
       "      <td>2.0</td>\n",
       "      <td>1532</td>\n",
       "      <td>2.0</td>\n",
       "      <td>...</td>\n",
       "      <td>No</td>\n",
       "      <td>Potential Lead</td>\n",
       "      <td>Mumbai</td>\n",
       "      <td>02.Medium</td>\n",
       "      <td>01.High</td>\n",
       "      <td>14.0</td>\n",
       "      <td>20.0</td>\n",
       "      <td>No</td>\n",
       "      <td>Yes</td>\n",
       "      <td>Email Opened</td>\n",
       "    </tr>\n",
       "    <tr>\n",
       "      <th>3</th>\n",
       "      <td>0cc2df48-7cf4-4e39-9de9-19797f9b38cc</td>\n",
       "      <td>660719</td>\n",
       "      <td>Landing Page Submission</td>\n",
       "      <td>Direct Traffic</td>\n",
       "      <td>No</td>\n",
       "      <td>No</td>\n",
       "      <td>0</td>\n",
       "      <td>1.0</td>\n",
       "      <td>305</td>\n",
       "      <td>1.0</td>\n",
       "      <td>...</td>\n",
       "      <td>No</td>\n",
       "      <td>Select</td>\n",
       "      <td>Mumbai</td>\n",
       "      <td>02.Medium</td>\n",
       "      <td>01.High</td>\n",
       "      <td>13.0</td>\n",
       "      <td>17.0</td>\n",
       "      <td>No</td>\n",
       "      <td>No</td>\n",
       "      <td>Modified</td>\n",
       "    </tr>\n",
       "    <tr>\n",
       "      <th>4</th>\n",
       "      <td>3256f628-e534-4826-9d63-4a8b88782852</td>\n",
       "      <td>660681</td>\n",
       "      <td>Landing Page Submission</td>\n",
       "      <td>Google</td>\n",
       "      <td>No</td>\n",
       "      <td>No</td>\n",
       "      <td>1</td>\n",
       "      <td>2.0</td>\n",
       "      <td>1428</td>\n",
       "      <td>1.0</td>\n",
       "      <td>...</td>\n",
       "      <td>No</td>\n",
       "      <td>Select</td>\n",
       "      <td>Mumbai</td>\n",
       "      <td>02.Medium</td>\n",
       "      <td>01.High</td>\n",
       "      <td>15.0</td>\n",
       "      <td>18.0</td>\n",
       "      <td>No</td>\n",
       "      <td>No</td>\n",
       "      <td>Modified</td>\n",
       "    </tr>\n",
       "  </tbody>\n",
       "</table>\n",
       "<p>5 rows × 37 columns</p>\n",
       "</div>"
      ],
      "text/plain": [
       "                            Prospect ID  Lead Number              Lead Origin  \\\n",
       "0  7927b2df-8bba-4d29-b9a2-b6e0beafe620       660737                      API   \n",
       "1  2a272436-5132-4136-86fa-dcc88c88f482       660728                      API   \n",
       "2  8cc8c611-a219-4f35-ad23-fdfd2656bd8a       660727  Landing Page Submission   \n",
       "3  0cc2df48-7cf4-4e39-9de9-19797f9b38cc       660719  Landing Page Submission   \n",
       "4  3256f628-e534-4826-9d63-4a8b88782852       660681  Landing Page Submission   \n",
       "\n",
       "      Lead Source Do Not Email Do Not Call  Converted  TotalVisits  \\\n",
       "0      Olark Chat           No          No          0          0.0   \n",
       "1  Organic Search           No          No          0          5.0   \n",
       "2  Direct Traffic           No          No          1          2.0   \n",
       "3  Direct Traffic           No          No          0          1.0   \n",
       "4          Google           No          No          1          2.0   \n",
       "\n",
       "   Total Time Spent on Website  Page Views Per Visit  ...  \\\n",
       "0                            0                   0.0  ...   \n",
       "1                          674                   2.5  ...   \n",
       "2                         1532                   2.0  ...   \n",
       "3                          305                   1.0  ...   \n",
       "4                         1428                   1.0  ...   \n",
       "\n",
       "  Get updates on DM Content    Lead Profile    City  \\\n",
       "0                        No          Select  Select   \n",
       "1                        No          Select  Select   \n",
       "2                        No  Potential Lead  Mumbai   \n",
       "3                        No          Select  Mumbai   \n",
       "4                        No          Select  Mumbai   \n",
       "\n",
       "  Asymmetrique Activity Index Asymmetrique Profile Index  \\\n",
       "0                   02.Medium                  02.Medium   \n",
       "1                   02.Medium                  02.Medium   \n",
       "2                   02.Medium                    01.High   \n",
       "3                   02.Medium                    01.High   \n",
       "4                   02.Medium                    01.High   \n",
       "\n",
       "  Asymmetrique Activity Score Asymmetrique Profile Score  \\\n",
       "0                        15.0                       15.0   \n",
       "1                        15.0                       15.0   \n",
       "2                        14.0                       20.0   \n",
       "3                        13.0                       17.0   \n",
       "4                        15.0                       18.0   \n",
       "\n",
       "  I agree to pay the amount through cheque  \\\n",
       "0                                       No   \n",
       "1                                       No   \n",
       "2                                       No   \n",
       "3                                       No   \n",
       "4                                       No   \n",
       "\n",
       "  A free copy of Mastering The Interview Last Notable Activity  \n",
       "0                                     No              Modified  \n",
       "1                                     No          Email Opened  \n",
       "2                                    Yes          Email Opened  \n",
       "3                                     No              Modified  \n",
       "4                                     No              Modified  \n",
       "\n",
       "[5 rows x 37 columns]"
      ]
     },
     "execution_count": 4,
     "metadata": {},
     "output_type": "execute_result"
    }
   ],
   "source": [
    "df_lead.head()"
   ]
  },
  {
   "cell_type": "markdown",
   "metadata": {},
   "source": [
    "### Inspecting the dataset"
   ]
  },
  {
   "cell_type": "markdown",
   "metadata": {},
   "source": [
    "##### Checking for rows and coulmns"
   ]
  },
  {
   "cell_type": "code",
   "execution_count": 5,
   "metadata": {},
   "outputs": [
    {
     "data": {
      "text/plain": [
       "(9240, 37)"
      ]
     },
     "execution_count": 5,
     "metadata": {},
     "output_type": "execute_result"
    }
   ],
   "source": [
    "df_lead.shape"
   ]
  },
  {
   "cell_type": "markdown",
   "metadata": {},
   "source": [
    "##### Checking dimensions"
   ]
  },
  {
   "cell_type": "code",
   "execution_count": 6,
   "metadata": {},
   "outputs": [
    {
     "data": {
      "text/plain": [
       "2"
      ]
     },
     "execution_count": 6,
     "metadata": {},
     "output_type": "execute_result"
    }
   ],
   "source": [
    "df_lead.ndim"
   ]
  },
  {
   "cell_type": "markdown",
   "metadata": {},
   "source": [
    "##### Checking the column-wise info of the dataframe"
   ]
  },
  {
   "cell_type": "code",
   "execution_count": 7,
   "metadata": {},
   "outputs": [
    {
     "name": "stdout",
     "output_type": "stream",
     "text": [
      "<class 'pandas.core.frame.DataFrame'>\n",
      "RangeIndex: 9240 entries, 0 to 9239\n",
      "Data columns (total 37 columns):\n",
      " #   Column                                         Non-Null Count  Dtype  \n",
      "---  ------                                         --------------  -----  \n",
      " 0   Prospect ID                                    9240 non-null   object \n",
      " 1   Lead Number                                    9240 non-null   int64  \n",
      " 2   Lead Origin                                    9240 non-null   object \n",
      " 3   Lead Source                                    9204 non-null   object \n",
      " 4   Do Not Email                                   9240 non-null   object \n",
      " 5   Do Not Call                                    9240 non-null   object \n",
      " 6   Converted                                      9240 non-null   int64  \n",
      " 7   TotalVisits                                    9103 non-null   float64\n",
      " 8   Total Time Spent on Website                    9240 non-null   int64  \n",
      " 9   Page Views Per Visit                           9103 non-null   float64\n",
      " 10  Last Activity                                  9137 non-null   object \n",
      " 11  Country                                        6779 non-null   object \n",
      " 12  Specialization                                 7802 non-null   object \n",
      " 13  How did you hear about X Education             7033 non-null   object \n",
      " 14  What is your current occupation                6550 non-null   object \n",
      " 15  What matters most to you in choosing a course  6531 non-null   object \n",
      " 16  Search                                         9240 non-null   object \n",
      " 17  Magazine                                       9240 non-null   object \n",
      " 18  Newspaper Article                              9240 non-null   object \n",
      " 19  X Education Forums                             9240 non-null   object \n",
      " 20  Newspaper                                      9240 non-null   object \n",
      " 21  Digital Advertisement                          9240 non-null   object \n",
      " 22  Through Recommendations                        9240 non-null   object \n",
      " 23  Receive More Updates About Our Courses         9240 non-null   object \n",
      " 24  Tags                                           5887 non-null   object \n",
      " 25  Lead Quality                                   4473 non-null   object \n",
      " 26  Update me on Supply Chain Content              9240 non-null   object \n",
      " 27  Get updates on DM Content                      9240 non-null   object \n",
      " 28  Lead Profile                                   6531 non-null   object \n",
      " 29  City                                           7820 non-null   object \n",
      " 30  Asymmetrique Activity Index                    5022 non-null   object \n",
      " 31  Asymmetrique Profile Index                     5022 non-null   object \n",
      " 32  Asymmetrique Activity Score                    5022 non-null   float64\n",
      " 33  Asymmetrique Profile Score                     5022 non-null   float64\n",
      " 34  I agree to pay the amount through cheque       9240 non-null   object \n",
      " 35  A free copy of Mastering The Interview         9240 non-null   object \n",
      " 36  Last Notable Activity                          9240 non-null   object \n",
      "dtypes: float64(4), int64(3), object(30)\n",
      "memory usage: 2.6+ MB\n"
     ]
    }
   ],
   "source": [
    "df_lead.info()"
   ]
  },
  {
   "cell_type": "markdown",
   "metadata": {},
   "source": [
    "##### Checking the summary for the numeric columns"
   ]
  },
  {
   "cell_type": "code",
   "execution_count": 8,
   "metadata": {},
   "outputs": [
    {
     "data": {
      "text/html": [
       "<div>\n",
       "<style scoped>\n",
       "    .dataframe tbody tr th:only-of-type {\n",
       "        vertical-align: middle;\n",
       "    }\n",
       "\n",
       "    .dataframe tbody tr th {\n",
       "        vertical-align: top;\n",
       "    }\n",
       "\n",
       "    .dataframe thead th {\n",
       "        text-align: right;\n",
       "    }\n",
       "</style>\n",
       "<table border=\"1\" class=\"dataframe\">\n",
       "  <thead>\n",
       "    <tr style=\"text-align: right;\">\n",
       "      <th></th>\n",
       "      <th>Lead Number</th>\n",
       "      <th>Converted</th>\n",
       "      <th>TotalVisits</th>\n",
       "      <th>Total Time Spent on Website</th>\n",
       "      <th>Page Views Per Visit</th>\n",
       "      <th>Asymmetrique Activity Score</th>\n",
       "      <th>Asymmetrique Profile Score</th>\n",
       "    </tr>\n",
       "  </thead>\n",
       "  <tbody>\n",
       "    <tr>\n",
       "      <th>count</th>\n",
       "      <td>9240.000000</td>\n",
       "      <td>9240.000000</td>\n",
       "      <td>9103.000000</td>\n",
       "      <td>9240.000000</td>\n",
       "      <td>9103.000000</td>\n",
       "      <td>5022.000000</td>\n",
       "      <td>5022.000000</td>\n",
       "    </tr>\n",
       "    <tr>\n",
       "      <th>mean</th>\n",
       "      <td>617188.435606</td>\n",
       "      <td>0.385390</td>\n",
       "      <td>3.445238</td>\n",
       "      <td>487.698268</td>\n",
       "      <td>2.362820</td>\n",
       "      <td>14.306252</td>\n",
       "      <td>16.344883</td>\n",
       "    </tr>\n",
       "    <tr>\n",
       "      <th>std</th>\n",
       "      <td>23405.995698</td>\n",
       "      <td>0.486714</td>\n",
       "      <td>4.854853</td>\n",
       "      <td>548.021466</td>\n",
       "      <td>2.161418</td>\n",
       "      <td>1.386694</td>\n",
       "      <td>1.811395</td>\n",
       "    </tr>\n",
       "    <tr>\n",
       "      <th>min</th>\n",
       "      <td>579533.000000</td>\n",
       "      <td>0.000000</td>\n",
       "      <td>0.000000</td>\n",
       "      <td>0.000000</td>\n",
       "      <td>0.000000</td>\n",
       "      <td>7.000000</td>\n",
       "      <td>11.000000</td>\n",
       "    </tr>\n",
       "    <tr>\n",
       "      <th>25%</th>\n",
       "      <td>596484.500000</td>\n",
       "      <td>0.000000</td>\n",
       "      <td>1.000000</td>\n",
       "      <td>12.000000</td>\n",
       "      <td>1.000000</td>\n",
       "      <td>14.000000</td>\n",
       "      <td>15.000000</td>\n",
       "    </tr>\n",
       "    <tr>\n",
       "      <th>50%</th>\n",
       "      <td>615479.000000</td>\n",
       "      <td>0.000000</td>\n",
       "      <td>3.000000</td>\n",
       "      <td>248.000000</td>\n",
       "      <td>2.000000</td>\n",
       "      <td>14.000000</td>\n",
       "      <td>16.000000</td>\n",
       "    </tr>\n",
       "    <tr>\n",
       "      <th>75%</th>\n",
       "      <td>637387.250000</td>\n",
       "      <td>1.000000</td>\n",
       "      <td>5.000000</td>\n",
       "      <td>936.000000</td>\n",
       "      <td>3.000000</td>\n",
       "      <td>15.000000</td>\n",
       "      <td>18.000000</td>\n",
       "    </tr>\n",
       "    <tr>\n",
       "      <th>max</th>\n",
       "      <td>660737.000000</td>\n",
       "      <td>1.000000</td>\n",
       "      <td>251.000000</td>\n",
       "      <td>2272.000000</td>\n",
       "      <td>55.000000</td>\n",
       "      <td>18.000000</td>\n",
       "      <td>20.000000</td>\n",
       "    </tr>\n",
       "  </tbody>\n",
       "</table>\n",
       "</div>"
      ],
      "text/plain": [
       "         Lead Number    Converted  TotalVisits  Total Time Spent on Website  \\\n",
       "count    9240.000000  9240.000000  9103.000000                  9240.000000   \n",
       "mean   617188.435606     0.385390     3.445238                   487.698268   \n",
       "std     23405.995698     0.486714     4.854853                   548.021466   \n",
       "min    579533.000000     0.000000     0.000000                     0.000000   \n",
       "25%    596484.500000     0.000000     1.000000                    12.000000   \n",
       "50%    615479.000000     0.000000     3.000000                   248.000000   \n",
       "75%    637387.250000     1.000000     5.000000                   936.000000   \n",
       "max    660737.000000     1.000000   251.000000                  2272.000000   \n",
       "\n",
       "       Page Views Per Visit  Asymmetrique Activity Score  \\\n",
       "count           9103.000000                  5022.000000   \n",
       "mean               2.362820                    14.306252   \n",
       "std                2.161418                     1.386694   \n",
       "min                0.000000                     7.000000   \n",
       "25%                1.000000                    14.000000   \n",
       "50%                2.000000                    14.000000   \n",
       "75%                3.000000                    15.000000   \n",
       "max               55.000000                    18.000000   \n",
       "\n",
       "       Asymmetrique Profile Score  \n",
       "count                 5022.000000  \n",
       "mean                    16.344883  \n",
       "std                      1.811395  \n",
       "min                     11.000000  \n",
       "25%                     15.000000  \n",
       "50%                     16.000000  \n",
       "75%                     18.000000  \n",
       "max                     20.000000  "
      ]
     },
     "execution_count": 8,
     "metadata": {},
     "output_type": "execute_result"
    }
   ],
   "source": [
    "df_lead.describe()"
   ]
  },
  {
   "cell_type": "markdown",
   "metadata": {},
   "source": [
    "##### Initial thoughts\n",
    "\n",
    "lead Score dataset has 9240 rows and 37 columns.\n",
    "\n",
    "Most of the columns are categorical in nature, ie 30 categorical coulmns and 7 numeric columns."
   ]
  },
  {
   "cell_type": "markdown",
   "metadata": {},
   "source": [
    "### Data quality checks "
   ]
  },
  {
   "cell_type": "markdown",
   "metadata": {},
   "source": [
    "##### Looking at Null Values"
   ]
  },
  {
   "cell_type": "code",
   "execution_count": 9,
   "metadata": {},
   "outputs": [
    {
     "data": {
      "text/plain": [
       "Prospect ID                                         0\n",
       "Lead Number                                         0\n",
       "Lead Origin                                         0\n",
       "Lead Source                                        36\n",
       "Do Not Email                                        0\n",
       "Do Not Call                                         0\n",
       "Converted                                           0\n",
       "TotalVisits                                       137\n",
       "Total Time Spent on Website                         0\n",
       "Page Views Per Visit                              137\n",
       "Last Activity                                     103\n",
       "Country                                          2461\n",
       "Specialization                                   1438\n",
       "How did you hear about X Education               2207\n",
       "What is your current occupation                  2690\n",
       "What matters most to you in choosing a course    2709\n",
       "Search                                              0\n",
       "Magazine                                            0\n",
       "Newspaper Article                                   0\n",
       "X Education Forums                                  0\n",
       "Newspaper                                           0\n",
       "Digital Advertisement                               0\n",
       "Through Recommendations                             0\n",
       "Receive More Updates About Our Courses              0\n",
       "Tags                                             3353\n",
       "Lead Quality                                     4767\n",
       "Update me on Supply Chain Content                   0\n",
       "Get updates on DM Content                           0\n",
       "Lead Profile                                     2709\n",
       "City                                             1420\n",
       "Asymmetrique Activity Index                      4218\n",
       "Asymmetrique Profile Index                       4218\n",
       "Asymmetrique Activity Score                      4218\n",
       "Asymmetrique Profile Score                       4218\n",
       "I agree to pay the amount through cheque            0\n",
       "A free copy of Mastering The Interview              0\n",
       "Last Notable Activity                               0\n",
       "dtype: int64"
      ]
     },
     "execution_count": 9,
     "metadata": {},
     "output_type": "execute_result"
    }
   ],
   "source": [
    "df_lead.isnull().sum()"
   ]
  },
  {
   "cell_type": "code",
   "execution_count": 10,
   "metadata": {},
   "outputs": [
    {
     "data": {
      "text/plain": [
       "Lead Quality                                     51.59\n",
       "Asymmetrique Profile Score                       45.65\n",
       "Asymmetrique Activity Score                      45.65\n",
       "Asymmetrique Profile Index                       45.65\n",
       "Asymmetrique Activity Index                      45.65\n",
       "Tags                                             36.29\n",
       "What matters most to you in choosing a course    29.32\n",
       "Lead Profile                                     29.32\n",
       "What is your current occupation                  29.11\n",
       "Country                                          26.63\n",
       "How did you hear about X Education               23.89\n",
       "Specialization                                   15.56\n",
       "City                                             15.37\n",
       "TotalVisits                                       1.48\n",
       "Page Views Per Visit                              1.48\n",
       "Last Activity                                     1.11\n",
       "Lead Source                                       0.39\n",
       "Do Not Email                                      0.00\n",
       "Do Not Call                                       0.00\n",
       "Converted                                         0.00\n",
       "Total Time Spent on Website                       0.00\n",
       "Lead Origin                                       0.00\n",
       "Lead Number                                       0.00\n",
       "Last Notable Activity                             0.00\n",
       "Newspaper Article                                 0.00\n",
       "Search                                            0.00\n",
       "Magazine                                          0.00\n",
       "A free copy of Mastering The Interview            0.00\n",
       "X Education Forums                                0.00\n",
       "Newspaper                                         0.00\n",
       "Digital Advertisement                             0.00\n",
       "Through Recommendations                           0.00\n",
       "Receive More Updates About Our Courses            0.00\n",
       "Update me on Supply Chain Content                 0.00\n",
       "Get updates on DM Content                         0.00\n",
       "I agree to pay the amount through cheque          0.00\n",
       "Prospect ID                                       0.00\n",
       "dtype: float64"
      ]
     },
     "execution_count": 10,
     "metadata": {},
     "output_type": "execute_result"
    }
   ],
   "source": [
    "#percentage of missing values in all columns\n",
    "round((df_lead.isnull().mean()*100).sort_values(ascending = False),2)"
   ]
  },
  {
   "cell_type": "markdown",
   "metadata": {},
   "source": [
    "##### Droping coulmns having null percentage greater than 30%"
   ]
  },
  {
   "cell_type": "code",
   "execution_count": 11,
   "metadata": {},
   "outputs": [],
   "source": [
    "df_lead = df_lead.loc[:,df_lead.isnull().mean()<=0.30]"
   ]
  },
  {
   "cell_type": "markdown",
   "metadata": {},
   "source": [
    "###### Checking if there are columns with one unique value since it won't affect our analysis ie redundant coulmns"
   ]
  },
  {
   "cell_type": "code",
   "execution_count": 12,
   "metadata": {},
   "outputs": [
    {
     "data": {
      "text/plain": [
       "Prospect ID                                      9240\n",
       "Lead Number                                      9240\n",
       "Lead Origin                                         5\n",
       "Lead Source                                        21\n",
       "Do Not Email                                        2\n",
       "Do Not Call                                         2\n",
       "Converted                                           2\n",
       "TotalVisits                                        41\n",
       "Total Time Spent on Website                      1731\n",
       "Page Views Per Visit                              114\n",
       "Last Activity                                      17\n",
       "Country                                            38\n",
       "Specialization                                     19\n",
       "How did you hear about X Education                 10\n",
       "What is your current occupation                     6\n",
       "What matters most to you in choosing a course       3\n",
       "Search                                              2\n",
       "Magazine                                            1\n",
       "Newspaper Article                                   2\n",
       "X Education Forums                                  2\n",
       "Newspaper                                           2\n",
       "Digital Advertisement                               2\n",
       "Through Recommendations                             2\n",
       "Receive More Updates About Our Courses              1\n",
       "Update me on Supply Chain Content                   1\n",
       "Get updates on DM Content                           1\n",
       "Lead Profile                                        6\n",
       "City                                                7\n",
       "I agree to pay the amount through cheque            1\n",
       "A free copy of Mastering The Interview              2\n",
       "Last Notable Activity                              16\n",
       "dtype: int64"
      ]
     },
     "execution_count": 12,
     "metadata": {},
     "output_type": "execute_result"
    }
   ],
   "source": [
    "df_lead.nunique()"
   ]
  },
  {
   "cell_type": "code",
   "execution_count": 13,
   "metadata": {},
   "outputs": [],
   "source": [
    "# Drop all the columns which have unque value as 1\n",
    "\n",
    "for col in df_lead.columns:\n",
    "    if df_lead[col].nunique() == 1:\n",
    "        df_lead.drop(col, 1, inplace=True)"
   ]
  },
  {
   "cell_type": "code",
   "execution_count": 14,
   "metadata": {},
   "outputs": [
    {
     "data": {
      "text/plain": [
       "(9240, 26)"
      ]
     },
     "execution_count": 14,
     "metadata": {},
     "output_type": "execute_result"
    }
   ],
   "source": [
    "df_lead.shape   #reinspecting the dataset"
   ]
  },
  {
   "cell_type": "code",
   "execution_count": 15,
   "metadata": {},
   "outputs": [
    {
     "data": {
      "text/plain": [
       "What matters most to you in choosing a course    29.32\n",
       "Lead Profile                                     29.32\n",
       "What is your current occupation                  29.11\n",
       "Country                                          26.63\n",
       "How did you hear about X Education               23.89\n",
       "Specialization                                   15.56\n",
       "City                                             15.37\n",
       "TotalVisits                                       1.48\n",
       "Page Views Per Visit                              1.48\n",
       "Last Activity                                     1.11\n",
       "Lead Source                                       0.39\n",
       "Converted                                         0.00\n",
       "Total Time Spent on Website                       0.00\n",
       "Do Not Email                                      0.00\n",
       "Lead Origin                                       0.00\n",
       "Lead Number                                       0.00\n",
       "Do Not Call                                       0.00\n",
       "Last Notable Activity                             0.00\n",
       "A free copy of Mastering The Interview            0.00\n",
       "Search                                            0.00\n",
       "Newspaper Article                                 0.00\n",
       "X Education Forums                                0.00\n",
       "Newspaper                                         0.00\n",
       "Digital Advertisement                             0.00\n",
       "Through Recommendations                           0.00\n",
       "Prospect ID                                       0.00\n",
       "dtype: float64"
      ]
     },
     "execution_count": 15,
     "metadata": {},
     "output_type": "execute_result"
    }
   ],
   "source": [
    "#percentage of missing values in all columns\n",
    "round((df_lead.isnull().mean()*100).sort_values(ascending = False),2)"
   ]
  },
  {
   "cell_type": "markdown",
   "metadata": {},
   "source": [
    "### Looking at null columns individually "
   ]
  },
  {
   "cell_type": "code",
   "execution_count": 16,
   "metadata": {},
   "outputs": [
    {
     "data": {
      "text/plain": [
       "Better Career Prospects      6528\n",
       "Flexibility & Convenience       2\n",
       "Other                           1\n",
       "Name: What matters most to you in choosing a course, dtype: int64"
      ]
     },
     "execution_count": 16,
     "metadata": {},
     "output_type": "execute_result"
    }
   ],
   "source": [
    "df_lead['What matters most to you in choosing a course'].value_counts()"
   ]
  },
  {
   "cell_type": "markdown",
   "metadata": {},
   "source": [
    "Droping 'What matters most to you in choosing a course' since it is highly skewed"
   ]
  },
  {
   "cell_type": "code",
   "execution_count": 17,
   "metadata": {},
   "outputs": [],
   "source": [
    "drop_col=['What matters most to you in choosing a course'] #creating a list of coulmns to be droped"
   ]
  },
  {
   "cell_type": "code",
   "execution_count": 18,
   "metadata": {},
   "outputs": [
    {
     "data": {
      "text/plain": [
       "Select                         4146\n",
       "Potential Lead                 1613\n",
       "Other Leads                     487\n",
       "Student of SomeSchool           241\n",
       "Lateral Student                  24\n",
       "Dual Specialization Student      20\n",
       "Name: Lead Profile, dtype: int64"
      ]
     },
     "execution_count": 18,
     "metadata": {},
     "output_type": "execute_result"
    }
   ],
   "source": [
    "df_lead['Lead Profile'].value_counts()"
   ]
  },
  {
   "cell_type": "markdown",
   "metadata": {},
   "source": [
    "Using mode to impute missing value"
   ]
  },
  {
   "cell_type": "code",
   "execution_count": 19,
   "metadata": {},
   "outputs": [],
   "source": [
    "# 'Lead Profile' is a object variable (categorical column), thus using mode to impute values\n",
    "df_lead['Lead Profile'].fillna((df_lead['Lead Profile'].mode()[0]),inplace = True)"
   ]
  },
  {
   "cell_type": "code",
   "execution_count": 20,
   "metadata": {},
   "outputs": [
    {
     "data": {
      "text/plain": [
       "Select                         6855\n",
       "Potential Lead                 1613\n",
       "Other Leads                     487\n",
       "Student of SomeSchool           241\n",
       "Lateral Student                  24\n",
       "Dual Specialization Student      20\n",
       "Name: Lead Profile, dtype: int64"
      ]
     },
     "execution_count": 20,
     "metadata": {},
     "output_type": "execute_result"
    }
   ],
   "source": [
    "# rechecking\n",
    "df_lead['Lead Profile'].value_counts()"
   ]
  },
  {
   "cell_type": "code",
   "execution_count": 21,
   "metadata": {},
   "outputs": [
    {
     "data": {
      "text/plain": [
       "Unemployed              5600\n",
       "Working Professional     706\n",
       "Student                  210\n",
       "Other                     16\n",
       "Housewife                 10\n",
       "Businessman                8\n",
       "Name: What is your current occupation, dtype: int64"
      ]
     },
     "execution_count": 21,
     "metadata": {},
     "output_type": "execute_result"
    }
   ],
   "source": [
    "df_lead['What is your current occupation'].value_counts()"
   ]
  },
  {
   "cell_type": "markdown",
   "metadata": {},
   "source": [
    "Using mode to impute missing value"
   ]
  },
  {
   "cell_type": "code",
   "execution_count": 22,
   "metadata": {},
   "outputs": [],
   "source": [
    "# 'What is your current occupation' is a object variable (categorical column), thus using mode to impute values\n",
    "df_lead['What is your current occupation'].fillna((df_lead['What is your current occupation'].mode()[0]),inplace = True)"
   ]
  },
  {
   "cell_type": "code",
   "execution_count": 23,
   "metadata": {},
   "outputs": [
    {
     "data": {
      "text/plain": [
       "Unemployed              8290\n",
       "Working Professional     706\n",
       "Student                  210\n",
       "Other                     16\n",
       "Housewife                 10\n",
       "Businessman                8\n",
       "Name: What is your current occupation, dtype: int64"
      ]
     },
     "execution_count": 23,
     "metadata": {},
     "output_type": "execute_result"
    }
   ],
   "source": [
    "# rechecking\n",
    "df_lead['What is your current occupation'].value_counts()"
   ]
  },
  {
   "cell_type": "code",
   "execution_count": 24,
   "metadata": {},
   "outputs": [
    {
     "data": {
      "text/plain": [
       "India                   6492\n",
       "United States             69\n",
       "United Arab Emirates      53\n",
       "Singapore                 24\n",
       "Saudi Arabia              21\n",
       "United Kingdom            15\n",
       "Australia                 13\n",
       "Qatar                     10\n",
       "Bahrain                    7\n",
       "Hong Kong                  7\n",
       "France                     6\n",
       "Oman                       6\n",
       "unknown                    5\n",
       "Germany                    4\n",
       "South Africa               4\n",
       "Kuwait                     4\n",
       "Canada                     4\n",
       "Nigeria                    4\n",
       "Sweden                     3\n",
       "Ghana                      2\n",
       "Uganda                     2\n",
       "Netherlands                2\n",
       "Bangladesh                 2\n",
       "China                      2\n",
       "Philippines                2\n",
       "Belgium                    2\n",
       "Italy                      2\n",
       "Asia/Pacific Region        2\n",
       "Kenya                      1\n",
       "Switzerland                1\n",
       "Indonesia                  1\n",
       "Sri Lanka                  1\n",
       "Russia                     1\n",
       "Liberia                    1\n",
       "Vietnam                    1\n",
       "Denmark                    1\n",
       "Tanzania                   1\n",
       "Malaysia                   1\n",
       "Name: Country, dtype: int64"
      ]
     },
     "execution_count": 24,
     "metadata": {},
     "output_type": "execute_result"
    }
   ],
   "source": [
    "df_lead['Country'].value_counts()"
   ]
  },
  {
   "cell_type": "markdown",
   "metadata": {},
   "source": [
    "Droping 'Country' since it is highly skewed"
   ]
  },
  {
   "cell_type": "code",
   "execution_count": 25,
   "metadata": {},
   "outputs": [],
   "source": [
    "drop_col.append('Country')"
   ]
  },
  {
   "cell_type": "code",
   "execution_count": 26,
   "metadata": {
    "scrolled": true
   },
   "outputs": [
    {
     "data": {
      "text/plain": [
       "Select                   5043\n",
       "Online Search             808\n",
       "Word Of Mouth             348\n",
       "Student of SomeSchool     310\n",
       "Other                     186\n",
       "Multiple Sources          152\n",
       "Advertisements             70\n",
       "Social Media               67\n",
       "Email                      26\n",
       "SMS                        23\n",
       "Name: How did you hear about X Education, dtype: int64"
      ]
     },
     "execution_count": 26,
     "metadata": {},
     "output_type": "execute_result"
    }
   ],
   "source": [
    "df_lead['How did you hear about X Education'].value_counts()"
   ]
  },
  {
   "cell_type": "code",
   "execution_count": 27,
   "metadata": {},
   "outputs": [],
   "source": [
    "# 'How did you hear about X Education' is a object variable (categorical column), thus using mode to impute values\n",
    "df_lead['How did you hear about X Education'].fillna((df_lead['How did you hear about X Education'].mode()[0]),inplace = True)"
   ]
  },
  {
   "cell_type": "code",
   "execution_count": 28,
   "metadata": {},
   "outputs": [
    {
     "data": {
      "text/plain": [
       "Select                   7250\n",
       "Online Search             808\n",
       "Word Of Mouth             348\n",
       "Student of SomeSchool     310\n",
       "Other                     186\n",
       "Multiple Sources          152\n",
       "Advertisements             70\n",
       "Social Media               67\n",
       "Email                      26\n",
       "SMS                        23\n",
       "Name: How did you hear about X Education, dtype: int64"
      ]
     },
     "execution_count": 28,
     "metadata": {},
     "output_type": "execute_result"
    }
   ],
   "source": [
    "# rechecking\n",
    "df_lead['How did you hear about X Education'].value_counts()"
   ]
  },
  {
   "cell_type": "code",
   "execution_count": 29,
   "metadata": {},
   "outputs": [
    {
     "data": {
      "text/plain": [
       "Select                               1942\n",
       "Finance Management                    976\n",
       "Human Resource Management             848\n",
       "Marketing Management                  838\n",
       "Operations Management                 503\n",
       "Business Administration               403\n",
       "IT Projects Management                366\n",
       "Supply Chain Management               349\n",
       "Banking, Investment And Insurance     338\n",
       "Media and Advertising                 203\n",
       "Travel and Tourism                    203\n",
       "International Business                178\n",
       "Healthcare Management                 159\n",
       "Hospitality Management                114\n",
       "E-COMMERCE                            112\n",
       "Retail Management                     100\n",
       "Rural and Agribusiness                 73\n",
       "E-Business                             57\n",
       "Services Excellence                    40\n",
       "Name: Specialization, dtype: int64"
      ]
     },
     "execution_count": 29,
     "metadata": {},
     "output_type": "execute_result"
    }
   ],
   "source": [
    "df_lead['Specialization'].value_counts()"
   ]
  },
  {
   "cell_type": "code",
   "execution_count": 30,
   "metadata": {},
   "outputs": [],
   "source": [
    "# 'Specialization' is a object variable (categorical column), thus using mode to impute values\n",
    "df_lead['Specialization'].fillna((df_lead['Specialization'].mode()[0]),inplace = True)"
   ]
  },
  {
   "cell_type": "code",
   "execution_count": 31,
   "metadata": {},
   "outputs": [
    {
     "data": {
      "text/plain": [
       "Select                               3380\n",
       "Finance Management                    976\n",
       "Human Resource Management             848\n",
       "Marketing Management                  838\n",
       "Operations Management                 503\n",
       "Business Administration               403\n",
       "IT Projects Management                366\n",
       "Supply Chain Management               349\n",
       "Banking, Investment And Insurance     338\n",
       "Media and Advertising                 203\n",
       "Travel and Tourism                    203\n",
       "International Business                178\n",
       "Healthcare Management                 159\n",
       "Hospitality Management                114\n",
       "E-COMMERCE                            112\n",
       "Retail Management                     100\n",
       "Rural and Agribusiness                 73\n",
       "E-Business                             57\n",
       "Services Excellence                    40\n",
       "Name: Specialization, dtype: int64"
      ]
     },
     "execution_count": 31,
     "metadata": {},
     "output_type": "execute_result"
    }
   ],
   "source": [
    "# rechecking\n",
    "df_lead['Specialization'].value_counts()"
   ]
  },
  {
   "cell_type": "code",
   "execution_count": 32,
   "metadata": {},
   "outputs": [
    {
     "data": {
      "text/plain": [
       "Mumbai                         3222\n",
       "Select                         2249\n",
       "Thane & Outskirts               752\n",
       "Other Cities                    686\n",
       "Other Cities of Maharashtra     457\n",
       "Other Metro Cities              380\n",
       "Tier II Cities                   74\n",
       "Name: City, dtype: int64"
      ]
     },
     "execution_count": 32,
     "metadata": {},
     "output_type": "execute_result"
    }
   ],
   "source": [
    "df_lead['City'].value_counts()"
   ]
  },
  {
   "cell_type": "markdown",
   "metadata": {},
   "source": [
    "Droping cities as the it is irrelevant to problem statement"
   ]
  },
  {
   "cell_type": "code",
   "execution_count": 33,
   "metadata": {},
   "outputs": [],
   "source": [
    "drop_col.append('City')"
   ]
  },
  {
   "cell_type": "code",
   "execution_count": 34,
   "metadata": {},
   "outputs": [
    {
     "data": {
      "text/plain": [
       "0.0      2189\n",
       "2.0      1680\n",
       "3.0      1306\n",
       "4.0      1120\n",
       "5.0       783\n",
       "6.0       466\n",
       "1.0       395\n",
       "7.0       309\n",
       "8.0       224\n",
       "9.0       164\n",
       "10.0      114\n",
       "11.0       86\n",
       "13.0       48\n",
       "12.0       45\n",
       "14.0       36\n",
       "16.0       21\n",
       "15.0       18\n",
       "17.0       16\n",
       "18.0       15\n",
       "20.0       12\n",
       "19.0        9\n",
       "23.0        6\n",
       "21.0        6\n",
       "27.0        5\n",
       "24.0        5\n",
       "25.0        5\n",
       "22.0        3\n",
       "28.0        2\n",
       "29.0        2\n",
       "26.0        2\n",
       "251.0       1\n",
       "74.0        1\n",
       "30.0        1\n",
       "141.0       1\n",
       "54.0        1\n",
       "41.0        1\n",
       "115.0       1\n",
       "43.0        1\n",
       "42.0        1\n",
       "32.0        1\n",
       "55.0        1\n",
       "Name: TotalVisits, dtype: int64"
      ]
     },
     "execution_count": 34,
     "metadata": {},
     "output_type": "execute_result"
    }
   ],
   "source": [
    "df_lead['TotalVisits'].value_counts()"
   ]
  },
  {
   "cell_type": "code",
   "execution_count": 35,
   "metadata": {},
   "outputs": [
    {
     "data": {
      "text/plain": [
       "Text(0.5, 1.0, 'Distribution of TotalVisits')"
      ]
     },
     "execution_count": 35,
     "metadata": {},
     "output_type": "execute_result"
    },
    {
     "data": {
      "image/png": "[encoded data removed]",
      "text/plain": [
       "<Figure size 432x288 with 1 Axes>"
      ]
     },
     "metadata": {
      "needs_background": "light"
     },
     "output_type": "display_data"
    }
   ],
   "source": [
    "sns.boxplot(df_lead['TotalVisits'],linewidth=2.5,palette='crest');\n",
    "plt.title(\"Distribution of TotalVisits\",fontsize = 10)"
   ]
  },
  {
   "cell_type": "markdown",
   "metadata": {},
   "source": [
    "From above boxplots its clear there are outliers thus imputing with median"
   ]
  },
  {
   "cell_type": "code",
   "execution_count": 36,
   "metadata": {},
   "outputs": [],
   "source": [
    "# imputing using median\n",
    "df_lead['TotalVisits'].fillna(df_lead['TotalVisits'].median(),inplace = True)"
   ]
  },
  {
   "cell_type": "code",
   "execution_count": 37,
   "metadata": {},
   "outputs": [
    {
     "data": {
      "text/plain": [
       "0.00    2189\n",
       "2.00    1795\n",
       "3.00    1196\n",
       "4.00     896\n",
       "1.00     651\n",
       "        ... \n",
       "1.27       1\n",
       "8.21       1\n",
       "2.14       1\n",
       "2.63       1\n",
       "2.45       1\n",
       "Name: Page Views Per Visit, Length: 114, dtype: int64"
      ]
     },
     "execution_count": 37,
     "metadata": {},
     "output_type": "execute_result"
    }
   ],
   "source": [
    "df_lead['Page Views Per Visit'].value_counts()"
   ]
  },
  {
   "cell_type": "code",
   "execution_count": 38,
   "metadata": {},
   "outputs": [
    {
     "data": {
      "text/plain": [
       "Text(0.5, 1.0, 'Page Views Per Visit')"
      ]
     },
     "execution_count": 38,
     "metadata": {},
     "output_type": "execute_result"
    },
    {
     "data": {
      "image/png": "[encoded data removed]",
      "text/plain": [
       "<Figure size 432x288 with 1 Axes>"
      ]
     },
     "metadata": {
      "needs_background": "light"
     },
     "output_type": "display_data"
    }
   ],
   "source": [
    "sns.boxplot(df_lead['Page Views Per Visit'],linewidth=2.5,palette='crest');\n",
    "plt.title(\"Page Views Per Visit\",fontsize = 10)"
   ]
  },
  {
   "cell_type": "markdown",
   "metadata": {},
   "source": [
    "From above boxplots its clear there are outliers thus imputing with median"
   ]
  },
  {
   "cell_type": "code",
   "execution_count": 39,
   "metadata": {},
   "outputs": [],
   "source": [
    "# imputing using median\n",
    "df_lead['Page Views Per Visit'].fillna(df_lead['Page Views Per Visit'].median(),inplace = True)"
   ]
  },
  {
   "cell_type": "code",
   "execution_count": 40,
   "metadata": {},
   "outputs": [
    {
     "data": {
      "text/plain": [
       "Email Opened                    3437\n",
       "SMS Sent                        2745\n",
       "Olark Chat Conversation          973\n",
       "Page Visited on Website          640\n",
       "Converted to Lead                428\n",
       "Email Bounced                    326\n",
       "Email Link Clicked               267\n",
       "Form Submitted on Website        116\n",
       "Unreachable                       93\n",
       "Unsubscribed                      61\n",
       "Had a Phone Conversation          30\n",
       "Approached upfront                 9\n",
       "View in browser link Clicked       6\n",
       "Email Marked Spam                  2\n",
       "Email Received                     2\n",
       "Resubscribed to emails             1\n",
       "Visited Booth in Tradeshow         1\n",
       "Name: Last Activity, dtype: int64"
      ]
     },
     "execution_count": 40,
     "metadata": {},
     "output_type": "execute_result"
    }
   ],
   "source": [
    "df_lead['Last Activity'].value_counts()"
   ]
  },
  {
   "cell_type": "code",
   "execution_count": 41,
   "metadata": {},
   "outputs": [],
   "source": [
    "# 'Last Activity' is a object variable (categorical column), thus using mode to impute values\n",
    "df_lead['Last Activity'].fillna((df_lead['Last Activity'].mode()[0]),inplace = True)"
   ]
  },
  {
   "cell_type": "code",
   "execution_count": 42,
   "metadata": {},
   "outputs": [
    {
     "data": {
      "text/plain": [
       "Google               2868\n",
       "Direct Traffic       2543\n",
       "Olark Chat           1755\n",
       "Organic Search       1154\n",
       "Reference             534\n",
       "Welingak Website      142\n",
       "Referral Sites        125\n",
       "Facebook               55\n",
       "bing                    6\n",
       "google                  5\n",
       "Click2call              4\n",
       "Press_Release           2\n",
       "Social Media            2\n",
       "Live Chat               2\n",
       "WeLearn                 1\n",
       "welearnblog_Home        1\n",
       "youtubechannel          1\n",
       "testone                 1\n",
       "NC_EDM                  1\n",
       "blog                    1\n",
       "Pay per Click Ads       1\n",
       "Name: Lead Source, dtype: int64"
      ]
     },
     "execution_count": 42,
     "metadata": {},
     "output_type": "execute_result"
    }
   ],
   "source": [
    "df_lead['Lead Source'].value_counts()"
   ]
  },
  {
   "cell_type": "code",
   "execution_count": 43,
   "metadata": {},
   "outputs": [],
   "source": [
    "df_lead['Lead Source']=df_lead['Lead Source'].apply(lambda x:x.capitalize())\n",
    "\n",
    "df_lead['Lead Source'].value_counts()"
   ]
  },
  {
   "cell_type": "markdown",
   "metadata": {},
   "source": [
    "We found one column 'Lead Source' is having same label name 'Google' but in different format('google') so we make them in a same format."
   ]
  },
  {
   "cell_type": "code",
   "execution_count": 44,
   "metadata": {},
   "outputs": [],
   "source": [
    "# 'Lead Source' is a object variable (categorical column), thus using mode to impute values\n",
    "df_lead['Lead Source'].fillna((df_lead['Lead Source'].mode()[0]),inplace = True)"
   ]
  },
  {
   "cell_type": "markdown",
   "metadata": {},
   "source": [
    "##### Droping Unwanted Columns"
   ]
  },
  {
   "cell_type": "code",
   "execution_count": 45,
   "metadata": {},
   "outputs": [],
   "source": [
    "drop_col.append('Prospect ID')\n",
    "drop_col.append('Lead Number')"
   ]
  },
  {
   "cell_type": "code",
   "execution_count": 154,
   "metadata": {},
   "outputs": [
    {
     "data": {
      "text/plain": [
       "['What matters most to you in choosing a course',\n",
       " 'Country',\n",
       " 'City',\n",
       " 'Prospect ID',\n",
       " 'Lead Number']"
      ]
     },
     "execution_count": 154,
     "metadata": {},
     "output_type": "execute_result"
    }
   ],
   "source": [
    "drop_col"
   ]
  },
  {
   "cell_type": "code",
   "execution_count": 46,
   "metadata": {},
   "outputs": [],
   "source": [
    "df_lead = df_lead.drop(labels= drop_col,axis=1)"
   ]
  },
  {
   "cell_type": "markdown",
   "metadata": {},
   "source": [
    "#### Relooking at null values"
   ]
  },
  {
   "cell_type": "code",
   "execution_count": 47,
   "metadata": {},
   "outputs": [
    {
     "data": {
      "text/plain": [
       "Last Notable Activity                     0.0\n",
       "Specialization                            0.0\n",
       "Lead Source                               0.0\n",
       "Do Not Email                              0.0\n",
       "Do Not Call                               0.0\n",
       "Converted                                 0.0\n",
       "TotalVisits                               0.0\n",
       "Total Time Spent on Website               0.0\n",
       "Page Views Per Visit                      0.0\n",
       "Last Activity                             0.0\n",
       "How did you hear about X Education        0.0\n",
       "A free copy of Mastering The Interview    0.0\n",
       "What is your current occupation           0.0\n",
       "Search                                    0.0\n",
       "Newspaper Article                         0.0\n",
       "X Education Forums                        0.0\n",
       "Newspaper                                 0.0\n",
       "Digital Advertisement                     0.0\n",
       "Through Recommendations                   0.0\n",
       "Lead Profile                              0.0\n",
       "Lead Origin                               0.0\n",
       "dtype: float64"
      ]
     },
     "execution_count": 47,
     "metadata": {},
     "output_type": "execute_result"
    }
   ],
   "source": [
    "round((df_lead.isnull().mean()*100).sort_values(ascending = False),2)"
   ]
  },
  {
   "cell_type": "markdown",
   "metadata": {},
   "source": [
    "###### Relooking at the shape"
   ]
  },
  {
   "cell_type": "code",
   "execution_count": 48,
   "metadata": {},
   "outputs": [
    {
     "data": {
      "text/plain": [
       "(9240, 21)"
      ]
     },
     "execution_count": 48,
     "metadata": {},
     "output_type": "execute_result"
    }
   ],
   "source": [
    "df_lead.shape"
   ]
  },
  {
   "cell_type": "markdown",
   "metadata": {},
   "source": [
    "### Outliers Treatment\n",
    "We know Logistic Regression is affected by outliners"
   ]
  },
  {
   "cell_type": "code",
   "execution_count": 49,
   "metadata": {},
   "outputs": [
    {
     "data": {
      "image/png": "[encoded data removed]",
      "text/plain": [
       "<Figure size 599.75x540 with 12 Axes>"
      ]
     },
     "metadata": {
      "needs_background": "light"
     },
     "output_type": "display_data"
    }
   ],
   "source": [
    "sns.pairplot(df_lead,diag_kind='kde',hue='Converted')\n",
    "plt.show()"
   ]
  },
  {
   "cell_type": "markdown",
   "metadata": {},
   "source": [
    "We can observe there are significant outliers from the above pair plot"
   ]
  },
  {
   "cell_type": "code",
   "execution_count": 50,
   "metadata": {},
   "outputs": [
    {
     "data": {
      "image/png": "[encoded data removed]",
      "text/plain": [
       "<Figure size 720x1008 with 3 Axes>"
      ]
     },
     "metadata": {
      "needs_background": "light"
     },
     "output_type": "display_data"
    }
   ],
   "source": [
    "plt.figure(figsize = (10, 14))\n",
    "\n",
    "plt.subplot(3,1,1)\n",
    "sns.boxplot(df_lead['TotalVisits'])\n",
    "\n",
    "plt.subplot(3,1,2)\n",
    "sns.boxplot(df_lead['Total Time Spent on Website'])\n",
    "                    \n",
    "plt.subplot(3,1,3)\n",
    "sns.boxplot(df_lead['Page Views Per Visit'])                    \n",
    "plt.show()"
   ]
  },
  {
   "cell_type": "code",
   "execution_count": 51,
   "metadata": {},
   "outputs": [
    {
     "data": {
      "text/html": [
       "<div>\n",
       "<style scoped>\n",
       "    .dataframe tbody tr th:only-of-type {\n",
       "        vertical-align: middle;\n",
       "    }\n",
       "\n",
       "    .dataframe tbody tr th {\n",
       "        vertical-align: top;\n",
       "    }\n",
       "\n",
       "    .dataframe thead th {\n",
       "        text-align: right;\n",
       "    }\n",
       "</style>\n",
       "<table border=\"1\" class=\"dataframe\">\n",
       "  <thead>\n",
       "    <tr style=\"text-align: right;\">\n",
       "      <th></th>\n",
       "      <th>TotalVisits</th>\n",
       "      <th>Total Time Spent on Website</th>\n",
       "      <th>Page Views Per Visit</th>\n",
       "    </tr>\n",
       "  </thead>\n",
       "  <tbody>\n",
       "    <tr>\n",
       "      <th>count</th>\n",
       "      <td>9240.000000</td>\n",
       "      <td>9240.000000</td>\n",
       "      <td>9240.000000</td>\n",
       "    </tr>\n",
       "    <tr>\n",
       "      <th>mean</th>\n",
       "      <td>3.438636</td>\n",
       "      <td>487.698268</td>\n",
       "      <td>2.357440</td>\n",
       "    </tr>\n",
       "    <tr>\n",
       "      <th>std</th>\n",
       "      <td>4.819024</td>\n",
       "      <td>548.021466</td>\n",
       "      <td>2.145781</td>\n",
       "    </tr>\n",
       "    <tr>\n",
       "      <th>min</th>\n",
       "      <td>0.000000</td>\n",
       "      <td>0.000000</td>\n",
       "      <td>0.000000</td>\n",
       "    </tr>\n",
       "    <tr>\n",
       "      <th>25%</th>\n",
       "      <td>1.000000</td>\n",
       "      <td>12.000000</td>\n",
       "      <td>1.000000</td>\n",
       "    </tr>\n",
       "    <tr>\n",
       "      <th>50%</th>\n",
       "      <td>3.000000</td>\n",
       "      <td>248.000000</td>\n",
       "      <td>2.000000</td>\n",
       "    </tr>\n",
       "    <tr>\n",
       "      <th>75%</th>\n",
       "      <td>5.000000</td>\n",
       "      <td>936.000000</td>\n",
       "      <td>3.000000</td>\n",
       "    </tr>\n",
       "    <tr>\n",
       "      <th>90%</th>\n",
       "      <td>7.000000</td>\n",
       "      <td>1380.000000</td>\n",
       "      <td>5.000000</td>\n",
       "    </tr>\n",
       "    <tr>\n",
       "      <th>95%</th>\n",
       "      <td>10.000000</td>\n",
       "      <td>1562.000000</td>\n",
       "      <td>6.000000</td>\n",
       "    </tr>\n",
       "    <tr>\n",
       "      <th>max</th>\n",
       "      <td>251.000000</td>\n",
       "      <td>2272.000000</td>\n",
       "      <td>55.000000</td>\n",
       "    </tr>\n",
       "  </tbody>\n",
       "</table>\n",
       "</div>"
      ],
      "text/plain": [
       "       TotalVisits  Total Time Spent on Website  Page Views Per Visit\n",
       "count  9240.000000                  9240.000000           9240.000000\n",
       "mean      3.438636                   487.698268              2.357440\n",
       "std       4.819024                   548.021466              2.145781\n",
       "min       0.000000                     0.000000              0.000000\n",
       "25%       1.000000                    12.000000              1.000000\n",
       "50%       3.000000                   248.000000              2.000000\n",
       "75%       5.000000                   936.000000              3.000000\n",
       "90%       7.000000                  1380.000000              5.000000\n",
       "95%      10.000000                  1562.000000              6.000000\n",
       "max     251.000000                  2272.000000             55.000000"
      ]
     },
     "execution_count": 51,
     "metadata": {},
     "output_type": "execute_result"
    }
   ],
   "source": [
    "num_cols = df_lead[['TotalVisits', 'Total Time Spent on Website', 'Page Views Per Visit']]\n",
    "\n",
    "# Checking outliers at 25%, 50%, 75%, 90%, 95%\n",
    "num_cols.describe(percentiles=[.25, .5, .75, .90, .95])"
   ]
  },
  {
   "cell_type": "code",
   "execution_count": 52,
   "metadata": {},
   "outputs": [],
   "source": [
    "# capping at 95 percentile to mitigate the effect of outliers\n",
    "df_lead['TotalVisits'].loc[df_lead['TotalVisits'] >= df_lead['TotalVisits'].quantile(0.95)] = df_lead['TotalVisits'].quantile(0.95)\n",
    "#df_lead['Total Time Spent on Website'].loc[df_lead['Total Time Spent on Website'] >= df_lead['Total Time Spent on Website'].quantile(0.98)] = df_lead['Total Time Spent on Website'].quantile(0.98)\n",
    "df_lead['Page Views Per Visit'].loc[df_lead['Page Views Per Visit'] >= df_lead['Page Views Per Visit'].quantile(0.95)] = df_lead['Page Views Per Visit'].quantile(0.95)\n"
   ]
  },
  {
   "cell_type": "code",
   "execution_count": 53,
   "metadata": {},
   "outputs": [
    {
     "data": {
      "image/png": "[encoded data removed]",
      "text/plain": [
       "<Figure size 720x1008 with 3 Axes>"
      ]
     },
     "metadata": {
      "needs_background": "light"
     },
     "output_type": "display_data"
    }
   ],
   "source": [
    "plt.figure(figsize = (10, 14))\n",
    "\n",
    "plt.subplot(3,1,1)\n",
    "sns.boxplot(df_lead['TotalVisits'])\n",
    "\n",
    "plt.subplot(3,1,2)\n",
    "sns.boxplot(df_lead['Total Time Spent on Website'])\n",
    "                    \n",
    "plt.subplot(3,1,3)\n",
    "sns.boxplot(df_lead['Page Views Per Visit'])                    \n",
    "plt.show()"
   ]
  },
  {
   "cell_type": "markdown",
   "metadata": {},
   "source": [
    "##### We can see, we were able to significantly reduce the number of outliers by capping"
   ]
  },
  {
   "cell_type": "code",
   "execution_count": 54,
   "metadata": {},
   "outputs": [
    {
     "data": {
      "image/png": "[encoded data removed]",
      "text/plain": [
       "<Figure size 599.75x540 with 12 Axes>"
      ]
     },
     "metadata": {
      "needs_background": "light"
     },
     "output_type": "display_data"
    }
   ],
   "source": [
    "sns.pairplot(df_lead,diag_kind='kde',hue='Converted')\n",
    "plt.show()"
   ]
  },
  {
   "cell_type": "code",
   "execution_count": 55,
   "metadata": {},
   "outputs": [
    {
     "data": {
      "image/png": "[encoded data removed]",
      "text/plain": [
       "<Figure size 432x288 with 1 Axes>"
      ]
     },
     "metadata": {
      "needs_background": "light"
     },
     "output_type": "display_data"
    },
    {
     "data": {
      "image/png": "[encoded data removed]",
      "text/plain": [
       "<Figure size 432x288 with 1 Axes>"
      ]
     },
     "metadata": {
      "needs_background": "light"
     },
     "output_type": "display_data"
    },
    {
     "data": {
      "image/png": "[encoded data removed]",
      "text/plain": [
       "<Figure size 432x288 with 1 Axes>"
      ]
     },
     "metadata": {
      "needs_background": "light"
     },
     "output_type": "display_data"
    }
   ],
   "source": [
    "# looking at the distribution of numeric variables\n",
    "for x in num_cols:\n",
    "    sns.distplot(df_lead[x],bins=10)\n",
    "    plt.title(x)\n",
    "    plt.show()"
   ]
  },
  {
   "cell_type": "markdown",
   "metadata": {},
   "source": [
    "##### Insights\n",
    "Numeric data do have a certain degree of skewness towards right, need to perform scaling"
   ]
  },
  {
   "cell_type": "code",
   "execution_count": 56,
   "metadata": {},
   "outputs": [
    {
     "name": "stdout",
     "output_type": "stream",
     "text": [
      "<class 'pandas.core.frame.DataFrame'>\n",
      "RangeIndex: 9240 entries, 0 to 9239\n",
      "Data columns (total 21 columns):\n",
      " #   Column                                  Non-Null Count  Dtype  \n",
      "---  ------                                  --------------  -----  \n",
      " 0   Lead Origin                             9240 non-null   object \n",
      " 1   Lead Source                             9240 non-null   object \n",
      " 2   Do Not Email                            9240 non-null   object \n",
      " 3   Do Not Call                             9240 non-null   object \n",
      " 4   Converted                               9240 non-null   int64  \n",
      " 5   TotalVisits                             9240 non-null   float64\n",
      " 6   Total Time Spent on Website             9240 non-null   int64  \n",
      " 7   Page Views Per Visit                    9240 non-null   float64\n",
      " 8   Last Activity                           9240 non-null   object \n",
      " 9   Specialization                          9240 non-null   object \n",
      " 10  How did you hear about X Education      9240 non-null   object \n",
      " 11  What is your current occupation         9240 non-null   object \n",
      " 12  Search                                  9240 non-null   object \n",
      " 13  Newspaper Article                       9240 non-null   object \n",
      " 14  X Education Forums                      9240 non-null   object \n",
      " 15  Newspaper                               9240 non-null   object \n",
      " 16  Digital Advertisement                   9240 non-null   object \n",
      " 17  Through Recommendations                 9240 non-null   object \n",
      " 18  Lead Profile                            9240 non-null   object \n",
      " 19  A free copy of Mastering The Interview  9240 non-null   object \n",
      " 20  Last Notable Activity                   9240 non-null   object \n",
      "dtypes: float64(2), int64(2), object(17)\n",
      "memory usage: 1.5+ MB\n"
     ]
    }
   ],
   "source": [
    "df_lead.info()"
   ]
  },
  {
   "cell_type": "markdown",
   "metadata": {},
   "source": [
    "##### Renaming Select as Others"
   ]
  },
  {
   "cell_type": "code",
   "execution_count": 57,
   "metadata": {},
   "outputs": [
    {
     "name": "stdout",
     "output_type": "stream",
     "text": [
      "['Specialization', 'How did you hear about X Education', 'Lead Profile']\n"
     ]
    }
   ],
   "source": [
    "# Columns which have \"Select\" as value\n",
    "\n",
    "select_list = []\n",
    "for col in df_lead:\n",
    "    if(col==\"Prospect ID\"):\n",
    "        pass\n",
    "    else:\n",
    "        if(\"Select\" in df_lead[col].unique()):\n",
    "            select_list.append(col) \n",
    "            \n",
    "print(select_list)"
   ]
  },
  {
   "cell_type": "code",
   "execution_count": 58,
   "metadata": {},
   "outputs": [
    {
     "data": {
      "text/plain": [
       "Specialization                   \n",
       "Select                               3380\n",
       "Finance Management                    976\n",
       "Human Resource Management             848\n",
       "Marketing Management                  838\n",
       "Operations Management                 503\n",
       "Business Administration               403\n",
       "IT Projects Management                366\n",
       "Supply Chain Management               349\n",
       "Banking, Investment And Insurance     338\n",
       "Travel and Tourism                    203\n",
       "Media and Advertising                 203\n",
       "International Business                178\n",
       "Healthcare Management                 159\n",
       "Hospitality Management                114\n",
       "E-COMMERCE                            112\n",
       "Retail Management                     100\n",
       "Rural and Agribusiness                 73\n",
       "E-Business                             57\n",
       "Services Excellence                    40\n",
       "dtype: int64"
      ]
     },
     "execution_count": 58,
     "metadata": {},
     "output_type": "execute_result"
    }
   ],
   "source": [
    "df_lead[['Specialization']].value_counts()"
   ]
  },
  {
   "cell_type": "code",
   "execution_count": 59,
   "metadata": {},
   "outputs": [],
   "source": [
    "df_lead['Specialization']=df_lead['Specialization'].replace({'Select':'Others'})"
   ]
  },
  {
   "cell_type": "code",
   "execution_count": 60,
   "metadata": {},
   "outputs": [
    {
     "data": {
      "text/plain": [
       "Specialization                   \n",
       "Others                               3380\n",
       "Finance Management                    976\n",
       "Human Resource Management             848\n",
       "Marketing Management                  838\n",
       "Operations Management                 503\n",
       "Business Administration               403\n",
       "IT Projects Management                366\n",
       "Supply Chain Management               349\n",
       "Banking, Investment And Insurance     338\n",
       "Travel and Tourism                    203\n",
       "Media and Advertising                 203\n",
       "International Business                178\n",
       "Healthcare Management                 159\n",
       "Hospitality Management                114\n",
       "E-COMMERCE                            112\n",
       "Retail Management                     100\n",
       "Rural and Agribusiness                 73\n",
       "E-Business                             57\n",
       "Services Excellence                    40\n",
       "dtype: int64"
      ]
     },
     "execution_count": 60,
     "metadata": {},
     "output_type": "execute_result"
    }
   ],
   "source": [
    "df_lead[['Specialization']].value_counts()"
   ]
  },
  {
   "cell_type": "code",
   "execution_count": 61,
   "metadata": {},
   "outputs": [
    {
     "data": {
      "text/plain": [
       "How did you hear about X Education\n",
       "Select                                7250\n",
       "Online Search                          808\n",
       "Word Of Mouth                          348\n",
       "Student of SomeSchool                  310\n",
       "Other                                  186\n",
       "Multiple Sources                       152\n",
       "Advertisements                          70\n",
       "Social Media                            67\n",
       "Email                                   26\n",
       "SMS                                     23\n",
       "dtype: int64"
      ]
     },
     "execution_count": 61,
     "metadata": {},
     "output_type": "execute_result"
    }
   ],
   "source": [
    "df_lead[['How did you hear about X Education']].value_counts()"
   ]
  },
  {
   "cell_type": "code",
   "execution_count": 62,
   "metadata": {},
   "outputs": [],
   "source": [
    "df_lead['How did you hear about X Education']=df_lead['How did you hear about X Education'].replace({'Select':'Others'})"
   ]
  },
  {
   "cell_type": "code",
   "execution_count": 63,
   "metadata": {},
   "outputs": [
    {
     "data": {
      "text/plain": [
       "How did you hear about X Education\n",
       "Others                                7250\n",
       "Online Search                          808\n",
       "Word Of Mouth                          348\n",
       "Student of SomeSchool                  310\n",
       "Other                                  186\n",
       "Multiple Sources                       152\n",
       "Advertisements                          70\n",
       "Social Media                            67\n",
       "Email                                   26\n",
       "SMS                                     23\n",
       "dtype: int64"
      ]
     },
     "execution_count": 63,
     "metadata": {},
     "output_type": "execute_result"
    }
   ],
   "source": [
    "df_lead[['How did you hear about X Education']].value_counts()"
   ]
  },
  {
   "cell_type": "code",
   "execution_count": 64,
   "metadata": {},
   "outputs": [
    {
     "data": {
      "text/plain": [
       "Lead Profile               \n",
       "Select                         6855\n",
       "Potential Lead                 1613\n",
       "Other Leads                     487\n",
       "Student of SomeSchool           241\n",
       "Lateral Student                  24\n",
       "Dual Specialization Student      20\n",
       "dtype: int64"
      ]
     },
     "execution_count": 64,
     "metadata": {},
     "output_type": "execute_result"
    }
   ],
   "source": [
    "df_lead[['Lead Profile']].value_counts()"
   ]
  },
  {
   "cell_type": "code",
   "execution_count": 65,
   "metadata": {},
   "outputs": [],
   "source": [
    "df_lead['Lead Profile']=df_lead['Lead Profile'].replace({'Select':'Others'})"
   ]
  },
  {
   "cell_type": "code",
   "execution_count": 66,
   "metadata": {},
   "outputs": [
    {
     "data": {
      "text/plain": [
       "Lead Profile               \n",
       "Others                         6855\n",
       "Potential Lead                 1613\n",
       "Other Leads                     487\n",
       "Student of SomeSchool           241\n",
       "Lateral Student                  24\n",
       "Dual Specialization Student      20\n",
       "dtype: int64"
      ]
     },
     "execution_count": 66,
     "metadata": {},
     "output_type": "execute_result"
    }
   ],
   "source": [
    "df_lead[['Lead Profile']].value_counts()"
   ]
  },
  {
   "cell_type": "markdown",
   "metadata": {},
   "source": [
    "#### Bi-Variate Analysis"
   ]
  },
  {
   "cell_type": "code",
   "execution_count": 67,
   "metadata": {},
   "outputs": [
    {
     "data": {
      "text/plain": [
       "Index(['Lead Origin', 'Lead Source', 'Do Not Email', 'Do Not Call',\n",
       "       'Converted', 'TotalVisits', 'Total Time Spent on Website',\n",
       "       'Page Views Per Visit', 'Last Activity', 'Specialization',\n",
       "       'How did you hear about X Education', 'What is your current occupation',\n",
       "       'Search', 'Newspaper Article', 'X Education Forums', 'Newspaper',\n",
       "       'Digital Advertisement', 'Through Recommendations', 'Lead Profile',\n",
       "       'A free copy of Mastering The Interview', 'Last Notable Activity'],\n",
       "      dtype='object')"
      ]
     },
     "execution_count": 67,
     "metadata": {},
     "output_type": "execute_result"
    }
   ],
   "source": [
    "df_lead.columns"
   ]
  },
  {
   "cell_type": "code",
   "execution_count": 153,
   "metadata": {},
   "outputs": [
    {
     "ename": "ValueError",
     "evalue": "Could not interpret input 'Lead Origin'",
     "output_type": "error",
     "traceback": [
      "\u001b[0;31m---------------------------------------------------------------------------\u001b[0m",
      "\u001b[0;31mValueError\u001b[0m                                Traceback (most recent call last)",
      "\u001b[0;32m<ipython-input-153-99d99079119b>\u001b[0m in \u001b[0;36m<module>\u001b[0;34m\u001b[0m\n\u001b[1;32m     24\u001b[0m \u001b[0;34m\u001b[0m\u001b[0m\n\u001b[1;32m     25\u001b[0m     \u001b[0mplt\u001b[0m\u001b[0;34m.\u001b[0m\u001b[0mxticks\u001b[0m\u001b[0;34m(\u001b[0m\u001b[0mrotation\u001b[0m\u001b[0;34m=\u001b[0m\u001b[0;36m90\u001b[0m\u001b[0;34m)\u001b[0m\u001b[0;34m\u001b[0m\u001b[0;34m\u001b[0m\u001b[0m\n\u001b[0;32m---> 26\u001b[0;31m     \u001b[0msns\u001b[0m\u001b[0;34m.\u001b[0m\u001b[0mbarplot\u001b[0m\u001b[0;34m(\u001b[0m\u001b[0mx\u001b[0m\u001b[0;34m=\u001b[0m\u001b[0mcolumn\u001b[0m\u001b[0;34m,\u001b[0m\u001b[0my\u001b[0m\u001b[0;34m=\u001b[0m\u001b[0;34m\"Converted\"\u001b[0m\u001b[0;34m,\u001b[0m\u001b[0mdata\u001b[0m\u001b[0;34m=\u001b[0m\u001b[0mdf_lead\u001b[0m\u001b[0;34m)\u001b[0m\u001b[0;34m\u001b[0m\u001b[0;34m\u001b[0m\u001b[0m\n\u001b[0m\u001b[1;32m     27\u001b[0m     \u001b[0mct\u001b[0m\u001b[0;34m+=\u001b[0m\u001b[0;36m1\u001b[0m\u001b[0;34m\u001b[0m\u001b[0;34m\u001b[0m\u001b[0m\n\u001b[1;32m     28\u001b[0m \u001b[0;34m\u001b[0m\u001b[0m\n",
      "\u001b[0;32m~/opt/anaconda3/lib/python3.8/site-packages/seaborn/_decorators.py\u001b[0m in \u001b[0;36minner_f\u001b[0;34m(*args, **kwargs)\u001b[0m\n\u001b[1;32m     44\u001b[0m             )\n\u001b[1;32m     45\u001b[0m         \u001b[0mkwargs\u001b[0m\u001b[0;34m.\u001b[0m\u001b[0mupdate\u001b[0m\u001b[0;34m(\u001b[0m\u001b[0;34m{\u001b[0m\u001b[0mk\u001b[0m\u001b[0;34m:\u001b[0m \u001b[0marg\u001b[0m \u001b[0;32mfor\u001b[0m \u001b[0mk\u001b[0m\u001b[0;34m,\u001b[0m \u001b[0marg\u001b[0m \u001b[0;32min\u001b[0m \u001b[0mzip\u001b[0m\u001b[0;34m(\u001b[0m\u001b[0msig\u001b[0m\u001b[0;34m.\u001b[0m\u001b[0mparameters\u001b[0m\u001b[0;34m,\u001b[0m \u001b[0margs\u001b[0m\u001b[0;34m)\u001b[0m\u001b[0;34m}\u001b[0m\u001b[0;34m)\u001b[0m\u001b[0;34m\u001b[0m\u001b[0;34m\u001b[0m\u001b[0m\n\u001b[0;32m---> 46\u001b[0;31m         \u001b[0;32mreturn\u001b[0m \u001b[0mf\u001b[0m\u001b[0;34m(\u001b[0m\u001b[0;34m**\u001b[0m\u001b[0mkwargs\u001b[0m\u001b[0;34m)\u001b[0m\u001b[0;34m\u001b[0m\u001b[0;34m\u001b[0m\u001b[0m\n\u001b[0m\u001b[1;32m     47\u001b[0m     \u001b[0;32mreturn\u001b[0m \u001b[0minner_f\u001b[0m\u001b[0;34m\u001b[0m\u001b[0;34m\u001b[0m\u001b[0m\n\u001b[1;32m     48\u001b[0m \u001b[0;34m\u001b[0m\u001b[0m\n",
      "\u001b[0;32m~/opt/anaconda3/lib/python3.8/site-packages/seaborn/categorical.py\u001b[0m in \u001b[0;36mbarplot\u001b[0;34m(x, y, hue, data, order, hue_order, estimator, ci, n_boot, units, seed, orient, color, palette, saturation, errcolor, errwidth, capsize, dodge, ax, **kwargs)\u001b[0m\n\u001b[1;32m   3167\u001b[0m ):\n\u001b[1;32m   3168\u001b[0m \u001b[0;34m\u001b[0m\u001b[0m\n\u001b[0;32m-> 3169\u001b[0;31m     plotter = _BarPlotter(x, y, hue, data, order, hue_order,\n\u001b[0m\u001b[1;32m   3170\u001b[0m                           \u001b[0mestimator\u001b[0m\u001b[0;34m,\u001b[0m \u001b[0mci\u001b[0m\u001b[0;34m,\u001b[0m \u001b[0mn_boot\u001b[0m\u001b[0;34m,\u001b[0m \u001b[0munits\u001b[0m\u001b[0;34m,\u001b[0m \u001b[0mseed\u001b[0m\u001b[0;34m,\u001b[0m\u001b[0;34m\u001b[0m\u001b[0;34m\u001b[0m\u001b[0m\n\u001b[1;32m   3171\u001b[0m                           \u001b[0morient\u001b[0m\u001b[0;34m,\u001b[0m \u001b[0mcolor\u001b[0m\u001b[0;34m,\u001b[0m \u001b[0mpalette\u001b[0m\u001b[0;34m,\u001b[0m \u001b[0msaturation\u001b[0m\u001b[0;34m,\u001b[0m\u001b[0;34m\u001b[0m\u001b[0;34m\u001b[0m\u001b[0m\n",
      "\u001b[0;32m~/opt/anaconda3/lib/python3.8/site-packages/seaborn/categorical.py\u001b[0m in \u001b[0;36m__init__\u001b[0;34m(self, x, y, hue, data, order, hue_order, estimator, ci, n_boot, units, seed, orient, color, palette, saturation, errcolor, errwidth, capsize, dodge)\u001b[0m\n\u001b[1;32m   1582\u001b[0m                  errwidth, capsize, dodge):\n\u001b[1;32m   1583\u001b[0m         \u001b[0;34m\"\"\"Initialize the plotter.\"\"\"\u001b[0m\u001b[0;34m\u001b[0m\u001b[0;34m\u001b[0m\u001b[0m\n\u001b[0;32m-> 1584\u001b[0;31m         self.establish_variables(x, y, hue, data, orient,\n\u001b[0m\u001b[1;32m   1585\u001b[0m                                  order, hue_order, units)\n\u001b[1;32m   1586\u001b[0m         \u001b[0mself\u001b[0m\u001b[0;34m.\u001b[0m\u001b[0mestablish_colors\u001b[0m\u001b[0;34m(\u001b[0m\u001b[0mcolor\u001b[0m\u001b[0;34m,\u001b[0m \u001b[0mpalette\u001b[0m\u001b[0;34m,\u001b[0m \u001b[0msaturation\u001b[0m\u001b[0;34m)\u001b[0m\u001b[0;34m\u001b[0m\u001b[0;34m\u001b[0m\u001b[0m\n",
      "\u001b[0;32m~/opt/anaconda3/lib/python3.8/site-packages/seaborn/categorical.py\u001b[0m in \u001b[0;36mestablish_variables\u001b[0;34m(self, x, y, hue, data, orient, order, hue_order, units)\u001b[0m\n\u001b[1;32m    151\u001b[0m                 \u001b[0;32mif\u001b[0m \u001b[0misinstance\u001b[0m\u001b[0;34m(\u001b[0m\u001b[0mvar\u001b[0m\u001b[0;34m,\u001b[0m \u001b[0mstr\u001b[0m\u001b[0;34m)\u001b[0m\u001b[0;34m:\u001b[0m\u001b[0;34m\u001b[0m\u001b[0;34m\u001b[0m\u001b[0m\n\u001b[1;32m    152\u001b[0m                     \u001b[0merr\u001b[0m \u001b[0;34m=\u001b[0m \u001b[0;34m\"Could not interpret input '{}'\"\u001b[0m\u001b[0;34m.\u001b[0m\u001b[0mformat\u001b[0m\u001b[0;34m(\u001b[0m\u001b[0mvar\u001b[0m\u001b[0;34m)\u001b[0m\u001b[0;34m\u001b[0m\u001b[0;34m\u001b[0m\u001b[0m\n\u001b[0;32m--> 153\u001b[0;31m                     \u001b[0;32mraise\u001b[0m \u001b[0mValueError\u001b[0m\u001b[0;34m(\u001b[0m\u001b[0merr\u001b[0m\u001b[0;34m)\u001b[0m\u001b[0;34m\u001b[0m\u001b[0;34m\u001b[0m\u001b[0m\n\u001b[0m\u001b[1;32m    154\u001b[0m \u001b[0;34m\u001b[0m\u001b[0m\n\u001b[1;32m    155\u001b[0m             \u001b[0;31m# Figure out the plotting orientation\u001b[0m\u001b[0;34m\u001b[0m\u001b[0;34m\u001b[0m\u001b[0;34m\u001b[0m\u001b[0m\n",
      "\u001b[0;31mValueError\u001b[0m: Could not interpret input 'Lead Origin'"
     ]
    },
    {
     "data": {
      "image/png": "[encoded data removed]",
      "text/plain": [
       "<Figure size 1440x1440 with 1 Axes>"
      ]
     },
     "metadata": {
      "needs_background": "light"
     },
     "output_type": "display_data"
    }
   ],
   "source": [
    "# Countplot for these categorical variables - application_clean\n",
    "\n",
    "cols = ['Lead Origin', 'Lead Source', 'Do Not Email', 'Do Not Call',\n",
    "        'TotalVisits','Page Views Per Visit', 'Last Activity', 'Specialization',\n",
    "       'How did you hear about X Education', 'What is your current occupation',\n",
    "       'Search', 'Newspaper Article', 'X Education Forums', 'Newspaper',\n",
    "       'Digital Advertisement', 'Through Recommendations', 'Lead Profile',\n",
    "       'A free copy of Mastering The Interview', 'Last Notable Activity']\n",
    "\n",
    "# Number of numerical columns\n",
    "ln=len(cols)\n",
    "\n",
    "# calculation for subplots\n",
    "n=2\n",
    "m=(ln//n)+1\n",
    "ct=1\n",
    "\n",
    "# Setting figure size\n",
    "plt.figure(2,figsize=(20,20))\n",
    "\n",
    "# Running in loop to plot all columns as subplot\n",
    "for column in cols:\n",
    "    plt.subplot(m,n,ct)\n",
    "\n",
    "    plt.xticks(rotation=90)\n",
    "    sns.barplot(x=column,y=\"Converted\",data=df_lead)\n",
    "    ct+=1\n",
    "\n",
    "# plt.legend(bbox_to_anchor=(1, 1))\n",
    "plt.tight_layout()\n",
    "plt.show()"
   ]
  },
  {
   "cell_type": "markdown",
   "metadata": {},
   "source": [
    "###### Observation \n",
    "Lead Quality ('Might be' and 'High in Relevance') are good inficators to determine if lead will convert.<br>\n",
    "Lead Origin is good indicator if lead will convert.<br>\n",
    "Lead Source are good indicators to determine if lead will convert."
   ]
  },
  {
   "cell_type": "markdown",
   "metadata": {},
   "source": [
    "##### Rechecking the Shape "
   ]
  },
  {
   "cell_type": "code",
   "execution_count": 69,
   "metadata": {},
   "outputs": [
    {
     "data": {
      "text/plain": [
       "(9240, 21)"
      ]
     },
     "execution_count": 69,
     "metadata": {},
     "output_type": "execute_result"
    }
   ],
   "source": [
    "df_lead.shape"
   ]
  },
  {
   "cell_type": "markdown",
   "metadata": {},
   "source": [
    "### Model Building"
   ]
  },
  {
   "cell_type": "markdown",
   "metadata": {},
   "source": [
    "###### Creating Dummy Variable"
   ]
  },
  {
   "cell_type": "code",
   "execution_count": 70,
   "metadata": {},
   "outputs": [],
   "source": [
    "df_categorical = df_lead.select_dtypes(exclude=['float64','datetime64','int64'])"
   ]
  },
  {
   "cell_type": "code",
   "execution_count": 71,
   "metadata": {},
   "outputs": [
    {
     "data": {
      "text/html": [
       "<div>\n",
       "<style scoped>\n",
       "    .dataframe tbody tr th:only-of-type {\n",
       "        vertical-align: middle;\n",
       "    }\n",
       "\n",
       "    .dataframe tbody tr th {\n",
       "        vertical-align: top;\n",
       "    }\n",
       "\n",
       "    .dataframe thead th {\n",
       "        text-align: right;\n",
       "    }\n",
       "</style>\n",
       "<table border=\"1\" class=\"dataframe\">\n",
       "  <thead>\n",
       "    <tr style=\"text-align: right;\">\n",
       "      <th></th>\n",
       "      <th>Lead Origin_Landing Page Submission</th>\n",
       "      <th>Lead Origin_Lead Add Form</th>\n",
       "      <th>Lead Origin_Lead Import</th>\n",
       "      <th>Lead Origin_Quick Add Form</th>\n",
       "      <th>Lead Source_Direct Traffic</th>\n",
       "      <th>Lead Source_Facebook</th>\n",
       "      <th>Lead Source_Google</th>\n",
       "      <th>Lead Source_Live Chat</th>\n",
       "      <th>Lead Source_NC_EDM</th>\n",
       "      <th>Lead Source_Olark Chat</th>\n",
       "      <th>...</th>\n",
       "      <th>Last Notable Activity_Form Submitted on Website</th>\n",
       "      <th>Last Notable Activity_Had a Phone Conversation</th>\n",
       "      <th>Last Notable Activity_Modified</th>\n",
       "      <th>Last Notable Activity_Olark Chat Conversation</th>\n",
       "      <th>Last Notable Activity_Page Visited on Website</th>\n",
       "      <th>Last Notable Activity_Resubscribed to emails</th>\n",
       "      <th>Last Notable Activity_SMS Sent</th>\n",
       "      <th>Last Notable Activity_Unreachable</th>\n",
       "      <th>Last Notable Activity_Unsubscribed</th>\n",
       "      <th>Last Notable Activity_View in browser link Clicked</th>\n",
       "    </tr>\n",
       "  </thead>\n",
       "  <tbody>\n",
       "    <tr>\n",
       "      <th>0</th>\n",
       "      <td>0</td>\n",
       "      <td>0</td>\n",
       "      <td>0</td>\n",
       "      <td>0</td>\n",
       "      <td>0</td>\n",
       "      <td>0</td>\n",
       "      <td>0</td>\n",
       "      <td>0</td>\n",
       "      <td>0</td>\n",
       "      <td>1</td>\n",
       "      <td>...</td>\n",
       "      <td>0</td>\n",
       "      <td>0</td>\n",
       "      <td>1</td>\n",
       "      <td>0</td>\n",
       "      <td>0</td>\n",
       "      <td>0</td>\n",
       "      <td>0</td>\n",
       "      <td>0</td>\n",
       "      <td>0</td>\n",
       "      <td>0</td>\n",
       "    </tr>\n",
       "    <tr>\n",
       "      <th>1</th>\n",
       "      <td>0</td>\n",
       "      <td>0</td>\n",
       "      <td>0</td>\n",
       "      <td>0</td>\n",
       "      <td>0</td>\n",
       "      <td>0</td>\n",
       "      <td>0</td>\n",
       "      <td>0</td>\n",
       "      <td>0</td>\n",
       "      <td>0</td>\n",
       "      <td>...</td>\n",
       "      <td>0</td>\n",
       "      <td>0</td>\n",
       "      <td>0</td>\n",
       "      <td>0</td>\n",
       "      <td>0</td>\n",
       "      <td>0</td>\n",
       "      <td>0</td>\n",
       "      <td>0</td>\n",
       "      <td>0</td>\n",
       "      <td>0</td>\n",
       "    </tr>\n",
       "    <tr>\n",
       "      <th>2</th>\n",
       "      <td>1</td>\n",
       "      <td>0</td>\n",
       "      <td>0</td>\n",
       "      <td>0</td>\n",
       "      <td>1</td>\n",
       "      <td>0</td>\n",
       "      <td>0</td>\n",
       "      <td>0</td>\n",
       "      <td>0</td>\n",
       "      <td>0</td>\n",
       "      <td>...</td>\n",
       "      <td>0</td>\n",
       "      <td>0</td>\n",
       "      <td>0</td>\n",
       "      <td>0</td>\n",
       "      <td>0</td>\n",
       "      <td>0</td>\n",
       "      <td>0</td>\n",
       "      <td>0</td>\n",
       "      <td>0</td>\n",
       "      <td>0</td>\n",
       "    </tr>\n",
       "    <tr>\n",
       "      <th>3</th>\n",
       "      <td>1</td>\n",
       "      <td>0</td>\n",
       "      <td>0</td>\n",
       "      <td>0</td>\n",
       "      <td>1</td>\n",
       "      <td>0</td>\n",
       "      <td>0</td>\n",
       "      <td>0</td>\n",
       "      <td>0</td>\n",
       "      <td>0</td>\n",
       "      <td>...</td>\n",
       "      <td>0</td>\n",
       "      <td>0</td>\n",
       "      <td>1</td>\n",
       "      <td>0</td>\n",
       "      <td>0</td>\n",
       "      <td>0</td>\n",
       "      <td>0</td>\n",
       "      <td>0</td>\n",
       "      <td>0</td>\n",
       "      <td>0</td>\n",
       "    </tr>\n",
       "    <tr>\n",
       "      <th>4</th>\n",
       "      <td>1</td>\n",
       "      <td>0</td>\n",
       "      <td>0</td>\n",
       "      <td>0</td>\n",
       "      <td>0</td>\n",
       "      <td>0</td>\n",
       "      <td>1</td>\n",
       "      <td>0</td>\n",
       "      <td>0</td>\n",
       "      <td>0</td>\n",
       "      <td>...</td>\n",
       "      <td>0</td>\n",
       "      <td>0</td>\n",
       "      <td>1</td>\n",
       "      <td>0</td>\n",
       "      <td>0</td>\n",
       "      <td>0</td>\n",
       "      <td>0</td>\n",
       "      <td>0</td>\n",
       "      <td>0</td>\n",
       "      <td>0</td>\n",
       "    </tr>\n",
       "    <tr>\n",
       "      <th>...</th>\n",
       "      <td>...</td>\n",
       "      <td>...</td>\n",
       "      <td>...</td>\n",
       "      <td>...</td>\n",
       "      <td>...</td>\n",
       "      <td>...</td>\n",
       "      <td>...</td>\n",
       "      <td>...</td>\n",
       "      <td>...</td>\n",
       "      <td>...</td>\n",
       "      <td>...</td>\n",
       "      <td>...</td>\n",
       "      <td>...</td>\n",
       "      <td>...</td>\n",
       "      <td>...</td>\n",
       "      <td>...</td>\n",
       "      <td>...</td>\n",
       "      <td>...</td>\n",
       "      <td>...</td>\n",
       "      <td>...</td>\n",
       "      <td>...</td>\n",
       "    </tr>\n",
       "    <tr>\n",
       "      <th>9235</th>\n",
       "      <td>1</td>\n",
       "      <td>0</td>\n",
       "      <td>0</td>\n",
       "      <td>0</td>\n",
       "      <td>1</td>\n",
       "      <td>0</td>\n",
       "      <td>0</td>\n",
       "      <td>0</td>\n",
       "      <td>0</td>\n",
       "      <td>0</td>\n",
       "      <td>...</td>\n",
       "      <td>0</td>\n",
       "      <td>0</td>\n",
       "      <td>0</td>\n",
       "      <td>0</td>\n",
       "      <td>0</td>\n",
       "      <td>0</td>\n",
       "      <td>0</td>\n",
       "      <td>0</td>\n",
       "      <td>0</td>\n",
       "      <td>0</td>\n",
       "    </tr>\n",
       "    <tr>\n",
       "      <th>9236</th>\n",
       "      <td>1</td>\n",
       "      <td>0</td>\n",
       "      <td>0</td>\n",
       "      <td>0</td>\n",
       "      <td>1</td>\n",
       "      <td>0</td>\n",
       "      <td>0</td>\n",
       "      <td>0</td>\n",
       "      <td>0</td>\n",
       "      <td>0</td>\n",
       "      <td>...</td>\n",
       "      <td>0</td>\n",
       "      <td>0</td>\n",
       "      <td>0</td>\n",
       "      <td>0</td>\n",
       "      <td>0</td>\n",
       "      <td>0</td>\n",
       "      <td>1</td>\n",
       "      <td>0</td>\n",
       "      <td>0</td>\n",
       "      <td>0</td>\n",
       "    </tr>\n",
       "    <tr>\n",
       "      <th>9237</th>\n",
       "      <td>1</td>\n",
       "      <td>0</td>\n",
       "      <td>0</td>\n",
       "      <td>0</td>\n",
       "      <td>1</td>\n",
       "      <td>0</td>\n",
       "      <td>0</td>\n",
       "      <td>0</td>\n",
       "      <td>0</td>\n",
       "      <td>0</td>\n",
       "      <td>...</td>\n",
       "      <td>0</td>\n",
       "      <td>0</td>\n",
       "      <td>0</td>\n",
       "      <td>0</td>\n",
       "      <td>0</td>\n",
       "      <td>0</td>\n",
       "      <td>1</td>\n",
       "      <td>0</td>\n",
       "      <td>0</td>\n",
       "      <td>0</td>\n",
       "    </tr>\n",
       "    <tr>\n",
       "      <th>9238</th>\n",
       "      <td>1</td>\n",
       "      <td>0</td>\n",
       "      <td>0</td>\n",
       "      <td>0</td>\n",
       "      <td>0</td>\n",
       "      <td>0</td>\n",
       "      <td>1</td>\n",
       "      <td>0</td>\n",
       "      <td>0</td>\n",
       "      <td>0</td>\n",
       "      <td>...</td>\n",
       "      <td>0</td>\n",
       "      <td>0</td>\n",
       "      <td>0</td>\n",
       "      <td>0</td>\n",
       "      <td>0</td>\n",
       "      <td>0</td>\n",
       "      <td>1</td>\n",
       "      <td>0</td>\n",
       "      <td>0</td>\n",
       "      <td>0</td>\n",
       "    </tr>\n",
       "    <tr>\n",
       "      <th>9239</th>\n",
       "      <td>1</td>\n",
       "      <td>0</td>\n",
       "      <td>0</td>\n",
       "      <td>0</td>\n",
       "      <td>1</td>\n",
       "      <td>0</td>\n",
       "      <td>0</td>\n",
       "      <td>0</td>\n",
       "      <td>0</td>\n",
       "      <td>0</td>\n",
       "      <td>...</td>\n",
       "      <td>0</td>\n",
       "      <td>0</td>\n",
       "      <td>1</td>\n",
       "      <td>0</td>\n",
       "      <td>0</td>\n",
       "      <td>0</td>\n",
       "      <td>0</td>\n",
       "      <td>0</td>\n",
       "      <td>0</td>\n",
       "      <td>0</td>\n",
       "    </tr>\n",
       "  </tbody>\n",
       "</table>\n",
       "<p>9240 rows × 101 columns</p>\n",
       "</div>"
      ],
      "text/plain": [
       "      Lead Origin_Landing Page Submission  Lead Origin_Lead Add Form  \\\n",
       "0                                       0                          0   \n",
       "1                                       0                          0   \n",
       "2                                       1                          0   \n",
       "3                                       1                          0   \n",
       "4                                       1                          0   \n",
       "...                                   ...                        ...   \n",
       "9235                                    1                          0   \n",
       "9236                                    1                          0   \n",
       "9237                                    1                          0   \n",
       "9238                                    1                          0   \n",
       "9239                                    1                          0   \n",
       "\n",
       "      Lead Origin_Lead Import  Lead Origin_Quick Add Form  \\\n",
       "0                           0                           0   \n",
       "1                           0                           0   \n",
       "2                           0                           0   \n",
       "3                           0                           0   \n",
       "4                           0                           0   \n",
       "...                       ...                         ...   \n",
       "9235                        0                           0   \n",
       "9236                        0                           0   \n",
       "9237                        0                           0   \n",
       "9238                        0                           0   \n",
       "9239                        0                           0   \n",
       "\n",
       "      Lead Source_Direct Traffic  Lead Source_Facebook  Lead Source_Google  \\\n",
       "0                              0                     0                   0   \n",
       "1                              0                     0                   0   \n",
       "2                              1                     0                   0   \n",
       "3                              1                     0                   0   \n",
       "4                              0                     0                   1   \n",
       "...                          ...                   ...                 ...   \n",
       "9235                           1                     0                   0   \n",
       "9236                           1                     0                   0   \n",
       "9237                           1                     0                   0   \n",
       "9238                           0                     0                   1   \n",
       "9239                           1                     0                   0   \n",
       "\n",
       "      Lead Source_Live Chat  Lead Source_NC_EDM  Lead Source_Olark Chat  ...  \\\n",
       "0                         0                   0                       1  ...   \n",
       "1                         0                   0                       0  ...   \n",
       "2                         0                   0                       0  ...   \n",
       "3                         0                   0                       0  ...   \n",
       "4                         0                   0                       0  ...   \n",
       "...                     ...                 ...                     ...  ...   \n",
       "9235                      0                   0                       0  ...   \n",
       "9236                      0                   0                       0  ...   \n",
       "9237                      0                   0                       0  ...   \n",
       "9238                      0                   0                       0  ...   \n",
       "9239                      0                   0                       0  ...   \n",
       "\n",
       "      Last Notable Activity_Form Submitted on Website  \\\n",
       "0                                                   0   \n",
       "1                                                   0   \n",
       "2                                                   0   \n",
       "3                                                   0   \n",
       "4                                                   0   \n",
       "...                                               ...   \n",
       "9235                                                0   \n",
       "9236                                                0   \n",
       "9237                                                0   \n",
       "9238                                                0   \n",
       "9239                                                0   \n",
       "\n",
       "      Last Notable Activity_Had a Phone Conversation  \\\n",
       "0                                                  0   \n",
       "1                                                  0   \n",
       "2                                                  0   \n",
       "3                                                  0   \n",
       "4                                                  0   \n",
       "...                                              ...   \n",
       "9235                                               0   \n",
       "9236                                               0   \n",
       "9237                                               0   \n",
       "9238                                               0   \n",
       "9239                                               0   \n",
       "\n",
       "      Last Notable Activity_Modified  \\\n",
       "0                                  1   \n",
       "1                                  0   \n",
       "2                                  0   \n",
       "3                                  1   \n",
       "4                                  1   \n",
       "...                              ...   \n",
       "9235                               0   \n",
       "9236                               0   \n",
       "9237                               0   \n",
       "9238                               0   \n",
       "9239                               1   \n",
       "\n",
       "      Last Notable Activity_Olark Chat Conversation  \\\n",
       "0                                                 0   \n",
       "1                                                 0   \n",
       "2                                                 0   \n",
       "3                                                 0   \n",
       "4                                                 0   \n",
       "...                                             ...   \n",
       "9235                                              0   \n",
       "9236                                              0   \n",
       "9237                                              0   \n",
       "9238                                              0   \n",
       "9239                                              0   \n",
       "\n",
       "      Last Notable Activity_Page Visited on Website  \\\n",
       "0                                                 0   \n",
       "1                                                 0   \n",
       "2                                                 0   \n",
       "3                                                 0   \n",
       "4                                                 0   \n",
       "...                                             ...   \n",
       "9235                                              0   \n",
       "9236                                              0   \n",
       "9237                                              0   \n",
       "9238                                              0   \n",
       "9239                                              0   \n",
       "\n",
       "      Last Notable Activity_Resubscribed to emails  \\\n",
       "0                                                0   \n",
       "1                                                0   \n",
       "2                                                0   \n",
       "3                                                0   \n",
       "4                                                0   \n",
       "...                                            ...   \n",
       "9235                                             0   \n",
       "9236                                             0   \n",
       "9237                                             0   \n",
       "9238                                             0   \n",
       "9239                                             0   \n",
       "\n",
       "      Last Notable Activity_SMS Sent  Last Notable Activity_Unreachable  \\\n",
       "0                                  0                                  0   \n",
       "1                                  0                                  0   \n",
       "2                                  0                                  0   \n",
       "3                                  0                                  0   \n",
       "4                                  0                                  0   \n",
       "...                              ...                                ...   \n",
       "9235                               0                                  0   \n",
       "9236                               1                                  0   \n",
       "9237                               1                                  0   \n",
       "9238                               1                                  0   \n",
       "9239                               0                                  0   \n",
       "\n",
       "      Last Notable Activity_Unsubscribed  \\\n",
       "0                                      0   \n",
       "1                                      0   \n",
       "2                                      0   \n",
       "3                                      0   \n",
       "4                                      0   \n",
       "...                                  ...   \n",
       "9235                                   0   \n",
       "9236                                   0   \n",
       "9237                                   0   \n",
       "9238                                   0   \n",
       "9239                                   0   \n",
       "\n",
       "      Last Notable Activity_View in browser link Clicked  \n",
       "0                                                     0   \n",
       "1                                                     0   \n",
       "2                                                     0   \n",
       "3                                                     0   \n",
       "4                                                     0   \n",
       "...                                                 ...   \n",
       "9235                                                  0   \n",
       "9236                                                  0   \n",
       "9237                                                  0   \n",
       "9238                                                  0   \n",
       "9239                                                  0   \n",
       "\n",
       "[9240 rows x 101 columns]"
      ]
     },
     "execution_count": 71,
     "metadata": {},
     "output_type": "execute_result"
    }
   ],
   "source": [
    "dummies = pd.get_dummies(df_categorical, drop_first=True)\n",
    "dummies"
   ]
  },
  {
   "cell_type": "code",
   "execution_count": 72,
   "metadata": {},
   "outputs": [],
   "source": [
    "df_lead = df_lead.drop(list(df_categorical.columns), axis=1)"
   ]
  },
  {
   "cell_type": "code",
   "execution_count": 73,
   "metadata": {},
   "outputs": [],
   "source": [
    "df_lead = pd.concat([df_lead, dummies], axis=1)"
   ]
  },
  {
   "cell_type": "code",
   "execution_count": 74,
   "metadata": {},
   "outputs": [
    {
     "data": {
      "text/html": [
       "<div>\n",
       "<style scoped>\n",
       "    .dataframe tbody tr th:only-of-type {\n",
       "        vertical-align: middle;\n",
       "    }\n",
       "\n",
       "    .dataframe tbody tr th {\n",
       "        vertical-align: top;\n",
       "    }\n",
       "\n",
       "    .dataframe thead th {\n",
       "        text-align: right;\n",
       "    }\n",
       "</style>\n",
       "<table border=\"1\" class=\"dataframe\">\n",
       "  <thead>\n",
       "    <tr style=\"text-align: right;\">\n",
       "      <th></th>\n",
       "      <th>Converted</th>\n",
       "      <th>TotalVisits</th>\n",
       "      <th>Total Time Spent on Website</th>\n",
       "      <th>Page Views Per Visit</th>\n",
       "      <th>Lead Origin_Landing Page Submission</th>\n",
       "      <th>Lead Origin_Lead Add Form</th>\n",
       "      <th>Lead Origin_Lead Import</th>\n",
       "      <th>Lead Origin_Quick Add Form</th>\n",
       "      <th>Lead Source_Direct Traffic</th>\n",
       "      <th>Lead Source_Facebook</th>\n",
       "      <th>...</th>\n",
       "      <th>Last Notable Activity_Form Submitted on Website</th>\n",
       "      <th>Last Notable Activity_Had a Phone Conversation</th>\n",
       "      <th>Last Notable Activity_Modified</th>\n",
       "      <th>Last Notable Activity_Olark Chat Conversation</th>\n",
       "      <th>Last Notable Activity_Page Visited on Website</th>\n",
       "      <th>Last Notable Activity_Resubscribed to emails</th>\n",
       "      <th>Last Notable Activity_SMS Sent</th>\n",
       "      <th>Last Notable Activity_Unreachable</th>\n",
       "      <th>Last Notable Activity_Unsubscribed</th>\n",
       "      <th>Last Notable Activity_View in browser link Clicked</th>\n",
       "    </tr>\n",
       "  </thead>\n",
       "  <tbody>\n",
       "    <tr>\n",
       "      <th>0</th>\n",
       "      <td>0</td>\n",
       "      <td>0.0</td>\n",
       "      <td>0</td>\n",
       "      <td>0.0</td>\n",
       "      <td>0</td>\n",
       "      <td>0</td>\n",
       "      <td>0</td>\n",
       "      <td>0</td>\n",
       "      <td>0</td>\n",
       "      <td>0</td>\n",
       "      <td>...</td>\n",
       "      <td>0</td>\n",
       "      <td>0</td>\n",
       "      <td>1</td>\n",
       "      <td>0</td>\n",
       "      <td>0</td>\n",
       "      <td>0</td>\n",
       "      <td>0</td>\n",
       "      <td>0</td>\n",
       "      <td>0</td>\n",
       "      <td>0</td>\n",
       "    </tr>\n",
       "    <tr>\n",
       "      <th>1</th>\n",
       "      <td>0</td>\n",
       "      <td>5.0</td>\n",
       "      <td>674</td>\n",
       "      <td>2.5</td>\n",
       "      <td>0</td>\n",
       "      <td>0</td>\n",
       "      <td>0</td>\n",
       "      <td>0</td>\n",
       "      <td>0</td>\n",
       "      <td>0</td>\n",
       "      <td>...</td>\n",
       "      <td>0</td>\n",
       "      <td>0</td>\n",
       "      <td>0</td>\n",
       "      <td>0</td>\n",
       "      <td>0</td>\n",
       "      <td>0</td>\n",
       "      <td>0</td>\n",
       "      <td>0</td>\n",
       "      <td>0</td>\n",
       "      <td>0</td>\n",
       "    </tr>\n",
       "    <tr>\n",
       "      <th>2</th>\n",
       "      <td>1</td>\n",
       "      <td>2.0</td>\n",
       "      <td>1532</td>\n",
       "      <td>2.0</td>\n",
       "      <td>1</td>\n",
       "      <td>0</td>\n",
       "      <td>0</td>\n",
       "      <td>0</td>\n",
       "      <td>1</td>\n",
       "      <td>0</td>\n",
       "      <td>...</td>\n",
       "      <td>0</td>\n",
       "      <td>0</td>\n",
       "      <td>0</td>\n",
       "      <td>0</td>\n",
       "      <td>0</td>\n",
       "      <td>0</td>\n",
       "      <td>0</td>\n",
       "      <td>0</td>\n",
       "      <td>0</td>\n",
       "      <td>0</td>\n",
       "    </tr>\n",
       "    <tr>\n",
       "      <th>3</th>\n",
       "      <td>0</td>\n",
       "      <td>1.0</td>\n",
       "      <td>305</td>\n",
       "      <td>1.0</td>\n",
       "      <td>1</td>\n",
       "      <td>0</td>\n",
       "      <td>0</td>\n",
       "      <td>0</td>\n",
       "      <td>1</td>\n",
       "      <td>0</td>\n",
       "      <td>...</td>\n",
       "      <td>0</td>\n",
       "      <td>0</td>\n",
       "      <td>1</td>\n",
       "      <td>0</td>\n",
       "      <td>0</td>\n",
       "      <td>0</td>\n",
       "      <td>0</td>\n",
       "      <td>0</td>\n",
       "      <td>0</td>\n",
       "      <td>0</td>\n",
       "    </tr>\n",
       "    <tr>\n",
       "      <th>4</th>\n",
       "      <td>1</td>\n",
       "      <td>2.0</td>\n",
       "      <td>1428</td>\n",
       "      <td>1.0</td>\n",
       "      <td>1</td>\n",
       "      <td>0</td>\n",
       "      <td>0</td>\n",
       "      <td>0</td>\n",
       "      <td>0</td>\n",
       "      <td>0</td>\n",
       "      <td>...</td>\n",
       "      <td>0</td>\n",
       "      <td>0</td>\n",
       "      <td>1</td>\n",
       "      <td>0</td>\n",
       "      <td>0</td>\n",
       "      <td>0</td>\n",
       "      <td>0</td>\n",
       "      <td>0</td>\n",
       "      <td>0</td>\n",
       "      <td>0</td>\n",
       "    </tr>\n",
       "  </tbody>\n",
       "</table>\n",
       "<p>5 rows × 105 columns</p>\n",
       "</div>"
      ],
      "text/plain": [
       "   Converted  TotalVisits  Total Time Spent on Website  Page Views Per Visit  \\\n",
       "0          0          0.0                            0                   0.0   \n",
       "1          0          5.0                          674                   2.5   \n",
       "2          1          2.0                         1532                   2.0   \n",
       "3          0          1.0                          305                   1.0   \n",
       "4          1          2.0                         1428                   1.0   \n",
       "\n",
       "   Lead Origin_Landing Page Submission  Lead Origin_Lead Add Form  \\\n",
       "0                                    0                          0   \n",
       "1                                    0                          0   \n",
       "2                                    1                          0   \n",
       "3                                    1                          0   \n",
       "4                                    1                          0   \n",
       "\n",
       "   Lead Origin_Lead Import  Lead Origin_Quick Add Form  \\\n",
       "0                        0                           0   \n",
       "1                        0                           0   \n",
       "2                        0                           0   \n",
       "3                        0                           0   \n",
       "4                        0                           0   \n",
       "\n",
       "   Lead Source_Direct Traffic  Lead Source_Facebook  ...  \\\n",
       "0                           0                     0  ...   \n",
       "1                           0                     0  ...   \n",
       "2                           1                     0  ...   \n",
       "3                           1                     0  ...   \n",
       "4                           0                     0  ...   \n",
       "\n",
       "   Last Notable Activity_Form Submitted on Website  \\\n",
       "0                                                0   \n",
       "1                                                0   \n",
       "2                                                0   \n",
       "3                                                0   \n",
       "4                                                0   \n",
       "\n",
       "   Last Notable Activity_Had a Phone Conversation  \\\n",
       "0                                               0   \n",
       "1                                               0   \n",
       "2                                               0   \n",
       "3                                               0   \n",
       "4                                               0   \n",
       "\n",
       "   Last Notable Activity_Modified  \\\n",
       "0                               1   \n",
       "1                               0   \n",
       "2                               0   \n",
       "3                               1   \n",
       "4                               1   \n",
       "\n",
       "   Last Notable Activity_Olark Chat Conversation  \\\n",
       "0                                              0   \n",
       "1                                              0   \n",
       "2                                              0   \n",
       "3                                              0   \n",
       "4                                              0   \n",
       "\n",
       "   Last Notable Activity_Page Visited on Website  \\\n",
       "0                                              0   \n",
       "1                                              0   \n",
       "2                                              0   \n",
       "3                                              0   \n",
       "4                                              0   \n",
       "\n",
       "   Last Notable Activity_Resubscribed to emails  \\\n",
       "0                                             0   \n",
       "1                                             0   \n",
       "2                                             0   \n",
       "3                                             0   \n",
       "4                                             0   \n",
       "\n",
       "   Last Notable Activity_SMS Sent  Last Notable Activity_Unreachable  \\\n",
       "0                               0                                  0   \n",
       "1                               0                                  0   \n",
       "2                               0                                  0   \n",
       "3                               0                                  0   \n",
       "4                               0                                  0   \n",
       "\n",
       "   Last Notable Activity_Unsubscribed  \\\n",
       "0                                   0   \n",
       "1                                   0   \n",
       "2                                   0   \n",
       "3                                   0   \n",
       "4                                   0   \n",
       "\n",
       "   Last Notable Activity_View in browser link Clicked  \n",
       "0                                                  0   \n",
       "1                                                  0   \n",
       "2                                                  0   \n",
       "3                                                  0   \n",
       "4                                                  0   \n",
       "\n",
       "[5 rows x 105 columns]"
      ]
     },
     "execution_count": 74,
     "metadata": {},
     "output_type": "execute_result"
    }
   ],
   "source": [
    "df_lead.head()"
   ]
  },
  {
   "cell_type": "code",
   "execution_count": 75,
   "metadata": {},
   "outputs": [],
   "source": [
    "# singling out main variable Converted\n",
    "ys = ['Converted']\n",
    "X = df_lead.drop(labels= ys,axis=1)\n"
   ]
  },
  {
   "cell_type": "code",
   "execution_count": 76,
   "metadata": {},
   "outputs": [
    {
     "name": "stdout",
     "output_type": "stream",
     "text": [
      "<class 'pandas.core.frame.DataFrame'>\n",
      "RangeIndex: 9240 entries, 0 to 9239\n",
      "Columns: 104 entries, TotalVisits to Last Notable Activity_View in browser link Clicked\n",
      "dtypes: float64(2), int64(1), uint8(101)\n",
      "memory usage: 1.1 MB\n"
     ]
    }
   ],
   "source": [
    "# checking x info\n",
    "X.info()"
   ]
  },
  {
   "cell_type": "code",
   "execution_count": 77,
   "metadata": {},
   "outputs": [],
   "source": [
    "y = df_lead['Converted']"
   ]
  },
  {
   "cell_type": "code",
   "execution_count": 78,
   "metadata": {},
   "outputs": [
    {
     "data": {
      "text/plain": [
       "0    0\n",
       "1    0\n",
       "2    1\n",
       "3    0\n",
       "4    1\n",
       "Name: Converted, dtype: int64"
      ]
     },
     "execution_count": 78,
     "metadata": {},
     "output_type": "execute_result"
    }
   ],
   "source": [
    "y.head()"
   ]
  },
  {
   "cell_type": "code",
   "execution_count": 79,
   "metadata": {},
   "outputs": [],
   "source": [
    "# importing required lib to split data randomly for training and testing\n",
    "from sklearn.model_selection import train_test_split\n",
    "X_train, X_test, y_train, y_test = train_test_split(X, y, test_size=0.25, random_state=0)"
   ]
  },
  {
   "cell_type": "code",
   "execution_count": 80,
   "metadata": {},
   "outputs": [
    {
     "data": {
      "text/plain": [
       "(6930, 104)"
      ]
     },
     "execution_count": 80,
     "metadata": {},
     "output_type": "execute_result"
    }
   ],
   "source": [
    "X_train.shape # checking shape"
   ]
  },
  {
   "cell_type": "code",
   "execution_count": 81,
   "metadata": {},
   "outputs": [
    {
     "data": {
      "text/plain": [
       "['TotalVisits',\n",
       " 'Total Time Spent on Website',\n",
       " 'Page Views Per Visit',\n",
       " 'Lead Origin_Landing Page Submission',\n",
       " 'Lead Origin_Lead Add Form',\n",
       " 'Lead Origin_Lead Import',\n",
       " 'Lead Origin_Quick Add Form',\n",
       " 'Lead Source_Direct Traffic',\n",
       " 'Lead Source_Facebook',\n",
       " 'Lead Source_Google',\n",
       " 'Lead Source_Live Chat',\n",
       " 'Lead Source_NC_EDM',\n",
       " 'Lead Source_Olark Chat',\n",
       " 'Lead Source_Organic Search',\n",
       " 'Lead Source_Pay per Click Ads',\n",
       " 'Lead Source_Press_Release',\n",
       " 'Lead Source_Reference',\n",
       " 'Lead Source_Referral Sites',\n",
       " 'Lead Source_Social Media',\n",
       " 'Lead Source_WeLearn',\n",
       " 'Lead Source_Welingak Website',\n",
       " 'Lead Source_bing',\n",
       " 'Lead Source_blog',\n",
       " 'Lead Source_google',\n",
       " 'Lead Source_testone',\n",
       " 'Lead Source_welearnblog_Home',\n",
       " 'Lead Source_youtubechannel',\n",
       " 'Do Not Email_Yes',\n",
       " 'Do Not Call_Yes',\n",
       " 'Last Activity_Converted to Lead',\n",
       " 'Last Activity_Email Bounced',\n",
       " 'Last Activity_Email Link Clicked',\n",
       " 'Last Activity_Email Marked Spam',\n",
       " 'Last Activity_Email Opened',\n",
       " 'Last Activity_Email Received',\n",
       " 'Last Activity_Form Submitted on Website',\n",
       " 'Last Activity_Had a Phone Conversation',\n",
       " 'Last Activity_Olark Chat Conversation',\n",
       " 'Last Activity_Page Visited on Website',\n",
       " 'Last Activity_Resubscribed to emails',\n",
       " 'Last Activity_SMS Sent',\n",
       " 'Last Activity_Unreachable',\n",
       " 'Last Activity_Unsubscribed',\n",
       " 'Last Activity_View in browser link Clicked',\n",
       " 'Last Activity_Visited Booth in Tradeshow',\n",
       " 'Specialization_Business Administration',\n",
       " 'Specialization_E-Business',\n",
       " 'Specialization_E-COMMERCE',\n",
       " 'Specialization_Finance Management',\n",
       " 'Specialization_Healthcare Management',\n",
       " 'Specialization_Hospitality Management',\n",
       " 'Specialization_Human Resource Management',\n",
       " 'Specialization_IT Projects Management',\n",
       " 'Specialization_International Business',\n",
       " 'Specialization_Marketing Management',\n",
       " 'Specialization_Media and Advertising',\n",
       " 'Specialization_Operations Management',\n",
       " 'Specialization_Others',\n",
       " 'Specialization_Retail Management',\n",
       " 'Specialization_Rural and Agribusiness',\n",
       " 'Specialization_Services Excellence',\n",
       " 'Specialization_Supply Chain Management',\n",
       " 'Specialization_Travel and Tourism',\n",
       " 'How did you hear about X Education_Email',\n",
       " 'How did you hear about X Education_Multiple Sources',\n",
       " 'How did you hear about X Education_Online Search',\n",
       " 'How did you hear about X Education_Other',\n",
       " 'How did you hear about X Education_Others',\n",
       " 'How did you hear about X Education_SMS',\n",
       " 'How did you hear about X Education_Social Media',\n",
       " 'How did you hear about X Education_Student of SomeSchool',\n",
       " 'How did you hear about X Education_Word Of Mouth',\n",
       " 'What is your current occupation_Housewife',\n",
       " 'What is your current occupation_Other',\n",
       " 'What is your current occupation_Student',\n",
       " 'What is your current occupation_Unemployed',\n",
       " 'What is your current occupation_Working Professional',\n",
       " 'Search_Yes',\n",
       " 'Newspaper Article_Yes',\n",
       " 'X Education Forums_Yes',\n",
       " 'Newspaper_Yes',\n",
       " 'Digital Advertisement_Yes',\n",
       " 'Through Recommendations_Yes',\n",
       " 'Lead Profile_Lateral Student',\n",
       " 'Lead Profile_Other Leads',\n",
       " 'Lead Profile_Others',\n",
       " 'Lead Profile_Potential Lead',\n",
       " 'Lead Profile_Student of SomeSchool',\n",
       " 'A free copy of Mastering The Interview_Yes',\n",
       " 'Last Notable Activity_Email Bounced',\n",
       " 'Last Notable Activity_Email Link Clicked',\n",
       " 'Last Notable Activity_Email Marked Spam',\n",
       " 'Last Notable Activity_Email Opened',\n",
       " 'Last Notable Activity_Email Received',\n",
       " 'Last Notable Activity_Form Submitted on Website',\n",
       " 'Last Notable Activity_Had a Phone Conversation',\n",
       " 'Last Notable Activity_Modified',\n",
       " 'Last Notable Activity_Olark Chat Conversation',\n",
       " 'Last Notable Activity_Page Visited on Website',\n",
       " 'Last Notable Activity_Resubscribed to emails',\n",
       " 'Last Notable Activity_SMS Sent',\n",
       " 'Last Notable Activity_Unreachable',\n",
       " 'Last Notable Activity_Unsubscribed',\n",
       " 'Last Notable Activity_View in browser link Clicked']"
      ]
     },
     "execution_count": 81,
     "metadata": {},
     "output_type": "execute_result"
    }
   ],
   "source": [
    "num_feat = list(X_train.describe().columns)\n",
    "num_feat"
   ]
  },
  {
   "cell_type": "code",
   "execution_count": 82,
   "metadata": {},
   "outputs": [],
   "source": [
    "# Scaling to convert data into normal distribution since Windspeed and humidity had certain degree of skewness to right and left\n",
    "from sklearn.preprocessing import StandardScaler\n",
    "sc = StandardScaler()\n",
    "X_train[num_feat] = sc.fit_transform(X_train[num_feat])\n",
    "X_test[num_feat] = sc.transform(X_test[num_feat])"
   ]
  },
  {
   "cell_type": "code",
   "execution_count": 83,
   "metadata": {},
   "outputs": [
    {
     "data": {
      "text/html": [
       "<div>\n",
       "<style scoped>\n",
       "    .dataframe tbody tr th:only-of-type {\n",
       "        vertical-align: middle;\n",
       "    }\n",
       "\n",
       "    .dataframe tbody tr th {\n",
       "        vertical-align: top;\n",
       "    }\n",
       "\n",
       "    .dataframe thead th {\n",
       "        text-align: right;\n",
       "    }\n",
       "</style>\n",
       "<table border=\"1\" class=\"dataframe\">\n",
       "  <thead>\n",
       "    <tr style=\"text-align: right;\">\n",
       "      <th></th>\n",
       "      <th>TotalVisits</th>\n",
       "      <th>Total Time Spent on Website</th>\n",
       "      <th>Page Views Per Visit</th>\n",
       "      <th>Lead Origin_Landing Page Submission</th>\n",
       "      <th>Lead Origin_Lead Add Form</th>\n",
       "      <th>Lead Origin_Lead Import</th>\n",
       "      <th>Lead Origin_Quick Add Form</th>\n",
       "      <th>Lead Source_Direct Traffic</th>\n",
       "      <th>Lead Source_Facebook</th>\n",
       "      <th>Lead Source_Google</th>\n",
       "      <th>...</th>\n",
       "      <th>Last Notable Activity_Form Submitted on Website</th>\n",
       "      <th>Last Notable Activity_Had a Phone Conversation</th>\n",
       "      <th>Last Notable Activity_Modified</th>\n",
       "      <th>Last Notable Activity_Olark Chat Conversation</th>\n",
       "      <th>Last Notable Activity_Page Visited on Website</th>\n",
       "      <th>Last Notable Activity_Resubscribed to emails</th>\n",
       "      <th>Last Notable Activity_SMS Sent</th>\n",
       "      <th>Last Notable Activity_Unreachable</th>\n",
       "      <th>Last Notable Activity_Unsubscribed</th>\n",
       "      <th>Last Notable Activity_View in browser link Clicked</th>\n",
       "    </tr>\n",
       "  </thead>\n",
       "  <tbody>\n",
       "    <tr>\n",
       "      <th>6583</th>\n",
       "      <td>-0.072351</td>\n",
       "      <td>-0.262707</td>\n",
       "      <td>0.410231</td>\n",
       "      <td>0.933789</td>\n",
       "      <td>-0.285709</td>\n",
       "      <td>-0.076194</td>\n",
       "      <td>-0.012013</td>\n",
       "      <td>-0.624413</td>\n",
       "      <td>-0.076194</td>\n",
       "      <td>1.491561</td>\n",
       "      <td>...</td>\n",
       "      <td>-0.012013</td>\n",
       "      <td>-0.031798</td>\n",
       "      <td>-0.766095</td>\n",
       "      <td>-0.138808</td>\n",
       "      <td>-0.194657</td>\n",
       "      <td>-0.012013</td>\n",
       "      <td>1.809006</td>\n",
       "      <td>-0.062541</td>\n",
       "      <td>-0.071247</td>\n",
       "      <td>-0.012013</td>\n",
       "    </tr>\n",
       "    <tr>\n",
       "      <th>5948</th>\n",
       "      <td>-0.434367</td>\n",
       "      <td>-0.780073</td>\n",
       "      <td>-0.713156</td>\n",
       "      <td>0.933789</td>\n",
       "      <td>-0.285709</td>\n",
       "      <td>-0.076194</td>\n",
       "      <td>-0.012013</td>\n",
       "      <td>-0.624413</td>\n",
       "      <td>-0.076194</td>\n",
       "      <td>-0.670438</td>\n",
       "      <td>...</td>\n",
       "      <td>-0.012013</td>\n",
       "      <td>-0.031798</td>\n",
       "      <td>1.305321</td>\n",
       "      <td>-0.138808</td>\n",
       "      <td>-0.194657</td>\n",
       "      <td>-0.012013</td>\n",
       "      <td>-0.552790</td>\n",
       "      <td>-0.062541</td>\n",
       "      <td>-0.071247</td>\n",
       "      <td>-0.012013</td>\n",
       "    </tr>\n",
       "    <tr>\n",
       "      <th>1119</th>\n",
       "      <td>-1.158400</td>\n",
       "      <td>-0.893019</td>\n",
       "      <td>-1.274850</td>\n",
       "      <td>-1.070906</td>\n",
       "      <td>-0.285709</td>\n",
       "      <td>-0.076194</td>\n",
       "      <td>-0.012013</td>\n",
       "      <td>-0.624413</td>\n",
       "      <td>-0.076194</td>\n",
       "      <td>-0.670438</td>\n",
       "      <td>...</td>\n",
       "      <td>-0.012013</td>\n",
       "      <td>-0.031798</td>\n",
       "      <td>1.305321</td>\n",
       "      <td>-0.138808</td>\n",
       "      <td>-0.194657</td>\n",
       "      <td>-0.012013</td>\n",
       "      <td>-0.552790</td>\n",
       "      <td>-0.062541</td>\n",
       "      <td>-0.071247</td>\n",
       "      <td>-0.012013</td>\n",
       "    </tr>\n",
       "    <tr>\n",
       "      <th>5387</th>\n",
       "      <td>0.289665</td>\n",
       "      <td>1.231098</td>\n",
       "      <td>0.971925</td>\n",
       "      <td>0.933789</td>\n",
       "      <td>-0.285709</td>\n",
       "      <td>-0.076194</td>\n",
       "      <td>-0.012013</td>\n",
       "      <td>-0.624413</td>\n",
       "      <td>-0.076194</td>\n",
       "      <td>1.491561</td>\n",
       "      <td>...</td>\n",
       "      <td>-0.012013</td>\n",
       "      <td>-0.031798</td>\n",
       "      <td>-0.766095</td>\n",
       "      <td>-0.138808</td>\n",
       "      <td>-0.194657</td>\n",
       "      <td>-0.012013</td>\n",
       "      <td>1.809006</td>\n",
       "      <td>-0.062541</td>\n",
       "      <td>-0.071247</td>\n",
       "      <td>-0.012013</td>\n",
       "    </tr>\n",
       "    <tr>\n",
       "      <th>4424</th>\n",
       "      <td>-1.158400</td>\n",
       "      <td>-0.893019</td>\n",
       "      <td>-1.274850</td>\n",
       "      <td>-1.070906</td>\n",
       "      <td>-0.285709</td>\n",
       "      <td>-0.076194</td>\n",
       "      <td>-0.012013</td>\n",
       "      <td>-0.624413</td>\n",
       "      <td>-0.076194</td>\n",
       "      <td>-0.670438</td>\n",
       "      <td>...</td>\n",
       "      <td>-0.012013</td>\n",
       "      <td>-0.031798</td>\n",
       "      <td>-0.766095</td>\n",
       "      <td>-0.138808</td>\n",
       "      <td>-0.194657</td>\n",
       "      <td>-0.012013</td>\n",
       "      <td>1.809006</td>\n",
       "      <td>-0.062541</td>\n",
       "      <td>-0.071247</td>\n",
       "      <td>-0.012013</td>\n",
       "    </tr>\n",
       "  </tbody>\n",
       "</table>\n",
       "<p>5 rows × 104 columns</p>\n",
       "</div>"
      ],
      "text/plain": [
       "      TotalVisits  Total Time Spent on Website  Page Views Per Visit  \\\n",
       "6583    -0.072351                    -0.262707              0.410231   \n",
       "5948    -0.434367                    -0.780073             -0.713156   \n",
       "1119    -1.158400                    -0.893019             -1.274850   \n",
       "5387     0.289665                     1.231098              0.971925   \n",
       "4424    -1.158400                    -0.893019             -1.274850   \n",
       "\n",
       "      Lead Origin_Landing Page Submission  Lead Origin_Lead Add Form  \\\n",
       "6583                             0.933789                  -0.285709   \n",
       "5948                             0.933789                  -0.285709   \n",
       "1119                            -1.070906                  -0.285709   \n",
       "5387                             0.933789                  -0.285709   \n",
       "4424                            -1.070906                  -0.285709   \n",
       "\n",
       "      Lead Origin_Lead Import  Lead Origin_Quick Add Form  \\\n",
       "6583                -0.076194                   -0.012013   \n",
       "5948                -0.076194                   -0.012013   \n",
       "1119                -0.076194                   -0.012013   \n",
       "5387                -0.076194                   -0.012013   \n",
       "4424                -0.076194                   -0.012013   \n",
       "\n",
       "      Lead Source_Direct Traffic  Lead Source_Facebook  Lead Source_Google  \\\n",
       "6583                   -0.624413             -0.076194            1.491561   \n",
       "5948                   -0.624413             -0.076194           -0.670438   \n",
       "1119                   -0.624413             -0.076194           -0.670438   \n",
       "5387                   -0.624413             -0.076194            1.491561   \n",
       "4424                   -0.624413             -0.076194           -0.670438   \n",
       "\n",
       "      ...  Last Notable Activity_Form Submitted on Website  \\\n",
       "6583  ...                                        -0.012013   \n",
       "5948  ...                                        -0.012013   \n",
       "1119  ...                                        -0.012013   \n",
       "5387  ...                                        -0.012013   \n",
       "4424  ...                                        -0.012013   \n",
       "\n",
       "      Last Notable Activity_Had a Phone Conversation  \\\n",
       "6583                                       -0.031798   \n",
       "5948                                       -0.031798   \n",
       "1119                                       -0.031798   \n",
       "5387                                       -0.031798   \n",
       "4424                                       -0.031798   \n",
       "\n",
       "      Last Notable Activity_Modified  \\\n",
       "6583                       -0.766095   \n",
       "5948                        1.305321   \n",
       "1119                        1.305321   \n",
       "5387                       -0.766095   \n",
       "4424                       -0.766095   \n",
       "\n",
       "      Last Notable Activity_Olark Chat Conversation  \\\n",
       "6583                                      -0.138808   \n",
       "5948                                      -0.138808   \n",
       "1119                                      -0.138808   \n",
       "5387                                      -0.138808   \n",
       "4424                                      -0.138808   \n",
       "\n",
       "      Last Notable Activity_Page Visited on Website  \\\n",
       "6583                                      -0.194657   \n",
       "5948                                      -0.194657   \n",
       "1119                                      -0.194657   \n",
       "5387                                      -0.194657   \n",
       "4424                                      -0.194657   \n",
       "\n",
       "      Last Notable Activity_Resubscribed to emails  \\\n",
       "6583                                     -0.012013   \n",
       "5948                                     -0.012013   \n",
       "1119                                     -0.012013   \n",
       "5387                                     -0.012013   \n",
       "4424                                     -0.012013   \n",
       "\n",
       "      Last Notable Activity_SMS Sent  Last Notable Activity_Unreachable  \\\n",
       "6583                        1.809006                          -0.062541   \n",
       "5948                       -0.552790                          -0.062541   \n",
       "1119                       -0.552790                          -0.062541   \n",
       "5387                        1.809006                          -0.062541   \n",
       "4424                        1.809006                          -0.062541   \n",
       "\n",
       "      Last Notable Activity_Unsubscribed  \\\n",
       "6583                           -0.071247   \n",
       "5948                           -0.071247   \n",
       "1119                           -0.071247   \n",
       "5387                           -0.071247   \n",
       "4424                           -0.071247   \n",
       "\n",
       "      Last Notable Activity_View in browser link Clicked  \n",
       "6583                                          -0.012013   \n",
       "5948                                          -0.012013   \n",
       "1119                                          -0.012013   \n",
       "5387                                          -0.012013   \n",
       "4424                                          -0.012013   \n",
       "\n",
       "[5 rows x 104 columns]"
      ]
     },
     "execution_count": 83,
     "metadata": {},
     "output_type": "execute_result"
    }
   ],
   "source": [
    "X_train.head()"
   ]
  },
  {
   "cell_type": "markdown",
   "metadata": {},
   "source": [
    "### Model Building\n"
   ]
  },
  {
   "cell_type": "code",
   "execution_count": 84,
   "metadata": {},
   "outputs": [],
   "source": [
    "import statsmodels.api as sm\n",
    "from sklearn.linear_model import LogisticRegression\n",
    "logreg = LogisticRegression()\n",
    "from statsmodels.stats.outliers_influence import variance_inflation_factor\n",
    "from sklearn.feature_selection import RFE\n",
    "from sklearn.metrics import precision_score, recall_score"
   ]
  },
  {
   "cell_type": "code",
   "execution_count": 85,
   "metadata": {},
   "outputs": [
    {
     "data": {
      "text/html": [
       "<table class=\"simpletable\">\n",
       "<caption>Generalized Linear Model Regression Results</caption>\n",
       "<tr>\n",
       "  <th>Dep. Variable:</th>       <td>Converted</td>    <th>  No. Observations:  </th>  <td>  6930</td> \n",
       "</tr>\n",
       "<tr>\n",
       "  <th>Model:</th>                  <td>GLM</td>       <th>  Df Residuals:      </th>  <td>  6830</td> \n",
       "</tr>\n",
       "<tr>\n",
       "  <th>Model Family:</th>        <td>Binomial</td>     <th>  Df Model:          </th>  <td>    99</td> \n",
       "</tr>\n",
       "<tr>\n",
       "  <th>Link Function:</th>         <td>logit</td>      <th>  Scale:             </th> <td>  1.0000</td>\n",
       "</tr>\n",
       "<tr>\n",
       "  <th>Method:</th>                <td>IRLS</td>       <th>  Log-Likelihood:    </th> <td>     nan</td>\n",
       "</tr>\n",
       "<tr>\n",
       "  <th>Date:</th>            <td>Tue, 07 Sep 2021</td> <th>  Deviance:          </th> <td>     nan</td>\n",
       "</tr>\n",
       "<tr>\n",
       "  <th>Time:</th>                <td>13:39:46</td>     <th>  Pearson chi2:      </th> <td>6.63e+18</td>\n",
       "</tr>\n",
       "<tr>\n",
       "  <th>No. Iterations:</th>         <td>100</td>       <th>                     </th>     <td> </td>   \n",
       "</tr>\n",
       "<tr>\n",
       "  <th>Covariance Type:</th>     <td>nonrobust</td>    <th>                     </th>     <td> </td>   \n",
       "</tr>\n",
       "</table>\n",
       "<table class=\"simpletable\">\n",
       "<tr>\n",
       "                              <td></td>                                <th>coef</th>     <th>std err</th>      <th>z</th>      <th>P>|z|</th>  <th>[0.025</th>    <th>0.975]</th>  \n",
       "</tr>\n",
       "<tr>\n",
       "  <th>const</th>                                                    <td> -1.54e+14</td> <td> 8.06e+05</td> <td>-1.91e+08</td> <td> 0.000</td> <td>-1.54e+14</td> <td>-1.54e+14</td>\n",
       "</tr>\n",
       "<tr>\n",
       "  <th>TotalVisits</th>                                              <td>-1.517e+13</td> <td>  1.4e+06</td> <td>-1.08e+07</td> <td> 0.000</td> <td>-1.52e+13</td> <td>-1.52e+13</td>\n",
       "</tr>\n",
       "<tr>\n",
       "  <th>Total Time Spent on Website</th>                              <td> 6.105e+13</td> <td> 9.28e+05</td> <td> 6.58e+07</td> <td> 0.000</td> <td> 6.11e+13</td> <td> 6.11e+13</td>\n",
       "</tr>\n",
       "<tr>\n",
       "  <th>Page Views Per Visit</th>                                     <td> 8.177e+13</td> <td>  1.5e+06</td> <td> 5.44e+07</td> <td> 0.000</td> <td> 8.18e+13</td> <td> 8.18e+13</td>\n",
       "</tr>\n",
       "<tr>\n",
       "  <th>Lead Origin_Landing Page Submission</th>                      <td>-1.547e+14</td> <td>  1.9e+06</td> <td>-8.16e+07</td> <td> 0.000</td> <td>-1.55e+14</td> <td>-1.55e+14</td>\n",
       "</tr>\n",
       "<tr>\n",
       "  <th>Lead Origin_Lead Add Form</th>                                <td> 3.991e+14</td> <td> 3.71e+06</td> <td> 1.08e+08</td> <td> 0.000</td> <td> 3.99e+14</td> <td> 3.99e+14</td>\n",
       "</tr>\n",
       "<tr>\n",
       "  <th>Lead Origin_Lead Import</th>                                  <td>  1.72e+13</td> <td> 3.63e+06</td> <td> 4.73e+06</td> <td> 0.000</td> <td> 1.72e+13</td> <td> 1.72e+13</td>\n",
       "</tr>\n",
       "<tr>\n",
       "  <th>Lead Origin_Quick Add Form</th>                               <td> 7.338e+13</td> <td> 8.24e+05</td> <td>  8.9e+07</td> <td> 0.000</td> <td> 7.34e+13</td> <td> 7.34e+13</td>\n",
       "</tr>\n",
       "<tr>\n",
       "  <th>Lead Source_Direct Traffic</th>                               <td>-1.685e+15</td> <td> 2.23e+07</td> <td>-7.54e+07</td> <td> 0.000</td> <td>-1.69e+15</td> <td>-1.69e+15</td>\n",
       "</tr>\n",
       "<tr>\n",
       "  <th>Lead Source_Facebook</th>                                     <td>-3.175e+14</td> <td> 5.23e+06</td> <td>-6.07e+07</td> <td> 0.000</td> <td>-3.17e+14</td> <td>-3.17e+14</td>\n",
       "</tr>\n",
       "<tr>\n",
       "  <th>Lead Source_Google</th>                                       <td>-1.742e+15</td> <td> 2.29e+07</td> <td>-7.59e+07</td> <td> 0.000</td> <td>-1.74e+15</td> <td>-1.74e+15</td>\n",
       "</tr>\n",
       "<tr>\n",
       "  <th>Lead Source_Live Chat</th>                                    <td>-1.016e+13</td> <td> 9.89e+05</td> <td>-1.03e+07</td> <td> 0.000</td> <td>-1.02e+13</td> <td>-1.02e+13</td>\n",
       "</tr>\n",
       "<tr>\n",
       "  <th>Lead Source_NC_EDM</th>                                       <td> 7.661e+12</td> <td> 1.01e+06</td> <td>  7.6e+06</td> <td> 0.000</td> <td> 7.66e+12</td> <td> 7.66e+12</td>\n",
       "</tr>\n",
       "<tr>\n",
       "  <th>Lead Source_Olark Chat</th>                                   <td>-1.247e+15</td> <td> 1.95e+07</td> <td>-6.41e+07</td> <td> 0.000</td> <td>-1.25e+15</td> <td>-1.25e+15</td>\n",
       "</tr>\n",
       "<tr>\n",
       "  <th>Lead Source_Organic Search</th>                               <td> -1.29e+15</td> <td> 1.66e+07</td> <td>-7.78e+07</td> <td> 0.000</td> <td>-1.29e+15</td> <td>-1.29e+15</td>\n",
       "</tr>\n",
       "<tr>\n",
       "  <th>Lead Source_Pay per Click Ads</th>                            <td>-8.704e+13</td> <td>    1e+06</td> <td>-8.67e+07</td> <td> 0.000</td> <td> -8.7e+13</td> <td> -8.7e+13</td>\n",
       "</tr>\n",
       "<tr>\n",
       "  <th>Lead Source_Press_Release</th>                                <td>-9.891e+13</td> <td> 1.17e+06</td> <td>-8.42e+07</td> <td> 0.000</td> <td>-9.89e+13</td> <td>-9.89e+13</td>\n",
       "</tr>\n",
       "<tr>\n",
       "  <th>Lead Source_Reference</th>                                    <td>-9.915e+14</td> <td>  1.1e+07</td> <td>   -9e+07</td> <td> 0.000</td> <td>-9.91e+14</td> <td>-9.91e+14</td>\n",
       "</tr>\n",
       "<tr>\n",
       "  <th>Lead Source_Referral Sites</th>                               <td>-4.347e+14</td> <td> 5.65e+06</td> <td> -7.7e+07</td> <td> 0.000</td> <td>-4.35e+14</td> <td>-4.35e+14</td>\n",
       "</tr>\n",
       "<tr>\n",
       "  <th>Lead Source_Social Media</th>                                 <td>-6.151e+13</td> <td> 1.17e+06</td> <td>-5.26e+07</td> <td> 0.000</td> <td>-6.15e+13</td> <td>-6.15e+13</td>\n",
       "</tr>\n",
       "<tr>\n",
       "  <th>Lead Source_WeLearn</th>                                      <td>-6.841e+12</td> <td>    1e+06</td> <td>-6.81e+06</td> <td> 0.000</td> <td>-6.84e+12</td> <td>-6.84e+12</td>\n",
       "</tr>\n",
       "<tr>\n",
       "  <th>Lead Source_Welingak Website</th>                             <td>-4.909e+14</td> <td> 5.88e+06</td> <td>-8.35e+07</td> <td> 0.000</td> <td>-4.91e+14</td> <td>-4.91e+14</td>\n",
       "</tr>\n",
       "<tr>\n",
       "  <th>Lead Source_bing</th>                                         <td>-8.774e+13</td> <td> 1.56e+06</td> <td>-5.63e+07</td> <td> 0.000</td> <td>-8.77e+13</td> <td>-8.77e+13</td>\n",
       "</tr>\n",
       "<tr>\n",
       "  <th>Lead Source_blog</th>                                         <td>-8.578e+13</td> <td>    1e+06</td> <td>-8.54e+07</td> <td> 0.000</td> <td>-8.58e+13</td> <td>-8.58e+13</td>\n",
       "</tr>\n",
       "<tr>\n",
       "  <th>Lead Source_google</th>                                       <td>-1.552e+14</td> <td> 1.32e+06</td> <td>-1.18e+08</td> <td> 0.000</td> <td>-1.55e+14</td> <td>-1.55e+14</td>\n",
       "</tr>\n",
       "<tr>\n",
       "  <th>Lead Source_testone</th>                                      <td>-4.378e+13</td> <td> 1.01e+06</td> <td>-4.33e+07</td> <td> 0.000</td> <td>-4.38e+13</td> <td>-4.38e+13</td>\n",
       "</tr>\n",
       "<tr>\n",
       "  <th>Lead Source_welearnblog_Home</th>                             <td>   -5.2625</td> <td> 1.62e-07</td> <td>-3.24e+07</td> <td> 0.000</td> <td>   -5.263</td> <td>   -5.263</td>\n",
       "</tr>\n",
       "<tr>\n",
       "  <th>Lead Source_youtubechannel</th>                               <td>-7.537e+13</td> <td> 1.02e+06</td> <td>-7.42e+07</td> <td> 0.000</td> <td>-7.54e+13</td> <td>-7.54e+13</td>\n",
       "</tr>\n",
       "<tr>\n",
       "  <th>Do Not Email_Yes</th>                                         <td> -1.23e+14</td> <td> 1.15e+06</td> <td>-1.07e+08</td> <td> 0.000</td> <td>-1.23e+14</td> <td>-1.23e+14</td>\n",
       "</tr>\n",
       "<tr>\n",
       "  <th>Do Not Call_Yes</th>                                          <td> 3.619e+13</td> <td> 8.12e+05</td> <td> 4.46e+07</td> <td> 0.000</td> <td> 3.62e+13</td> <td> 3.62e+13</td>\n",
       "</tr>\n",
       "<tr>\n",
       "  <th>Last Activity_Converted to Lead</th>                          <td>-1.005e+15</td> <td> 5.97e+06</td> <td>-1.68e+08</td> <td> 0.000</td> <td>   -1e+15</td> <td>   -1e+15</td>\n",
       "</tr>\n",
       "<tr>\n",
       "  <th>Last Activity_Email Bounced</th>                              <td>-8.793e+14</td> <td> 5.18e+06</td> <td> -1.7e+08</td> <td> 0.000</td> <td>-8.79e+14</td> <td>-8.79e+14</td>\n",
       "</tr>\n",
       "<tr>\n",
       "  <th>Last Activity_Email Link Clicked</th>                         <td>-7.949e+14</td> <td> 4.81e+06</td> <td>-1.65e+08</td> <td> 0.000</td> <td>-7.95e+14</td> <td>-7.95e+14</td>\n",
       "</tr>\n",
       "<tr>\n",
       "  <th>Last Activity_Email Marked Spam</th>                          <td>-4.128e+11</td> <td> 7.01e+05</td> <td>-5.89e+05</td> <td> 0.000</td> <td>-4.13e+11</td> <td>-4.13e+11</td>\n",
       "</tr>\n",
       "<tr>\n",
       "  <th>Last Activity_Email Opened</th>                               <td>-2.152e+15</td> <td> 1.34e+07</td> <td> -1.6e+08</td> <td> 0.000</td> <td>-2.15e+15</td> <td>-2.15e+15</td>\n",
       "</tr>\n",
       "<tr>\n",
       "  <th>Last Activity_Email Received</th>                             <td>-1.251e+13</td> <td> 5.75e+05</td> <td>-2.18e+07</td> <td> 0.000</td> <td>-1.25e+13</td> <td>-1.25e+13</td>\n",
       "</tr>\n",
       "<tr>\n",
       "  <th>Last Activity_Form Submitted on Website</th>                  <td>-5.101e+14</td> <td> 3.11e+06</td> <td>-1.64e+08</td> <td> 0.000</td> <td> -5.1e+14</td> <td> -5.1e+14</td>\n",
       "</tr>\n",
       "<tr>\n",
       "  <th>Last Activity_Had a Phone Conversation</th>                   <td>-2.382e+14</td> <td> 1.81e+06</td> <td>-1.32e+08</td> <td> 0.000</td> <td>-2.38e+14</td> <td>-2.38e+14</td>\n",
       "</tr>\n",
       "<tr>\n",
       "  <th>Last Activity_Olark Chat Conversation</th>                    <td>-1.509e+15</td> <td> 8.46e+06</td> <td>-1.78e+08</td> <td> 0.000</td> <td>-1.51e+15</td> <td>-1.51e+15</td>\n",
       "</tr>\n",
       "<tr>\n",
       "  <th>Last Activity_Page Visited on Website</th>                    <td>-1.191e+15</td> <td> 7.12e+06</td> <td>-1.67e+08</td> <td> 0.000</td> <td>-1.19e+15</td> <td>-1.19e+15</td>\n",
       "</tr>\n",
       "<tr>\n",
       "  <th>Last Activity_Resubscribed to emails</th>                     <td>-2.894e+12</td> <td> 5.71e+05</td> <td>-5.07e+06</td> <td> 0.000</td> <td>-2.89e+12</td> <td>-2.89e+12</td>\n",
       "</tr>\n",
       "<tr>\n",
       "  <th>Last Activity_SMS Sent</th>                                   <td>-2.003e+15</td> <td> 1.27e+07</td> <td>-1.58e+08</td> <td> 0.000</td> <td>   -2e+15</td> <td>   -2e+15</td>\n",
       "</tr>\n",
       "<tr>\n",
       "  <th>Last Activity_Unreachable</th>                                <td>-4.455e+14</td> <td> 2.91e+06</td> <td>-1.53e+08</td> <td> 0.000</td> <td>-4.45e+14</td> <td>-4.45e+14</td>\n",
       "</tr>\n",
       "<tr>\n",
       "  <th>Last Activity_Unsubscribed</th>                               <td>-3.922e+14</td> <td> 2.81e+06</td> <td> -1.4e+08</td> <td> 0.000</td> <td>-3.92e+14</td> <td>-3.92e+14</td>\n",
       "</tr>\n",
       "<tr>\n",
       "  <th>Last Activity_View in browser link Clicked</th>               <td>-1.552e+14</td> <td> 1.14e+06</td> <td>-1.36e+08</td> <td> 0.000</td> <td>-1.55e+14</td> <td>-1.55e+14</td>\n",
       "</tr>\n",
       "<tr>\n",
       "  <th>Last Activity_Visited Booth in Tradeshow</th>                 <td>-1.103e+14</td> <td> 8.74e+05</td> <td>-1.26e+08</td> <td> 0.000</td> <td> -1.1e+14</td> <td> -1.1e+14</td>\n",
       "</tr>\n",
       "<tr>\n",
       "  <th>Specialization_Business Administration</th>                   <td> 1.203e+13</td> <td> 1.18e+06</td> <td> 1.02e+07</td> <td> 0.000</td> <td>  1.2e+13</td> <td>  1.2e+13</td>\n",
       "</tr>\n",
       "<tr>\n",
       "  <th>Specialization_E-Business</th>                                <td> 1.652e+13</td> <td> 8.71e+05</td> <td>  1.9e+07</td> <td> 0.000</td> <td> 1.65e+13</td> <td> 1.65e+13</td>\n",
       "</tr>\n",
       "<tr>\n",
       "  <th>Specialization_E-COMMERCE</th>                                <td> 2.302e+13</td> <td> 9.35e+05</td> <td> 2.46e+07</td> <td> 0.000</td> <td>  2.3e+13</td> <td>  2.3e+13</td>\n",
       "</tr>\n",
       "<tr>\n",
       "  <th>Specialization_Finance Management</th>                        <td> 7.714e+13</td> <td>  1.5e+06</td> <td> 5.13e+07</td> <td> 0.000</td> <td> 7.71e+13</td> <td> 7.71e+13</td>\n",
       "</tr>\n",
       "<tr>\n",
       "  <th>Specialization_Healthcare Management</th>                     <td> 1.549e+13</td> <td> 9.81e+05</td> <td> 1.58e+07</td> <td> 0.000</td> <td> 1.55e+13</td> <td> 1.55e+13</td>\n",
       "</tr>\n",
       "<tr>\n",
       "  <th>Specialization_Hospitality Management</th>                    <td> 7.281e+12</td> <td> 9.32e+05</td> <td> 7.82e+06</td> <td> 0.000</td> <td> 7.28e+12</td> <td> 7.28e+12</td>\n",
       "</tr>\n",
       "<tr>\n",
       "  <th>Specialization_Human Resource Management</th>                 <td> 7.056e+12</td> <td> 1.44e+06</td> <td>  4.9e+06</td> <td> 0.000</td> <td> 7.06e+12</td> <td> 7.06e+12</td>\n",
       "</tr>\n",
       "<tr>\n",
       "  <th>Specialization_IT Projects Management</th>                    <td> 3.436e+13</td> <td> 1.14e+06</td> <td> 3.01e+07</td> <td> 0.000</td> <td> 3.44e+13</td> <td> 3.44e+13</td>\n",
       "</tr>\n",
       "<tr>\n",
       "  <th>Specialization_International Business</th>                    <td>-3.171e+12</td> <td> 9.87e+05</td> <td>-3.21e+06</td> <td> 0.000</td> <td>-3.17e+12</td> <td>-3.17e+12</td>\n",
       "</tr>\n",
       "<tr>\n",
       "  <th>Specialization_Marketing Management</th>                      <td>  2.28e+13</td> <td> 1.43e+06</td> <td>  1.6e+07</td> <td> 0.000</td> <td> 2.28e+13</td> <td> 2.28e+13</td>\n",
       "</tr>\n",
       "<tr>\n",
       "  <th>Specialization_Media and Advertising</th>                     <td> 4.648e+11</td> <td> 1.01e+06</td> <td> 4.58e+05</td> <td> 0.000</td> <td> 4.65e+11</td> <td> 4.65e+11</td>\n",
       "</tr>\n",
       "<tr>\n",
       "  <th>Specialization_Operations Management</th>                     <td> 3.453e+13</td> <td> 1.24e+06</td> <td> 2.78e+07</td> <td> 0.000</td> <td> 3.45e+13</td> <td> 3.45e+13</td>\n",
       "</tr>\n",
       "<tr>\n",
       "  <th>Specialization_Others</th>                                    <td>-3.737e+13</td> <td> 2.52e+06</td> <td>-1.48e+07</td> <td> 0.000</td> <td>-3.74e+13</td> <td>-3.74e+13</td>\n",
       "</tr>\n",
       "<tr>\n",
       "  <th>Specialization_Retail Management</th>                         <td> 4.223e+12</td> <td> 9.15e+05</td> <td> 4.62e+06</td> <td> 0.000</td> <td> 4.22e+12</td> <td> 4.22e+12</td>\n",
       "</tr>\n",
       "<tr>\n",
       "  <th>Specialization_Rural and Agribusiness</th>                    <td> -2.07e+13</td> <td> 8.94e+05</td> <td>-2.32e+07</td> <td> 0.000</td> <td>-2.07e+13</td> <td>-2.07e+13</td>\n",
       "</tr>\n",
       "<tr>\n",
       "  <th>Specialization_Services Excellence</th>                       <td> 2.386e+13</td> <td> 8.54e+05</td> <td> 2.79e+07</td> <td> 0.000</td> <td> 2.39e+13</td> <td> 2.39e+13</td>\n",
       "</tr>\n",
       "<tr>\n",
       "  <th>Specialization_Supply Chain Management</th>                   <td> 3.437e+13</td> <td> 1.13e+06</td> <td> 3.04e+07</td> <td> 0.000</td> <td> 3.44e+13</td> <td> 3.44e+13</td>\n",
       "</tr>\n",
       "<tr>\n",
       "  <th>Specialization_Travel and Tourism</th>                        <td> 9.901e+12</td> <td> 1.02e+06</td> <td> 9.73e+06</td> <td> 0.000</td> <td>  9.9e+12</td> <td>  9.9e+12</td>\n",
       "</tr>\n",
       "<tr>\n",
       "  <th>How did you hear about X Education_Email</th>                 <td>-2.418e+13</td> <td> 9.14e+05</td> <td>-2.65e+07</td> <td> 0.000</td> <td>-2.42e+13</td> <td>-2.42e+13</td>\n",
       "</tr>\n",
       "<tr>\n",
       "  <th>How did you hear about X Education_Multiple Sources</th>      <td>-1.595e+13</td> <td>  1.4e+06</td> <td>-1.14e+07</td> <td> 0.000</td> <td>-1.59e+13</td> <td>-1.59e+13</td>\n",
       "</tr>\n",
       "<tr>\n",
       "  <th>How did you hear about X Education_Online Search</th>         <td> -2.58e+13</td> <td> 2.69e+06</td> <td>-9.59e+06</td> <td> 0.000</td> <td>-2.58e+13</td> <td>-2.58e+13</td>\n",
       "</tr>\n",
       "<tr>\n",
       "  <th>How did you hear about X Education_Other</th>                 <td>-1.571e+13</td> <td> 1.54e+06</td> <td>-1.02e+07</td> <td> 0.000</td> <td>-1.57e+13</td> <td>-1.57e+13</td>\n",
       "</tr>\n",
       "<tr>\n",
       "  <th>How did you hear about X Education_Others</th>                <td>-4.305e+13</td> <td>    4e+06</td> <td>-1.08e+07</td> <td> 0.000</td> <td>-4.31e+13</td> <td>-4.31e+13</td>\n",
       "</tr>\n",
       "<tr>\n",
       "  <th>How did you hear about X Education_SMS</th>                   <td> 3.924e+12</td> <td> 9.28e+05</td> <td> 4.23e+06</td> <td> 0.000</td> <td> 3.92e+12</td> <td> 3.92e+12</td>\n",
       "</tr>\n",
       "<tr>\n",
       "  <th>How did you hear about X Education_Social Media</th>          <td> -3.79e+13</td> <td> 1.12e+06</td> <td> -3.4e+07</td> <td> 0.000</td> <td>-3.79e+13</td> <td>-3.79e+13</td>\n",
       "</tr>\n",
       "<tr>\n",
       "  <th>How did you hear about X Education_Student of SomeSchool</th> <td>-1.477e+13</td> <td> 1.84e+06</td> <td>-8.01e+06</td> <td> 0.000</td> <td>-1.48e+13</td> <td>-1.48e+13</td>\n",
       "</tr>\n",
       "<tr>\n",
       "  <th>How did you hear about X Education_Word Of Mouth</th>         <td>-6.295e+12</td> <td> 1.92e+06</td> <td>-3.28e+06</td> <td> 0.000</td> <td> -6.3e+12</td> <td> -6.3e+12</td>\n",
       "</tr>\n",
       "<tr>\n",
       "  <th>What is your current occupation_Housewife</th>                <td>   1.1e+14</td> <td> 1.11e+06</td> <td>  9.9e+07</td> <td> 0.000</td> <td>  1.1e+14</td> <td>  1.1e+14</td>\n",
       "</tr>\n",
       "<tr>\n",
       "  <th>What is your current occupation_Other</th>                    <td> 4.494e+13</td> <td> 1.18e+06</td> <td>  3.8e+07</td> <td> 0.000</td> <td> 4.49e+13</td> <td> 4.49e+13</td>\n",
       "</tr>\n",
       "<tr>\n",
       "  <th>What is your current occupation_Student</th>                  <td>-7.962e+13</td> <td> 3.65e+06</td> <td>-2.18e+07</td> <td> 0.000</td> <td>-7.96e+13</td> <td>-7.96e+13</td>\n",
       "</tr>\n",
       "<tr>\n",
       "  <th>What is your current occupation_Unemployed</th>               <td>-2.273e+14</td> <td> 7.25e+06</td> <td>-3.14e+07</td> <td> 0.000</td> <td>-2.27e+14</td> <td>-2.27e+14</td>\n",
       "</tr>\n",
       "<tr>\n",
       "  <th>What is your current occupation_Working Professional</th>     <td> 1.588e+13</td> <td> 6.39e+06</td> <td> 2.49e+06</td> <td> 0.000</td> <td> 1.59e+13</td> <td> 1.59e+13</td>\n",
       "</tr>\n",
       "<tr>\n",
       "  <th>Search_Yes</th>                                               <td> 2.372e+12</td> <td> 8.23e+05</td> <td> 2.88e+06</td> <td> 0.000</td> <td> 2.37e+12</td> <td> 2.37e+12</td>\n",
       "</tr>\n",
       "<tr>\n",
       "  <th>Newspaper Article_Yes</th>                                    <td> 6.666e+13</td> <td> 8.09e+05</td> <td> 8.24e+07</td> <td> 0.000</td> <td> 6.67e+13</td> <td> 6.67e+13</td>\n",
       "</tr>\n",
       "<tr>\n",
       "  <th>X Education Forums_Yes</th>                                   <td>    0.0303</td> <td> 4.89e-10</td> <td> 6.19e+07</td> <td> 0.000</td> <td>    0.030</td> <td>    0.030</td>\n",
       "</tr>\n",
       "<tr>\n",
       "  <th>Newspaper_Yes</th>                                            <td>-5.067e+13</td> <td> 8.09e+05</td> <td>-6.26e+07</td> <td> 0.000</td> <td>-5.07e+13</td> <td>-5.07e+13</td>\n",
       "</tr>\n",
       "<tr>\n",
       "  <th>Digital Advertisement_Yes</th>                                <td>-1.102e+13</td> <td>  8.1e+05</td> <td>-1.36e+07</td> <td> 0.000</td> <td> -1.1e+13</td> <td> -1.1e+13</td>\n",
       "</tr>\n",
       "<tr>\n",
       "  <th>Through Recommendations_Yes</th>                              <td> 3.498e+13</td> <td> 8.19e+05</td> <td> 4.27e+07</td> <td> 0.000</td> <td>  3.5e+13</td> <td>  3.5e+13</td>\n",
       "</tr>\n",
       "<tr>\n",
       "  <th>Lead Profile_Lateral Student</th>                             <td>-1.769e+14</td> <td>  1.2e+06</td> <td>-1.47e+08</td> <td> 0.000</td> <td>-1.77e+14</td> <td>-1.77e+14</td>\n",
       "</tr>\n",
       "<tr>\n",
       "  <th>Lead Profile_Other Leads</th>                                 <td>-9.476e+14</td> <td> 3.91e+06</td> <td>-2.42e+08</td> <td> 0.000</td> <td>-9.48e+14</td> <td>-9.48e+14</td>\n",
       "</tr>\n",
       "<tr>\n",
       "  <th>Lead Profile_Others</th>                                      <td>-1.808e+15</td> <td> 7.44e+06</td> <td>-2.43e+08</td> <td> 0.000</td> <td>-1.81e+15</td> <td>-1.81e+15</td>\n",
       "</tr>\n",
       "<tr>\n",
       "  <th>Lead Profile_Potential Lead</th>                              <td>-1.382e+15</td> <td> 6.46e+06</td> <td>-2.14e+08</td> <td> 0.000</td> <td>-1.38e+15</td> <td>-1.38e+15</td>\n",
       "</tr>\n",
       "<tr>\n",
       "  <th>Lead Profile_Student of SomeSchool</th>                       <td>-7.687e+14</td> <td>  2.8e+06</td> <td>-2.75e+08</td> <td> 0.000</td> <td>-7.69e+14</td> <td>-7.69e+14</td>\n",
       "</tr>\n",
       "<tr>\n",
       "  <th>A free copy of Mastering The Interview_Yes</th>               <td>-1.699e+13</td> <td> 1.48e+06</td> <td>-1.15e+07</td> <td> 0.000</td> <td> -1.7e+13</td> <td> -1.7e+13</td>\n",
       "</tr>\n",
       "<tr>\n",
       "  <th>Last Notable Activity_Email Bounced</th>                      <td>-2.136e+12</td> <td> 6.15e+06</td> <td>-3.47e+05</td> <td> 0.000</td> <td>-2.14e+12</td> <td>-2.14e+12</td>\n",
       "</tr>\n",
       "<tr>\n",
       "  <th>Last Notable Activity_Email Link Clicked</th>                 <td>-6.326e+13</td> <td> 9.91e+06</td> <td>-6.38e+06</td> <td> 0.000</td> <td>-6.33e+13</td> <td>-6.33e+13</td>\n",
       "</tr>\n",
       "<tr>\n",
       "  <th>Last Notable Activity_Email Marked Spam</th>                  <td>-4.128e+11</td> <td> 7.01e+05</td> <td>-5.89e+05</td> <td> 0.000</td> <td>-4.13e+11</td> <td>-4.13e+11</td>\n",
       "</tr>\n",
       "<tr>\n",
       "  <th>Last Notable Activity_Email Opened</th>                       <td>-1.026e+14</td> <td> 3.35e+07</td> <td>-3.07e+06</td> <td> 0.000</td> <td>-1.03e+14</td> <td>-1.03e+14</td>\n",
       "</tr>\n",
       "<tr>\n",
       "  <th>Last Notable Activity_Email Received</th>                     <td>-1.251e+13</td> <td> 5.75e+05</td> <td>-2.18e+07</td> <td> 0.000</td> <td>-1.25e+13</td> <td>-1.25e+13</td>\n",
       "</tr>\n",
       "<tr>\n",
       "  <th>Last Notable Activity_Form Submitted on Website</th>          <td>-3.669e+13</td> <td> 1.19e+06</td> <td>-3.08e+07</td> <td> 0.000</td> <td>-3.67e+13</td> <td>-3.67e+13</td>\n",
       "</tr>\n",
       "<tr>\n",
       "  <th>Last Notable Activity_Had a Phone Conversation</th>           <td> 5.887e+13</td> <td> 2.51e+06</td> <td> 2.35e+07</td> <td> 0.000</td> <td> 5.89e+13</td> <td> 5.89e+13</td>\n",
       "</tr>\n",
       "<tr>\n",
       "  <th>Last Notable Activity_Modified</th>                           <td>-1.681e+14</td> <td> 3.51e+07</td> <td>-4.79e+06</td> <td> 0.000</td> <td>-1.68e+14</td> <td>-1.68e+14</td>\n",
       "</tr>\n",
       "<tr>\n",
       "  <th>Last Notable Activity_Olark Chat Conversation</th>            <td>-5.966e+13</td> <td> 9.93e+06</td> <td>-6.01e+06</td> <td> 0.000</td> <td>-5.97e+13</td> <td>-5.97e+13</td>\n",
       "</tr>\n",
       "<tr>\n",
       "  <th>Last Notable Activity_Page Visited on Website</th>            <td>-1.071e+13</td> <td> 1.37e+07</td> <td>-7.83e+05</td> <td> 0.000</td> <td>-1.07e+13</td> <td>-1.07e+13</td>\n",
       "</tr>\n",
       "<tr>\n",
       "  <th>Last Notable Activity_Resubscribed to emails</th>             <td>-2.894e+12</td> <td> 5.71e+05</td> <td>-5.07e+06</td> <td> 0.000</td> <td>-2.89e+12</td> <td>-2.89e+12</td>\n",
       "</tr>\n",
       "<tr>\n",
       "  <th>Last Notable Activity_SMS Sent</th>                           <td> 3.803e+14</td> <td> 3.08e+07</td> <td> 1.23e+07</td> <td> 0.000</td> <td>  3.8e+14</td> <td>  3.8e+14</td>\n",
       "</tr>\n",
       "<tr>\n",
       "  <th>Last Notable Activity_Unreachable</th>                        <td> 7.579e+13</td> <td> 4.64e+06</td> <td> 1.63e+07</td> <td> 0.000</td> <td> 7.58e+13</td> <td> 7.58e+13</td>\n",
       "</tr>\n",
       "<tr>\n",
       "  <th>Last Notable Activity_Unsubscribed</th>                       <td> 4.408e+13</td> <td> 5.43e+06</td> <td> 8.11e+06</td> <td> 0.000</td> <td> 4.41e+13</td> <td> 4.41e+13</td>\n",
       "</tr>\n",
       "<tr>\n",
       "  <th>Last Notable Activity_View in browser link Clicked</th>       <td>-3.712e+13</td> <td> 1.28e+06</td> <td> -2.9e+07</td> <td> 0.000</td> <td>-3.71e+13</td> <td>-3.71e+13</td>\n",
       "</tr>\n",
       "</table>"
      ],
      "text/plain": [
       "<class 'statsmodels.iolib.summary.Summary'>\n",
       "\"\"\"\n",
       "                 Generalized Linear Model Regression Results                  \n",
       "==============================================================================\n",
       "Dep. Variable:              Converted   No. Observations:                 6930\n",
       "Model:                            GLM   Df Residuals:                     6830\n",
       "Model Family:                Binomial   Df Model:                           99\n",
       "Link Function:                  logit   Scale:                          1.0000\n",
       "Method:                          IRLS   Log-Likelihood:                    nan\n",
       "Date:                Tue, 07 Sep 2021   Deviance:                          nan\n",
       "Time:                        13:39:46   Pearson chi2:                 6.63e+18\n",
       "No. Iterations:                   100                                         \n",
       "Covariance Type:            nonrobust                                         \n",
       "============================================================================================================================\n",
       "                                                               coef    std err          z      P>|z|      [0.025      0.975]\n",
       "----------------------------------------------------------------------------------------------------------------------------\n",
       "const                                                     -1.54e+14   8.06e+05  -1.91e+08      0.000   -1.54e+14   -1.54e+14\n",
       "TotalVisits                                              -1.517e+13    1.4e+06  -1.08e+07      0.000   -1.52e+13   -1.52e+13\n",
       "Total Time Spent on Website                               6.105e+13   9.28e+05   6.58e+07      0.000    6.11e+13    6.11e+13\n",
       "Page Views Per Visit                                      8.177e+13    1.5e+06   5.44e+07      0.000    8.18e+13    8.18e+13\n",
       "Lead Origin_Landing Page Submission                      -1.547e+14    1.9e+06  -8.16e+07      0.000   -1.55e+14   -1.55e+14\n",
       "Lead Origin_Lead Add Form                                 3.991e+14   3.71e+06   1.08e+08      0.000    3.99e+14    3.99e+14\n",
       "Lead Origin_Lead Import                                    1.72e+13   3.63e+06   4.73e+06      0.000    1.72e+13    1.72e+13\n",
       "Lead Origin_Quick Add Form                                7.338e+13   8.24e+05    8.9e+07      0.000    7.34e+13    7.34e+13\n",
       "Lead Source_Direct Traffic                               -1.685e+15   2.23e+07  -7.54e+07      0.000   -1.69e+15   -1.69e+15\n",
       "Lead Source_Facebook                                     -3.175e+14   5.23e+06  -6.07e+07      0.000   -3.17e+14   -3.17e+14\n",
       "Lead Source_Google                                       -1.742e+15   2.29e+07  -7.59e+07      0.000   -1.74e+15   -1.74e+15\n",
       "Lead Source_Live Chat                                    -1.016e+13   9.89e+05  -1.03e+07      0.000   -1.02e+13   -1.02e+13\n",
       "Lead Source_NC_EDM                                        7.661e+12   1.01e+06    7.6e+06      0.000    7.66e+12    7.66e+12\n",
       "Lead Source_Olark Chat                                   -1.247e+15   1.95e+07  -6.41e+07      0.000   -1.25e+15   -1.25e+15\n",
       "Lead Source_Organic Search                                -1.29e+15   1.66e+07  -7.78e+07      0.000   -1.29e+15   -1.29e+15\n",
       "Lead Source_Pay per Click Ads                            -8.704e+13      1e+06  -8.67e+07      0.000    -8.7e+13    -8.7e+13\n",
       "Lead Source_Press_Release                                -9.891e+13   1.17e+06  -8.42e+07      0.000   -9.89e+13   -9.89e+13\n",
       "Lead Source_Reference                                    -9.915e+14    1.1e+07     -9e+07      0.000   -9.91e+14   -9.91e+14\n",
       "Lead Source_Referral Sites                               -4.347e+14   5.65e+06   -7.7e+07      0.000   -4.35e+14   -4.35e+14\n",
       "Lead Source_Social Media                                 -6.151e+13   1.17e+06  -5.26e+07      0.000   -6.15e+13   -6.15e+13\n",
       "Lead Source_WeLearn                                      -6.841e+12      1e+06  -6.81e+06      0.000   -6.84e+12   -6.84e+12\n",
       "Lead Source_Welingak Website                             -4.909e+14   5.88e+06  -8.35e+07      0.000   -4.91e+14   -4.91e+14\n",
       "Lead Source_bing                                         -8.774e+13   1.56e+06  -5.63e+07      0.000   -8.77e+13   -8.77e+13\n",
       "Lead Source_blog                                         -8.578e+13      1e+06  -8.54e+07      0.000   -8.58e+13   -8.58e+13\n",
       "Lead Source_google                                       -1.552e+14   1.32e+06  -1.18e+08      0.000   -1.55e+14   -1.55e+14\n",
       "Lead Source_testone                                      -4.378e+13   1.01e+06  -4.33e+07      0.000   -4.38e+13   -4.38e+13\n",
       "Lead Source_welearnblog_Home                                -5.2625   1.62e-07  -3.24e+07      0.000      -5.263      -5.263\n",
       "Lead Source_youtubechannel                               -7.537e+13   1.02e+06  -7.42e+07      0.000   -7.54e+13   -7.54e+13\n",
       "Do Not Email_Yes                                          -1.23e+14   1.15e+06  -1.07e+08      0.000   -1.23e+14   -1.23e+14\n",
       "Do Not Call_Yes                                           3.619e+13   8.12e+05   4.46e+07      0.000    3.62e+13    3.62e+13\n",
       "Last Activity_Converted to Lead                          -1.005e+15   5.97e+06  -1.68e+08      0.000      -1e+15      -1e+15\n",
       "Last Activity_Email Bounced                              -8.793e+14   5.18e+06   -1.7e+08      0.000   -8.79e+14   -8.79e+14\n",
       "Last Activity_Email Link Clicked                         -7.949e+14   4.81e+06  -1.65e+08      0.000   -7.95e+14   -7.95e+14\n",
       "Last Activity_Email Marked Spam                          -4.128e+11   7.01e+05  -5.89e+05      0.000   -4.13e+11   -4.13e+11\n",
       "Last Activity_Email Opened                               -2.152e+15   1.34e+07   -1.6e+08      0.000   -2.15e+15   -2.15e+15\n",
       "Last Activity_Email Received                             -1.251e+13   5.75e+05  -2.18e+07      0.000   -1.25e+13   -1.25e+13\n",
       "Last Activity_Form Submitted on Website                  -5.101e+14   3.11e+06  -1.64e+08      0.000    -5.1e+14    -5.1e+14\n",
       "Last Activity_Had a Phone Conversation                   -2.382e+14   1.81e+06  -1.32e+08      0.000   -2.38e+14   -2.38e+14\n",
       "Last Activity_Olark Chat Conversation                    -1.509e+15   8.46e+06  -1.78e+08      0.000   -1.51e+15   -1.51e+15\n",
       "Last Activity_Page Visited on Website                    -1.191e+15   7.12e+06  -1.67e+08      0.000   -1.19e+15   -1.19e+15\n",
       "Last Activity_Resubscribed to emails                     -2.894e+12   5.71e+05  -5.07e+06      0.000   -2.89e+12   -2.89e+12\n",
       "Last Activity_SMS Sent                                   -2.003e+15   1.27e+07  -1.58e+08      0.000      -2e+15      -2e+15\n",
       "Last Activity_Unreachable                                -4.455e+14   2.91e+06  -1.53e+08      0.000   -4.45e+14   -4.45e+14\n",
       "Last Activity_Unsubscribed                               -3.922e+14   2.81e+06   -1.4e+08      0.000   -3.92e+14   -3.92e+14\n",
       "Last Activity_View in browser link Clicked               -1.552e+14   1.14e+06  -1.36e+08      0.000   -1.55e+14   -1.55e+14\n",
       "Last Activity_Visited Booth in Tradeshow                 -1.103e+14   8.74e+05  -1.26e+08      0.000    -1.1e+14    -1.1e+14\n",
       "Specialization_Business Administration                    1.203e+13   1.18e+06   1.02e+07      0.000     1.2e+13     1.2e+13\n",
       "Specialization_E-Business                                 1.652e+13   8.71e+05    1.9e+07      0.000    1.65e+13    1.65e+13\n",
       "Specialization_E-COMMERCE                                 2.302e+13   9.35e+05   2.46e+07      0.000     2.3e+13     2.3e+13\n",
       "Specialization_Finance Management                         7.714e+13    1.5e+06   5.13e+07      0.000    7.71e+13    7.71e+13\n",
       "Specialization_Healthcare Management                      1.549e+13   9.81e+05   1.58e+07      0.000    1.55e+13    1.55e+13\n",
       "Specialization_Hospitality Management                     7.281e+12   9.32e+05   7.82e+06      0.000    7.28e+12    7.28e+12\n",
       "Specialization_Human Resource Management                  7.056e+12   1.44e+06    4.9e+06      0.000    7.06e+12    7.06e+12\n",
       "Specialization_IT Projects Management                     3.436e+13   1.14e+06   3.01e+07      0.000    3.44e+13    3.44e+13\n",
       "Specialization_International Business                    -3.171e+12   9.87e+05  -3.21e+06      0.000   -3.17e+12   -3.17e+12\n",
       "Specialization_Marketing Management                        2.28e+13   1.43e+06    1.6e+07      0.000    2.28e+13    2.28e+13\n",
       "Specialization_Media and Advertising                      4.648e+11   1.01e+06   4.58e+05      0.000    4.65e+11    4.65e+11\n",
       "Specialization_Operations Management                      3.453e+13   1.24e+06   2.78e+07      0.000    3.45e+13    3.45e+13\n",
       "Specialization_Others                                    -3.737e+13   2.52e+06  -1.48e+07      0.000   -3.74e+13   -3.74e+13\n",
       "Specialization_Retail Management                          4.223e+12   9.15e+05   4.62e+06      0.000    4.22e+12    4.22e+12\n",
       "Specialization_Rural and Agribusiness                     -2.07e+13   8.94e+05  -2.32e+07      0.000   -2.07e+13   -2.07e+13\n",
       "Specialization_Services Excellence                        2.386e+13   8.54e+05   2.79e+07      0.000    2.39e+13    2.39e+13\n",
       "Specialization_Supply Chain Management                    3.437e+13   1.13e+06   3.04e+07      0.000    3.44e+13    3.44e+13\n",
       "Specialization_Travel and Tourism                         9.901e+12   1.02e+06   9.73e+06      0.000     9.9e+12     9.9e+12\n",
       "How did you hear about X Education_Email                 -2.418e+13   9.14e+05  -2.65e+07      0.000   -2.42e+13   -2.42e+13\n",
       "How did you hear about X Education_Multiple Sources      -1.595e+13    1.4e+06  -1.14e+07      0.000   -1.59e+13   -1.59e+13\n",
       "How did you hear about X Education_Online Search          -2.58e+13   2.69e+06  -9.59e+06      0.000   -2.58e+13   -2.58e+13\n",
       "How did you hear about X Education_Other                 -1.571e+13   1.54e+06  -1.02e+07      0.000   -1.57e+13   -1.57e+13\n",
       "How did you hear about X Education_Others                -4.305e+13      4e+06  -1.08e+07      0.000   -4.31e+13   -4.31e+13\n",
       "How did you hear about X Education_SMS                    3.924e+12   9.28e+05   4.23e+06      0.000    3.92e+12    3.92e+12\n",
       "How did you hear about X Education_Social Media           -3.79e+13   1.12e+06   -3.4e+07      0.000   -3.79e+13   -3.79e+13\n",
       "How did you hear about X Education_Student of SomeSchool -1.477e+13   1.84e+06  -8.01e+06      0.000   -1.48e+13   -1.48e+13\n",
       "How did you hear about X Education_Word Of Mouth         -6.295e+12   1.92e+06  -3.28e+06      0.000    -6.3e+12    -6.3e+12\n",
       "What is your current occupation_Housewife                   1.1e+14   1.11e+06    9.9e+07      0.000     1.1e+14     1.1e+14\n",
       "What is your current occupation_Other                     4.494e+13   1.18e+06    3.8e+07      0.000    4.49e+13    4.49e+13\n",
       "What is your current occupation_Student                  -7.962e+13   3.65e+06  -2.18e+07      0.000   -7.96e+13   -7.96e+13\n",
       "What is your current occupation_Unemployed               -2.273e+14   7.25e+06  -3.14e+07      0.000   -2.27e+14   -2.27e+14\n",
       "What is your current occupation_Working Professional      1.588e+13   6.39e+06   2.49e+06      0.000    1.59e+13    1.59e+13\n",
       "Search_Yes                                                2.372e+12   8.23e+05   2.88e+06      0.000    2.37e+12    2.37e+12\n",
       "Newspaper Article_Yes                                     6.666e+13   8.09e+05   8.24e+07      0.000    6.67e+13    6.67e+13\n",
       "X Education Forums_Yes                                       0.0303   4.89e-10   6.19e+07      0.000       0.030       0.030\n",
       "Newspaper_Yes                                            -5.067e+13   8.09e+05  -6.26e+07      0.000   -5.07e+13   -5.07e+13\n",
       "Digital Advertisement_Yes                                -1.102e+13    8.1e+05  -1.36e+07      0.000    -1.1e+13    -1.1e+13\n",
       "Through Recommendations_Yes                               3.498e+13   8.19e+05   4.27e+07      0.000     3.5e+13     3.5e+13\n",
       "Lead Profile_Lateral Student                             -1.769e+14    1.2e+06  -1.47e+08      0.000   -1.77e+14   -1.77e+14\n",
       "Lead Profile_Other Leads                                 -9.476e+14   3.91e+06  -2.42e+08      0.000   -9.48e+14   -9.48e+14\n",
       "Lead Profile_Others                                      -1.808e+15   7.44e+06  -2.43e+08      0.000   -1.81e+15   -1.81e+15\n",
       "Lead Profile_Potential Lead                              -1.382e+15   6.46e+06  -2.14e+08      0.000   -1.38e+15   -1.38e+15\n",
       "Lead Profile_Student of SomeSchool                       -7.687e+14    2.8e+06  -2.75e+08      0.000   -7.69e+14   -7.69e+14\n",
       "A free copy of Mastering The Interview_Yes               -1.699e+13   1.48e+06  -1.15e+07      0.000    -1.7e+13    -1.7e+13\n",
       "Last Notable Activity_Email Bounced                      -2.136e+12   6.15e+06  -3.47e+05      0.000   -2.14e+12   -2.14e+12\n",
       "Last Notable Activity_Email Link Clicked                 -6.326e+13   9.91e+06  -6.38e+06      0.000   -6.33e+13   -6.33e+13\n",
       "Last Notable Activity_Email Marked Spam                  -4.128e+11   7.01e+05  -5.89e+05      0.000   -4.13e+11   -4.13e+11\n",
       "Last Notable Activity_Email Opened                       -1.026e+14   3.35e+07  -3.07e+06      0.000   -1.03e+14   -1.03e+14\n",
       "Last Notable Activity_Email Received                     -1.251e+13   5.75e+05  -2.18e+07      0.000   -1.25e+13   -1.25e+13\n",
       "Last Notable Activity_Form Submitted on Website          -3.669e+13   1.19e+06  -3.08e+07      0.000   -3.67e+13   -3.67e+13\n",
       "Last Notable Activity_Had a Phone Conversation            5.887e+13   2.51e+06   2.35e+07      0.000    5.89e+13    5.89e+13\n",
       "Last Notable Activity_Modified                           -1.681e+14   3.51e+07  -4.79e+06      0.000   -1.68e+14   -1.68e+14\n",
       "Last Notable Activity_Olark Chat Conversation            -5.966e+13   9.93e+06  -6.01e+06      0.000   -5.97e+13   -5.97e+13\n",
       "Last Notable Activity_Page Visited on Website            -1.071e+13   1.37e+07  -7.83e+05      0.000   -1.07e+13   -1.07e+13\n",
       "Last Notable Activity_Resubscribed to emails             -2.894e+12   5.71e+05  -5.07e+06      0.000   -2.89e+12   -2.89e+12\n",
       "Last Notable Activity_SMS Sent                            3.803e+14   3.08e+07   1.23e+07      0.000     3.8e+14     3.8e+14\n",
       "Last Notable Activity_Unreachable                         7.579e+13   4.64e+06   1.63e+07      0.000    7.58e+13    7.58e+13\n",
       "Last Notable Activity_Unsubscribed                        4.408e+13   5.43e+06   8.11e+06      0.000    4.41e+13    4.41e+13\n",
       "Last Notable Activity_View in browser link Clicked       -3.712e+13   1.28e+06   -2.9e+07      0.000   -3.71e+13   -3.71e+13\n",
       "============================================================================================================================\n",
       "\"\"\""
      ]
     },
     "execution_count": 85,
     "metadata": {},
     "output_type": "execute_result"
    }
   ],
   "source": [
    "#builing a model with all the variables\n",
    "X_train_sm_all = sm.add_constant(X_train)\n",
    "logm1 = sm.GLM(y_train,X_train_sm_all, family = sm.families.Binomial())\n",
    "res = logm1.fit()\n",
    "res.summary()"
   ]
  },
  {
   "cell_type": "code",
   "execution_count": 86,
   "metadata": {},
   "outputs": [
    {
     "data": {
      "text/html": [
       "<div>\n",
       "<style scoped>\n",
       "    .dataframe tbody tr th:only-of-type {\n",
       "        vertical-align: middle;\n",
       "    }\n",
       "\n",
       "    .dataframe tbody tr th {\n",
       "        vertical-align: top;\n",
       "    }\n",
       "\n",
       "    .dataframe thead th {\n",
       "        text-align: right;\n",
       "    }\n",
       "</style>\n",
       "<table border=\"1\" class=\"dataframe\">\n",
       "  <thead>\n",
       "    <tr style=\"text-align: right;\">\n",
       "      <th></th>\n",
       "      <th>Features</th>\n",
       "      <th>VIF</th>\n",
       "    </tr>\n",
       "  </thead>\n",
       "  <tbody>\n",
       "    <tr>\n",
       "      <th>35</th>\n",
       "      <td>Last Activity_Email Received</td>\n",
       "      <td>inf</td>\n",
       "    </tr>\n",
       "    <tr>\n",
       "      <th>94</th>\n",
       "      <td>Last Notable Activity_Email Received</td>\n",
       "      <td>inf</td>\n",
       "    </tr>\n",
       "    <tr>\n",
       "      <th>33</th>\n",
       "      <td>Last Activity_Email Marked Spam</td>\n",
       "      <td>inf</td>\n",
       "    </tr>\n",
       "    <tr>\n",
       "      <th>40</th>\n",
       "      <td>Last Activity_Resubscribed to emails</td>\n",
       "      <td>inf</td>\n",
       "    </tr>\n",
       "    <tr>\n",
       "      <th>92</th>\n",
       "      <td>Last Notable Activity_Email Marked Spam</td>\n",
       "      <td>inf</td>\n",
       "    </tr>\n",
       "    <tr>\n",
       "      <th>...</th>\n",
       "      <td>...</td>\n",
       "      <td>...</td>\n",
       "    </tr>\n",
       "    <tr>\n",
       "      <th>81</th>\n",
       "      <td>Newspaper_Yes</td>\n",
       "      <td>1.01</td>\n",
       "    </tr>\n",
       "    <tr>\n",
       "      <th>79</th>\n",
       "      <td>Newspaper Article_Yes</td>\n",
       "      <td>1.01</td>\n",
       "    </tr>\n",
       "    <tr>\n",
       "      <th>0</th>\n",
       "      <td>const</td>\n",
       "      <td>1.00</td>\n",
       "    </tr>\n",
       "    <tr>\n",
       "      <th>26</th>\n",
       "      <td>Lead Source_welearnblog_Home</td>\n",
       "      <td>NaN</td>\n",
       "    </tr>\n",
       "    <tr>\n",
       "      <th>80</th>\n",
       "      <td>X Education Forums_Yes</td>\n",
       "      <td>NaN</td>\n",
       "    </tr>\n",
       "  </tbody>\n",
       "</table>\n",
       "<p>105 rows × 2 columns</p>\n",
       "</div>"
      ],
      "text/plain": [
       "                                   Features   VIF\n",
       "35             Last Activity_Email Received   inf\n",
       "94     Last Notable Activity_Email Received   inf\n",
       "33          Last Activity_Email Marked Spam   inf\n",
       "40     Last Activity_Resubscribed to emails   inf\n",
       "92  Last Notable Activity_Email Marked Spam   inf\n",
       "..                                      ...   ...\n",
       "81                            Newspaper_Yes  1.01\n",
       "79                    Newspaper Article_Yes  1.01\n",
       "0                                     const  1.00\n",
       "26             Lead Source_welearnblog_Home   NaN\n",
       "80                   X Education Forums_Yes   NaN\n",
       "\n",
       "[105 rows x 2 columns]"
      ]
     },
     "execution_count": 86,
     "metadata": {},
     "output_type": "execute_result"
    }
   ],
   "source": [
    "# all p values are less than 5% , let's check vif\n",
    "vif = pd.DataFrame()\n",
    "vif['Features'] = X_train_sm_all.columns\n",
    "vif['VIF'] = [variance_inflation_factor(X_train_sm_all.values, i) for i in range(X_train_sm_all.shape[1])]\n",
    "vif['VIF'] = round(vif['VIF'], 2)\n",
    "vif = vif.sort_values(by = \"VIF\", ascending = False)\n",
    "vif"
   ]
  },
  {
   "cell_type": "code",
   "execution_count": 87,
   "metadata": {},
   "outputs": [],
   "source": [
    "#some of cols  vif is infinity so we go with RFE method"
   ]
  },
  {
   "cell_type": "code",
   "execution_count": 88,
   "metadata": {},
   "outputs": [],
   "source": [
    "rfe = RFE(logreg, 15)             # running RFE with 15 variables as output\n",
    "rfe = rfe.fit(X_train, y_train)"
   ]
  },
  {
   "cell_type": "code",
   "execution_count": 89,
   "metadata": {},
   "outputs": [
    {
     "data": {
      "text/plain": [
       "[('TotalVisits', False, 6),\n",
       " ('Total Time Spent on Website', True, 1),\n",
       " ('Page Views Per Visit', False, 7),\n",
       " ('Lead Origin_Landing Page Submission', True, 1),\n",
       " ('Lead Origin_Lead Add Form', True, 1),\n",
       " ('Lead Origin_Lead Import', False, 43),\n",
       " ('Lead Origin_Quick Add Form', False, 22),\n",
       " ('Lead Source_Direct Traffic', False, 30),\n",
       " ('Lead Source_Facebook', False, 31),\n",
       " ('Lead Source_Google', False, 34),\n",
       " ('Lead Source_Live Chat', False, 45),\n",
       " ('Lead Source_NC_EDM', False, 21),\n",
       " ('Lead Source_Olark Chat', True, 1),\n",
       " ('Lead Source_Organic Search', False, 32),\n",
       " ('Lead Source_Pay per Click Ads', False, 38),\n",
       " ('Lead Source_Press_Release', False, 24),\n",
       " ('Lead Source_Reference', False, 33),\n",
       " ('Lead Source_Referral Sites', False, 35),\n",
       " ('Lead Source_Social Media', False, 77),\n",
       " ('Lead Source_WeLearn', False, 44),\n",
       " ('Lead Source_Welingak Website', True, 1),\n",
       " ('Lead Source_bing', False, 80),\n",
       " ('Lead Source_blog', False, 28),\n",
       " ('Lead Source_google', False, 15),\n",
       " ('Lead Source_testone', False, 36),\n",
       " ('Lead Source_welearnblog_Home', False, 89),\n",
       " ('Lead Source_youtubechannel', False, 29),\n",
       " ('Do Not Email_Yes', True, 1),\n",
       " ('Do Not Call_Yes', False, 16),\n",
       " ('Last Activity_Converted to Lead', False, 10),\n",
       " ('Last Activity_Email Bounced', False, 9),\n",
       " ('Last Activity_Email Link Clicked', False, 19),\n",
       " ('Last Activity_Email Marked Spam', False, 39),\n",
       " ('Last Activity_Email Opened', False, 13),\n",
       " ('Last Activity_Email Received', False, 70),\n",
       " ('Last Activity_Form Submitted on Website', False, 14),\n",
       " ('Last Activity_Had a Phone Conversation', False, 46),\n",
       " ('Last Activity_Olark Chat Conversation', True, 1),\n",
       " ('Last Activity_Page Visited on Website', False, 11),\n",
       " ('Last Activity_Resubscribed to emails', False, 53),\n",
       " ('Last Activity_SMS Sent', False, 26),\n",
       " ('Last Activity_Unreachable', False, 25),\n",
       " ('Last Activity_Unsubscribed', False, 27),\n",
       " ('Last Activity_View in browser link Clicked', False, 54),\n",
       " ('Last Activity_Visited Booth in Tradeshow', False, 41),\n",
       " ('Specialization_Business Administration', False, 75),\n",
       " ('Specialization_E-Business', False, 81),\n",
       " ('Specialization_E-COMMERCE', False, 82),\n",
       " ('Specialization_Finance Management', False, 71),\n",
       " ('Specialization_Healthcare Management', False, 88),\n",
       " ('Specialization_Hospitality Management', False, 42),\n",
       " ('Specialization_Human Resource Management', False, 72),\n",
       " ('Specialization_IT Projects Management', False, 83),\n",
       " ('Specialization_International Business', False, 60),\n",
       " ('Specialization_Marketing Management', False, 73),\n",
       " ('Specialization_Media and Advertising', False, 66),\n",
       " ('Specialization_Operations Management', False, 79),\n",
       " ('Specialization_Others', True, 1),\n",
       " ('Specialization_Retail Management', False, 37),\n",
       " ('Specialization_Rural and Agribusiness', False, 56),\n",
       " ('Specialization_Services Excellence', False, 86),\n",
       " ('Specialization_Supply Chain Management', False, 87),\n",
       " ('Specialization_Travel and Tourism', False, 74),\n",
       " ('How did you hear about X Education_Email', False, 85),\n",
       " ('How did you hear about X Education_Multiple Sources', False, 57),\n",
       " ('How did you hear about X Education_Online Search', False, 62),\n",
       " ('How did you hear about X Education_Other', False, 61),\n",
       " ('How did you hear about X Education_Others', False, 64),\n",
       " ('How did you hear about X Education_SMS', False, 55),\n",
       " ('How did you hear about X Education_Social Media', False, 78),\n",
       " ('How did you hear about X Education_Student of SomeSchool', False, 65),\n",
       " ('How did you hear about X Education_Word Of Mouth', False, 63),\n",
       " ('What is your current occupation_Housewife', False, 8),\n",
       " ('What is your current occupation_Other', False, 69),\n",
       " ('What is your current occupation_Student', False, 68),\n",
       " ('What is your current occupation_Unemployed', False, 3),\n",
       " ('What is your current occupation_Working Professional', True, 1),\n",
       " ('Search_Yes', False, 84),\n",
       " ('Newspaper Article_Yes', False, 18),\n",
       " ('X Education Forums_Yes', False, 90),\n",
       " ('Newspaper_Yes', False, 17),\n",
       " ('Digital Advertisement_Yes', False, 76),\n",
       " ('Through Recommendations_Yes', False, 58),\n",
       " ('Lead Profile_Lateral Student', False, 67),\n",
       " ('Lead Profile_Other Leads', True, 1),\n",
       " ('Lead Profile_Others', True, 1),\n",
       " ('Lead Profile_Potential Lead', True, 1),\n",
       " ('Lead Profile_Student of SomeSchool', True, 1),\n",
       " ('A free copy of Mastering The Interview_Yes', False, 12),\n",
       " ('Last Notable Activity_Email Bounced', False, 50),\n",
       " ('Last Notable Activity_Email Link Clicked', False, 4),\n",
       " ('Last Notable Activity_Email Marked Spam', False, 59),\n",
       " ('Last Notable Activity_Email Opened', True, 1),\n",
       " ('Last Notable Activity_Email Received', False, 52),\n",
       " ('Last Notable Activity_Form Submitted on Website', False, 40),\n",
       " ('Last Notable Activity_Had a Phone Conversation', False, 48),\n",
       " ('Last Notable Activity_Modified', True, 1),\n",
       " ('Last Notable Activity_Olark Chat Conversation', False, 5),\n",
       " ('Last Notable Activity_Page Visited on Website', False, 2),\n",
       " ('Last Notable Activity_Resubscribed to emails', False, 23),\n",
       " ('Last Notable Activity_SMS Sent', False, 49),\n",
       " ('Last Notable Activity_Unreachable', False, 47),\n",
       " ('Last Notable Activity_Unsubscribed', False, 51),\n",
       " ('Last Notable Activity_View in browser link Clicked', False, 20)]"
      ]
     },
     "execution_count": 89,
     "metadata": {},
     "output_type": "execute_result"
    }
   ],
   "source": [
    "list(zip(X_train.columns, rfe.support_, rfe.ranking_))"
   ]
  },
  {
   "cell_type": "code",
   "execution_count": 90,
   "metadata": {},
   "outputs": [
    {
     "data": {
      "text/plain": [
       "Index(['Total Time Spent on Website', 'Lead Origin_Landing Page Submission',\n",
       "       'Lead Origin_Lead Add Form', 'Lead Source_Olark Chat',\n",
       "       'Lead Source_Welingak Website', 'Do Not Email_Yes',\n",
       "       'Last Activity_Olark Chat Conversation', 'Specialization_Others',\n",
       "       'What is your current occupation_Working Professional',\n",
       "       'Lead Profile_Other Leads', 'Lead Profile_Others',\n",
       "       'Lead Profile_Potential Lead', 'Lead Profile_Student of SomeSchool',\n",
       "       'Last Notable Activity_Email Opened', 'Last Notable Activity_Modified'],\n",
       "      dtype='object')"
      ]
     },
     "execution_count": 90,
     "metadata": {},
     "output_type": "execute_result"
    }
   ],
   "source": [
    "col = X_train.columns[rfe.support_]\n",
    "col"
   ]
  },
  {
   "cell_type": "code",
   "execution_count": 91,
   "metadata": {},
   "outputs": [
    {
     "data": {
      "text/plain": [
       "Index(['TotalVisits', 'Page Views Per Visit', 'Lead Origin_Lead Import',\n",
       "       'Lead Origin_Quick Add Form', 'Lead Source_Direct Traffic',\n",
       "       'Lead Source_Facebook', 'Lead Source_Google', 'Lead Source_Live Chat',\n",
       "       'Lead Source_NC_EDM', 'Lead Source_Organic Search',\n",
       "       'Lead Source_Pay per Click Ads', 'Lead Source_Press_Release',\n",
       "       'Lead Source_Reference', 'Lead Source_Referral Sites',\n",
       "       'Lead Source_Social Media', 'Lead Source_WeLearn', 'Lead Source_bing',\n",
       "       'Lead Source_blog', 'Lead Source_google', 'Lead Source_testone',\n",
       "       'Lead Source_welearnblog_Home', 'Lead Source_youtubechannel',\n",
       "       'Do Not Call_Yes', 'Last Activity_Converted to Lead',\n",
       "       'Last Activity_Email Bounced', 'Last Activity_Email Link Clicked',\n",
       "       'Last Activity_Email Marked Spam', 'Last Activity_Email Opened',\n",
       "       'Last Activity_Email Received',\n",
       "       'Last Activity_Form Submitted on Website',\n",
       "       'Last Activity_Had a Phone Conversation',\n",
       "       'Last Activity_Page Visited on Website',\n",
       "       'Last Activity_Resubscribed to emails', 'Last Activity_SMS Sent',\n",
       "       'Last Activity_Unreachable', 'Last Activity_Unsubscribed',\n",
       "       'Last Activity_View in browser link Clicked',\n",
       "       'Last Activity_Visited Booth in Tradeshow',\n",
       "       'Specialization_Business Administration', 'Specialization_E-Business',\n",
       "       'Specialization_E-COMMERCE', 'Specialization_Finance Management',\n",
       "       'Specialization_Healthcare Management',\n",
       "       'Specialization_Hospitality Management',\n",
       "       'Specialization_Human Resource Management',\n",
       "       'Specialization_IT Projects Management',\n",
       "       'Specialization_International Business',\n",
       "       'Specialization_Marketing Management',\n",
       "       'Specialization_Media and Advertising',\n",
       "       'Specialization_Operations Management',\n",
       "       'Specialization_Retail Management',\n",
       "       'Specialization_Rural and Agribusiness',\n",
       "       'Specialization_Services Excellence',\n",
       "       'Specialization_Supply Chain Management',\n",
       "       'Specialization_Travel and Tourism',\n",
       "       'How did you hear about X Education_Email',\n",
       "       'How did you hear about X Education_Multiple Sources',\n",
       "       'How did you hear about X Education_Online Search',\n",
       "       'How did you hear about X Education_Other',\n",
       "       'How did you hear about X Education_Others',\n",
       "       'How did you hear about X Education_SMS',\n",
       "       'How did you hear about X Education_Social Media',\n",
       "       'How did you hear about X Education_Student of SomeSchool',\n",
       "       'How did you hear about X Education_Word Of Mouth',\n",
       "       'What is your current occupation_Housewife',\n",
       "       'What is your current occupation_Other',\n",
       "       'What is your current occupation_Student',\n",
       "       'What is your current occupation_Unemployed', 'Search_Yes',\n",
       "       'Newspaper Article_Yes', 'X Education Forums_Yes', 'Newspaper_Yes',\n",
       "       'Digital Advertisement_Yes', 'Through Recommendations_Yes',\n",
       "       'Lead Profile_Lateral Student',\n",
       "       'A free copy of Mastering The Interview_Yes',\n",
       "       'Last Notable Activity_Email Bounced',\n",
       "       'Last Notable Activity_Email Link Clicked',\n",
       "       'Last Notable Activity_Email Marked Spam',\n",
       "       'Last Notable Activity_Email Received',\n",
       "       'Last Notable Activity_Form Submitted on Website',\n",
       "       'Last Notable Activity_Had a Phone Conversation',\n",
       "       'Last Notable Activity_Olark Chat Conversation',\n",
       "       'Last Notable Activity_Page Visited on Website',\n",
       "       'Last Notable Activity_Resubscribed to emails',\n",
       "       'Last Notable Activity_SMS Sent', 'Last Notable Activity_Unreachable',\n",
       "       'Last Notable Activity_Unsubscribed',\n",
       "       'Last Notable Activity_View in browser link Clicked'],\n",
       "      dtype='object')"
      ]
     },
     "execution_count": 91,
     "metadata": {},
     "output_type": "execute_result"
    }
   ],
   "source": [
    "X_train.columns[~rfe.support_]"
   ]
  },
  {
   "cell_type": "code",
   "execution_count": 92,
   "metadata": {},
   "outputs": [
    {
     "data": {
      "text/html": [
       "<table class=\"simpletable\">\n",
       "<caption>Generalized Linear Model Regression Results</caption>\n",
       "<tr>\n",
       "  <th>Dep. Variable:</th>       <td>Converted</td>    <th>  No. Observations:  </th>  <td>  6930</td> \n",
       "</tr>\n",
       "<tr>\n",
       "  <th>Model:</th>                  <td>GLM</td>       <th>  Df Residuals:      </th>  <td>  6914</td> \n",
       "</tr>\n",
       "<tr>\n",
       "  <th>Model Family:</th>        <td>Binomial</td>     <th>  Df Model:          </th>  <td>    15</td> \n",
       "</tr>\n",
       "<tr>\n",
       "  <th>Link Function:</th>         <td>logit</td>      <th>  Scale:             </th> <td>  1.0000</td>\n",
       "</tr>\n",
       "<tr>\n",
       "  <th>Method:</th>                <td>IRLS</td>       <th>  Log-Likelihood:    </th> <td> -2763.5</td>\n",
       "</tr>\n",
       "<tr>\n",
       "  <th>Date:</th>            <td>Tue, 07 Sep 2021</td> <th>  Deviance:          </th> <td>  5526.9</td>\n",
       "</tr>\n",
       "<tr>\n",
       "  <th>Time:</th>                <td>13:40:20</td>     <th>  Pearson chi2:      </th> <td>8.26e+03</td>\n",
       "</tr>\n",
       "<tr>\n",
       "  <th>No. Iterations:</th>          <td>7</td>        <th>                     </th>     <td> </td>   \n",
       "</tr>\n",
       "<tr>\n",
       "  <th>Covariance Type:</th>     <td>nonrobust</td>    <th>                     </th>     <td> </td>   \n",
       "</tr>\n",
       "</table>\n",
       "<table class=\"simpletable\">\n",
       "<tr>\n",
       "                            <td></td>                              <th>coef</th>     <th>std err</th>      <th>z</th>      <th>P>|z|</th>  <th>[0.025</th>    <th>0.975]</th>  \n",
       "</tr>\n",
       "<tr>\n",
       "  <th>const</th>                                                <td>   -0.6146</td> <td>    0.040</td> <td>  -15.485</td> <td> 0.000</td> <td>   -0.692</td> <td>   -0.537</td>\n",
       "</tr>\n",
       "<tr>\n",
       "  <th>Total Time Spent on Website</th>                          <td>    1.0734</td> <td>    0.039</td> <td>   27.659</td> <td> 0.000</td> <td>    0.997</td> <td>    1.149</td>\n",
       "</tr>\n",
       "<tr>\n",
       "  <th>Lead Origin_Landing Page Submission</th>                  <td>   -0.3610</td> <td>    0.064</td> <td>   -5.673</td> <td> 0.000</td> <td>   -0.486</td> <td>   -0.236</td>\n",
       "</tr>\n",
       "<tr>\n",
       "  <th>Lead Origin_Lead Add Form</th>                            <td>    0.7861</td> <td>    0.055</td> <td>   14.228</td> <td> 0.000</td> <td>    0.678</td> <td>    0.894</td>\n",
       "</tr>\n",
       "<tr>\n",
       "  <th>Lead Source_Olark Chat</th>                               <td>    0.3897</td> <td>    0.046</td> <td>    8.449</td> <td> 0.000</td> <td>    0.299</td> <td>    0.480</td>\n",
       "</tr>\n",
       "<tr>\n",
       "  <th>Lead Source_Welingak Website</th>                         <td>    0.3691</td> <td>    0.092</td> <td>    4.028</td> <td> 0.000</td> <td>    0.189</td> <td>    0.549</td>\n",
       "</tr>\n",
       "<tr>\n",
       "  <th>Do Not Email_Yes</th>                                     <td>   -0.4085</td> <td>    0.043</td> <td>   -9.413</td> <td> 0.000</td> <td>   -0.494</td> <td>   -0.323</td>\n",
       "</tr>\n",
       "<tr>\n",
       "  <th>Last Activity_Olark Chat Conversation</th>                <td>   -0.4626</td> <td>    0.051</td> <td>   -9.047</td> <td> 0.000</td> <td>   -0.563</td> <td>   -0.362</td>\n",
       "</tr>\n",
       "<tr>\n",
       "  <th>Specialization_Others</th>                                <td>   -0.2677</td> <td>    0.060</td> <td>   -4.430</td> <td> 0.000</td> <td>   -0.386</td> <td>   -0.149</td>\n",
       "</tr>\n",
       "<tr>\n",
       "  <th>What is your current occupation_Working Professional</th> <td>    0.5754</td> <td>    0.047</td> <td>   12.132</td> <td> 0.000</td> <td>    0.482</td> <td>    0.668</td>\n",
       "</tr>\n",
       "<tr>\n",
       "  <th>Lead Profile_Other Leads</th>                             <td>   -0.6422</td> <td>    0.240</td> <td>   -2.672</td> <td> 0.008</td> <td>   -1.113</td> <td>   -0.171</td>\n",
       "</tr>\n",
       "<tr>\n",
       "  <th>Lead Profile_Others</th>                                  <td>   -1.4101</td> <td>    0.462</td> <td>   -3.050</td> <td> 0.002</td> <td>   -2.316</td> <td>   -0.504</td>\n",
       "</tr>\n",
       "<tr>\n",
       "  <th>Lead Profile_Potential Lead</th>                          <td>   -0.5786</td> <td>    0.402</td> <td>   -1.440</td> <td> 0.150</td> <td>   -1.366</td> <td>    0.209</td>\n",
       "</tr>\n",
       "<tr>\n",
       "  <th>Lead Profile_Student of SomeSchool</th>                   <td>   -0.8666</td> <td>    0.181</td> <td>   -4.796</td> <td> 0.000</td> <td>   -1.221</td> <td>   -0.512</td>\n",
       "</tr>\n",
       "<tr>\n",
       "  <th>Last Notable Activity_Email Opened</th>                   <td>   -0.5333</td> <td>    0.038</td> <td>  -14.149</td> <td> 0.000</td> <td>   -0.607</td> <td>   -0.459</td>\n",
       "</tr>\n",
       "<tr>\n",
       "  <th>Last Notable Activity_Modified</th>                       <td>   -0.7748</td> <td>    0.042</td> <td>  -18.467</td> <td> 0.000</td> <td>   -0.857</td> <td>   -0.693</td>\n",
       "</tr>\n",
       "</table>"
      ],
      "text/plain": [
       "<class 'statsmodels.iolib.summary.Summary'>\n",
       "\"\"\"\n",
       "                 Generalized Linear Model Regression Results                  \n",
       "==============================================================================\n",
       "Dep. Variable:              Converted   No. Observations:                 6930\n",
       "Model:                            GLM   Df Residuals:                     6914\n",
       "Model Family:                Binomial   Df Model:                           15\n",
       "Link Function:                  logit   Scale:                          1.0000\n",
       "Method:                          IRLS   Log-Likelihood:                -2763.5\n",
       "Date:                Tue, 07 Sep 2021   Deviance:                       5526.9\n",
       "Time:                        13:40:20   Pearson chi2:                 8.26e+03\n",
       "No. Iterations:                     7                                         \n",
       "Covariance Type:            nonrobust                                         \n",
       "========================================================================================================================\n",
       "                                                           coef    std err          z      P>|z|      [0.025      0.975]\n",
       "------------------------------------------------------------------------------------------------------------------------\n",
       "const                                                   -0.6146      0.040    -15.485      0.000      -0.692      -0.537\n",
       "Total Time Spent on Website                              1.0734      0.039     27.659      0.000       0.997       1.149\n",
       "Lead Origin_Landing Page Submission                     -0.3610      0.064     -5.673      0.000      -0.486      -0.236\n",
       "Lead Origin_Lead Add Form                                0.7861      0.055     14.228      0.000       0.678       0.894\n",
       "Lead Source_Olark Chat                                   0.3897      0.046      8.449      0.000       0.299       0.480\n",
       "Lead Source_Welingak Website                             0.3691      0.092      4.028      0.000       0.189       0.549\n",
       "Do Not Email_Yes                                        -0.4085      0.043     -9.413      0.000      -0.494      -0.323\n",
       "Last Activity_Olark Chat Conversation                   -0.4626      0.051     -9.047      0.000      -0.563      -0.362\n",
       "Specialization_Others                                   -0.2677      0.060     -4.430      0.000      -0.386      -0.149\n",
       "What is your current occupation_Working Professional     0.5754      0.047     12.132      0.000       0.482       0.668\n",
       "Lead Profile_Other Leads                                -0.6422      0.240     -2.672      0.008      -1.113      -0.171\n",
       "Lead Profile_Others                                     -1.4101      0.462     -3.050      0.002      -2.316      -0.504\n",
       "Lead Profile_Potential Lead                             -0.5786      0.402     -1.440      0.150      -1.366       0.209\n",
       "Lead Profile_Student of SomeSchool                      -0.8666      0.181     -4.796      0.000      -1.221      -0.512\n",
       "Last Notable Activity_Email Opened                      -0.5333      0.038    -14.149      0.000      -0.607      -0.459\n",
       "Last Notable Activity_Modified                          -0.7748      0.042    -18.467      0.000      -0.857      -0.693\n",
       "========================================================================================================================\n",
       "\"\"\""
      ]
     },
     "execution_count": 92,
     "metadata": {},
     "output_type": "execute_result"
    }
   ],
   "source": [
    "X_train_sm = sm.add_constant(X_train[col])\n",
    "logm1 = sm.GLM(y_train,X_train_sm, family = sm.families.Binomial())\n",
    "res = logm1.fit()\n",
    "res.summary()"
   ]
  },
  {
   "cell_type": "code",
   "execution_count": 93,
   "metadata": {},
   "outputs": [
    {
     "data": {
      "text/html": [
       "<div>\n",
       "<style scoped>\n",
       "    .dataframe tbody tr th:only-of-type {\n",
       "        vertical-align: middle;\n",
       "    }\n",
       "\n",
       "    .dataframe tbody tr th {\n",
       "        vertical-align: top;\n",
       "    }\n",
       "\n",
       "    .dataframe thead th {\n",
       "        text-align: right;\n",
       "    }\n",
       "</style>\n",
       "<table border=\"1\" class=\"dataframe\">\n",
       "  <thead>\n",
       "    <tr style=\"text-align: right;\">\n",
       "      <th></th>\n",
       "      <th>Features</th>\n",
       "      <th>VIF</th>\n",
       "    </tr>\n",
       "  </thead>\n",
       "  <tbody>\n",
       "    <tr>\n",
       "      <th>11</th>\n",
       "      <td>Lead Profile_Others</td>\n",
       "      <td>39.34</td>\n",
       "    </tr>\n",
       "    <tr>\n",
       "      <th>12</th>\n",
       "      <td>Lead Profile_Potential Lead</td>\n",
       "      <td>29.62</td>\n",
       "    </tr>\n",
       "    <tr>\n",
       "      <th>10</th>\n",
       "      <td>Lead Profile_Other Leads</td>\n",
       "      <td>11.25</td>\n",
       "    </tr>\n",
       "    <tr>\n",
       "      <th>13</th>\n",
       "      <td>Lead Profile_Student of SomeSchool</td>\n",
       "      <td>6.00</td>\n",
       "    </tr>\n",
       "    <tr>\n",
       "      <th>2</th>\n",
       "      <td>Lead Origin_Landing Page Submission</td>\n",
       "      <td>3.51</td>\n",
       "    </tr>\n",
       "    <tr>\n",
       "      <th>8</th>\n",
       "      <td>Specialization_Others</td>\n",
       "      <td>3.19</td>\n",
       "    </tr>\n",
       "    <tr>\n",
       "      <th>4</th>\n",
       "      <td>Lead Source_Olark Chat</td>\n",
       "      <td>1.90</td>\n",
       "    </tr>\n",
       "    <tr>\n",
       "      <th>3</th>\n",
       "      <td>Lead Origin_Lead Add Form</td>\n",
       "      <td>1.81</td>\n",
       "    </tr>\n",
       "    <tr>\n",
       "      <th>15</th>\n",
       "      <td>Last Notable Activity_Modified</td>\n",
       "      <td>1.47</td>\n",
       "    </tr>\n",
       "    <tr>\n",
       "      <th>14</th>\n",
       "      <td>Last Notable Activity_Email Opened</td>\n",
       "      <td>1.44</td>\n",
       "    </tr>\n",
       "    <tr>\n",
       "      <th>7</th>\n",
       "      <td>Last Activity_Olark Chat Conversation</td>\n",
       "      <td>1.42</td>\n",
       "    </tr>\n",
       "    <tr>\n",
       "      <th>5</th>\n",
       "      <td>Lead Source_Welingak Website</td>\n",
       "      <td>1.32</td>\n",
       "    </tr>\n",
       "    <tr>\n",
       "      <th>1</th>\n",
       "      <td>Total Time Spent on Website</td>\n",
       "      <td>1.27</td>\n",
       "    </tr>\n",
       "    <tr>\n",
       "      <th>9</th>\n",
       "      <td>What is your current occupation_Working Profes...</td>\n",
       "      <td>1.18</td>\n",
       "    </tr>\n",
       "    <tr>\n",
       "      <th>6</th>\n",
       "      <td>Do Not Email_Yes</td>\n",
       "      <td>1.08</td>\n",
       "    </tr>\n",
       "    <tr>\n",
       "      <th>0</th>\n",
       "      <td>const</td>\n",
       "      <td>1.00</td>\n",
       "    </tr>\n",
       "  </tbody>\n",
       "</table>\n",
       "</div>"
      ],
      "text/plain": [
       "                                             Features    VIF\n",
       "11                                Lead Profile_Others  39.34\n",
       "12                        Lead Profile_Potential Lead  29.62\n",
       "10                           Lead Profile_Other Leads  11.25\n",
       "13                 Lead Profile_Student of SomeSchool   6.00\n",
       "2                 Lead Origin_Landing Page Submission   3.51\n",
       "8                               Specialization_Others   3.19\n",
       "4                              Lead Source_Olark Chat   1.90\n",
       "3                           Lead Origin_Lead Add Form   1.81\n",
       "15                     Last Notable Activity_Modified   1.47\n",
       "14                 Last Notable Activity_Email Opened   1.44\n",
       "7               Last Activity_Olark Chat Conversation   1.42\n",
       "5                        Lead Source_Welingak Website   1.32\n",
       "1                         Total Time Spent on Website   1.27\n",
       "9   What is your current occupation_Working Profes...   1.18\n",
       "6                                    Do Not Email_Yes   1.08\n",
       "0                                               const   1.00"
      ]
     },
     "execution_count": 93,
     "metadata": {},
     "output_type": "execute_result"
    }
   ],
   "source": [
    "vif = pd.DataFrame()\n",
    "vif['Features'] = X_train_sm.columns\n",
    "vif['VIF'] = [variance_inflation_factor(X_train_sm.values, i) for i in range(X_train_sm.shape[1])]\n",
    "vif['VIF'] = round(vif['VIF'], 2)\n",
    "vif = vif.sort_values(by = \"VIF\", ascending = False)\n",
    "vif"
   ]
  },
  {
   "cell_type": "code",
   "execution_count": 94,
   "metadata": {},
   "outputs": [],
   "source": [
    "col = col.drop('Lead Profile_Potential Lead',1)"
   ]
  },
  {
   "cell_type": "code",
   "execution_count": 95,
   "metadata": {},
   "outputs": [
    {
     "data": {
      "text/html": [
       "<table class=\"simpletable\">\n",
       "<caption>Generalized Linear Model Regression Results</caption>\n",
       "<tr>\n",
       "  <th>Dep. Variable:</th>       <td>Converted</td>    <th>  No. Observations:  </th>  <td>  6930</td> \n",
       "</tr>\n",
       "<tr>\n",
       "  <th>Model:</th>                  <td>GLM</td>       <th>  Df Residuals:      </th>  <td>  6915</td> \n",
       "</tr>\n",
       "<tr>\n",
       "  <th>Model Family:</th>        <td>Binomial</td>     <th>  Df Model:          </th>  <td>    14</td> \n",
       "</tr>\n",
       "<tr>\n",
       "  <th>Link Function:</th>         <td>logit</td>      <th>  Scale:             </th> <td>  1.0000</td>\n",
       "</tr>\n",
       "<tr>\n",
       "  <th>Method:</th>                <td>IRLS</td>       <th>  Log-Likelihood:    </th> <td> -2765.0</td>\n",
       "</tr>\n",
       "<tr>\n",
       "  <th>Date:</th>            <td>Tue, 07 Sep 2021</td> <th>  Deviance:          </th> <td>  5530.0</td>\n",
       "</tr>\n",
       "<tr>\n",
       "  <th>Time:</th>                <td>13:40:21</td>     <th>  Pearson chi2:      </th> <td>8.28e+03</td>\n",
       "</tr>\n",
       "<tr>\n",
       "  <th>No. Iterations:</th>          <td>7</td>        <th>                     </th>     <td> </td>   \n",
       "</tr>\n",
       "<tr>\n",
       "  <th>Covariance Type:</th>     <td>nonrobust</td>    <th>                     </th>     <td> </td>   \n",
       "</tr>\n",
       "</table>\n",
       "<table class=\"simpletable\">\n",
       "<tr>\n",
       "                            <td></td>                              <th>coef</th>     <th>std err</th>      <th>z</th>      <th>P>|z|</th>  <th>[0.025</th>    <th>0.975]</th>  \n",
       "</tr>\n",
       "<tr>\n",
       "  <th>const</th>                                                <td>   -0.6192</td> <td>    0.039</td> <td>  -15.692</td> <td> 0.000</td> <td>   -0.697</td> <td>   -0.542</td>\n",
       "</tr>\n",
       "<tr>\n",
       "  <th>Total Time Spent on Website</th>                          <td>    1.0748</td> <td>    0.039</td> <td>   27.693</td> <td> 0.000</td> <td>    0.999</td> <td>    1.151</td>\n",
       "</tr>\n",
       "<tr>\n",
       "  <th>Lead Origin_Landing Page Submission</th>                  <td>   -0.3631</td> <td>    0.064</td> <td>   -5.712</td> <td> 0.000</td> <td>   -0.488</td> <td>   -0.239</td>\n",
       "</tr>\n",
       "<tr>\n",
       "  <th>Lead Origin_Lead Add Form</th>                            <td>    0.7872</td> <td>    0.055</td> <td>   14.259</td> <td> 0.000</td> <td>    0.679</td> <td>    0.895</td>\n",
       "</tr>\n",
       "<tr>\n",
       "  <th>Lead Source_Olark Chat</th>                               <td>    0.3898</td> <td>    0.046</td> <td>    8.458</td> <td> 0.000</td> <td>    0.299</td> <td>    0.480</td>\n",
       "</tr>\n",
       "<tr>\n",
       "  <th>Lead Source_Welingak Website</th>                         <td>    0.3689</td> <td>    0.092</td> <td>    4.026</td> <td> 0.000</td> <td>    0.189</td> <td>    0.549</td>\n",
       "</tr>\n",
       "<tr>\n",
       "  <th>Do Not Email_Yes</th>                                     <td>   -0.4091</td> <td>    0.043</td> <td>   -9.418</td> <td> 0.000</td> <td>   -0.494</td> <td>   -0.324</td>\n",
       "</tr>\n",
       "<tr>\n",
       "  <th>Last Activity_Olark Chat Conversation</th>                <td>   -0.4639</td> <td>    0.051</td> <td>   -9.065</td> <td> 0.000</td> <td>   -0.564</td> <td>   -0.364</td>\n",
       "</tr>\n",
       "<tr>\n",
       "  <th>Specialization_Others</th>                                <td>   -0.2676</td> <td>    0.060</td> <td>   -4.433</td> <td> 0.000</td> <td>   -0.386</td> <td>   -0.149</td>\n",
       "</tr>\n",
       "<tr>\n",
       "  <th>What is your current occupation_Working Professional</th> <td>    0.5767</td> <td>    0.047</td> <td>   12.171</td> <td> 0.000</td> <td>    0.484</td> <td>    0.670</td>\n",
       "</tr>\n",
       "<tr>\n",
       "  <th>Lead Profile_Other Leads</th>                             <td>   -0.3019</td> <td>    0.036</td> <td>   -8.377</td> <td> 0.000</td> <td>   -0.373</td> <td>   -0.231</td>\n",
       "</tr>\n",
       "<tr>\n",
       "  <th>Lead Profile_Others</th>                                  <td>   -0.7507</td> <td>    0.043</td> <td>  -17.603</td> <td> 0.000</td> <td>   -0.834</td> <td>   -0.667</td>\n",
       "</tr>\n",
       "<tr>\n",
       "  <th>Lead Profile_Student of SomeSchool</th>                   <td>   -0.6308</td> <td>    0.074</td> <td>   -8.484</td> <td> 0.000</td> <td>   -0.777</td> <td>   -0.485</td>\n",
       "</tr>\n",
       "<tr>\n",
       "  <th>Last Notable Activity_Email Opened</th>                   <td>   -0.5318</td> <td>    0.038</td> <td>  -14.115</td> <td> 0.000</td> <td>   -0.606</td> <td>   -0.458</td>\n",
       "</tr>\n",
       "<tr>\n",
       "  <th>Last Notable Activity_Modified</th>                       <td>   -0.7749</td> <td>    0.042</td> <td>  -18.462</td> <td> 0.000</td> <td>   -0.857</td> <td>   -0.693</td>\n",
       "</tr>\n",
       "</table>"
      ],
      "text/plain": [
       "<class 'statsmodels.iolib.summary.Summary'>\n",
       "\"\"\"\n",
       "                 Generalized Linear Model Regression Results                  \n",
       "==============================================================================\n",
       "Dep. Variable:              Converted   No. Observations:                 6930\n",
       "Model:                            GLM   Df Residuals:                     6915\n",
       "Model Family:                Binomial   Df Model:                           14\n",
       "Link Function:                  logit   Scale:                          1.0000\n",
       "Method:                          IRLS   Log-Likelihood:                -2765.0\n",
       "Date:                Tue, 07 Sep 2021   Deviance:                       5530.0\n",
       "Time:                        13:40:21   Pearson chi2:                 8.28e+03\n",
       "No. Iterations:                     7                                         \n",
       "Covariance Type:            nonrobust                                         \n",
       "========================================================================================================================\n",
       "                                                           coef    std err          z      P>|z|      [0.025      0.975]\n",
       "------------------------------------------------------------------------------------------------------------------------\n",
       "const                                                   -0.6192      0.039    -15.692      0.000      -0.697      -0.542\n",
       "Total Time Spent on Website                              1.0748      0.039     27.693      0.000       0.999       1.151\n",
       "Lead Origin_Landing Page Submission                     -0.3631      0.064     -5.712      0.000      -0.488      -0.239\n",
       "Lead Origin_Lead Add Form                                0.7872      0.055     14.259      0.000       0.679       0.895\n",
       "Lead Source_Olark Chat                                   0.3898      0.046      8.458      0.000       0.299       0.480\n",
       "Lead Source_Welingak Website                             0.3689      0.092      4.026      0.000       0.189       0.549\n",
       "Do Not Email_Yes                                        -0.4091      0.043     -9.418      0.000      -0.494      -0.324\n",
       "Last Activity_Olark Chat Conversation                   -0.4639      0.051     -9.065      0.000      -0.564      -0.364\n",
       "Specialization_Others                                   -0.2676      0.060     -4.433      0.000      -0.386      -0.149\n",
       "What is your current occupation_Working Professional     0.5767      0.047     12.171      0.000       0.484       0.670\n",
       "Lead Profile_Other Leads                                -0.3019      0.036     -8.377      0.000      -0.373      -0.231\n",
       "Lead Profile_Others                                     -0.7507      0.043    -17.603      0.000      -0.834      -0.667\n",
       "Lead Profile_Student of SomeSchool                      -0.6308      0.074     -8.484      0.000      -0.777      -0.485\n",
       "Last Notable Activity_Email Opened                      -0.5318      0.038    -14.115      0.000      -0.606      -0.458\n",
       "Last Notable Activity_Modified                          -0.7749      0.042    -18.462      0.000      -0.857      -0.693\n",
       "========================================================================================================================\n",
       "\"\"\""
      ]
     },
     "execution_count": 95,
     "metadata": {},
     "output_type": "execute_result"
    }
   ],
   "source": [
    "X_train_sm = sm.add_constant(X_train[col])\n",
    "logm3 = sm.GLM(y_train,X_train_sm, family = sm.families.Binomial())\n",
    "res = logm3.fit()\n",
    "res.summary()"
   ]
  },
  {
   "cell_type": "code",
   "execution_count": 96,
   "metadata": {},
   "outputs": [
    {
     "data": {
      "text/html": [
       "<div>\n",
       "<style scoped>\n",
       "    .dataframe tbody tr th:only-of-type {\n",
       "        vertical-align: middle;\n",
       "    }\n",
       "\n",
       "    .dataframe tbody tr th {\n",
       "        vertical-align: top;\n",
       "    }\n",
       "\n",
       "    .dataframe thead th {\n",
       "        text-align: right;\n",
       "    }\n",
       "</style>\n",
       "<table border=\"1\" class=\"dataframe\">\n",
       "  <thead>\n",
       "    <tr style=\"text-align: right;\">\n",
       "      <th></th>\n",
       "      <th>Features</th>\n",
       "      <th>VIF</th>\n",
       "    </tr>\n",
       "  </thead>\n",
       "  <tbody>\n",
       "    <tr>\n",
       "      <th>2</th>\n",
       "      <td>Lead Origin_Landing Page Submission</td>\n",
       "      <td>3.51</td>\n",
       "    </tr>\n",
       "    <tr>\n",
       "      <th>8</th>\n",
       "      <td>Specialization_Others</td>\n",
       "      <td>3.19</td>\n",
       "    </tr>\n",
       "    <tr>\n",
       "      <th>4</th>\n",
       "      <td>Lead Source_Olark Chat</td>\n",
       "      <td>1.90</td>\n",
       "    </tr>\n",
       "    <tr>\n",
       "      <th>3</th>\n",
       "      <td>Lead Origin_Lead Add Form</td>\n",
       "      <td>1.81</td>\n",
       "    </tr>\n",
       "    <tr>\n",
       "      <th>11</th>\n",
       "      <td>Lead Profile_Others</td>\n",
       "      <td>1.73</td>\n",
       "    </tr>\n",
       "    <tr>\n",
       "      <th>14</th>\n",
       "      <td>Last Notable Activity_Modified</td>\n",
       "      <td>1.47</td>\n",
       "    </tr>\n",
       "    <tr>\n",
       "      <th>13</th>\n",
       "      <td>Last Notable Activity_Email Opened</td>\n",
       "      <td>1.43</td>\n",
       "    </tr>\n",
       "    <tr>\n",
       "      <th>7</th>\n",
       "      <td>Last Activity_Olark Chat Conversation</td>\n",
       "      <td>1.42</td>\n",
       "    </tr>\n",
       "    <tr>\n",
       "      <th>5</th>\n",
       "      <td>Lead Source_Welingak Website</td>\n",
       "      <td>1.32</td>\n",
       "    </tr>\n",
       "    <tr>\n",
       "      <th>10</th>\n",
       "      <td>Lead Profile_Other Leads</td>\n",
       "      <td>1.28</td>\n",
       "    </tr>\n",
       "    <tr>\n",
       "      <th>1</th>\n",
       "      <td>Total Time Spent on Website</td>\n",
       "      <td>1.27</td>\n",
       "    </tr>\n",
       "    <tr>\n",
       "      <th>12</th>\n",
       "      <td>Lead Profile_Student of SomeSchool</td>\n",
       "      <td>1.18</td>\n",
       "    </tr>\n",
       "    <tr>\n",
       "      <th>9</th>\n",
       "      <td>What is your current occupation_Working Profes...</td>\n",
       "      <td>1.17</td>\n",
       "    </tr>\n",
       "    <tr>\n",
       "      <th>6</th>\n",
       "      <td>Do Not Email_Yes</td>\n",
       "      <td>1.08</td>\n",
       "    </tr>\n",
       "    <tr>\n",
       "      <th>0</th>\n",
       "      <td>const</td>\n",
       "      <td>1.00</td>\n",
       "    </tr>\n",
       "  </tbody>\n",
       "</table>\n",
       "</div>"
      ],
      "text/plain": [
       "                                             Features   VIF\n",
       "2                 Lead Origin_Landing Page Submission  3.51\n",
       "8                               Specialization_Others  3.19\n",
       "4                              Lead Source_Olark Chat  1.90\n",
       "3                           Lead Origin_Lead Add Form  1.81\n",
       "11                                Lead Profile_Others  1.73\n",
       "14                     Last Notable Activity_Modified  1.47\n",
       "13                 Last Notable Activity_Email Opened  1.43\n",
       "7               Last Activity_Olark Chat Conversation  1.42\n",
       "5                        Lead Source_Welingak Website  1.32\n",
       "10                           Lead Profile_Other Leads  1.28\n",
       "1                         Total Time Spent on Website  1.27\n",
       "12                 Lead Profile_Student of SomeSchool  1.18\n",
       "9   What is your current occupation_Working Profes...  1.17\n",
       "6                                    Do Not Email_Yes  1.08\n",
       "0                                               const  1.00"
      ]
     },
     "execution_count": 96,
     "metadata": {},
     "output_type": "execute_result"
    }
   ],
   "source": [
    "vif = pd.DataFrame()\n",
    "vif['Features'] = X_train_sm.columns\n",
    "vif['VIF'] = [variance_inflation_factor(X_train_sm.values, i) for i in range(X_train_sm.shape[1])]\n",
    "vif['VIF'] = round(vif['VIF'], 2)\n",
    "vif = vif.sort_values(by = \"VIF\", ascending = False)\n",
    "vif"
   ]
  },
  {
   "cell_type": "code",
   "execution_count": 97,
   "metadata": {},
   "outputs": [],
   "source": [
    "#Vif and p-values are under cointrol, Let's predict the train data"
   ]
  },
  {
   "cell_type": "code",
   "execution_count": 98,
   "metadata": {},
   "outputs": [
    {
     "data": {
      "text/plain": [
       "6583    0.329433\n",
       "5948    0.031413\n",
       "1119    0.034137\n",
       "5387    0.709881\n",
       "4424    0.885869\n",
       "7201    0.180363\n",
       "5532    0.065326\n",
       "1303    0.119649\n",
       "2815    0.656454\n",
       "3018    0.102980\n",
       "dtype: float64"
      ]
     },
     "execution_count": 98,
     "metadata": {},
     "output_type": "execute_result"
    }
   ],
   "source": [
    "y_train_pred = res.predict(X_train_sm)\n",
    "y_train_pred[:10]"
   ]
  },
  {
   "cell_type": "code",
   "execution_count": 99,
   "metadata": {},
   "outputs": [
    {
     "data": {
      "text/plain": [
       "array([0.32943311, 0.03141276, 0.03413696, 0.70988122, 0.88586912,\n",
       "       0.18036252, 0.06532602, 0.11964858, 0.65645382, 0.10297986])"
      ]
     },
     "execution_count": 99,
     "metadata": {},
     "output_type": "execute_result"
    }
   ],
   "source": [
    "y_train_pred = y_train_pred.values.reshape(-1)\n",
    "y_train_pred[:10]"
   ]
  },
  {
   "cell_type": "code",
   "execution_count": 100,
   "metadata": {},
   "outputs": [
    {
     "data": {
      "text/html": [
       "<div>\n",
       "<style scoped>\n",
       "    .dataframe tbody tr th:only-of-type {\n",
       "        vertical-align: middle;\n",
       "    }\n",
       "\n",
       "    .dataframe tbody tr th {\n",
       "        vertical-align: top;\n",
       "    }\n",
       "\n",
       "    .dataframe thead th {\n",
       "        text-align: right;\n",
       "    }\n",
       "</style>\n",
       "<table border=\"1\" class=\"dataframe\">\n",
       "  <thead>\n",
       "    <tr style=\"text-align: right;\">\n",
       "      <th></th>\n",
       "      <th>Converted</th>\n",
       "      <th>Converted_prob</th>\n",
       "      <th>Prospect ID</th>\n",
       "    </tr>\n",
       "  </thead>\n",
       "  <tbody>\n",
       "    <tr>\n",
       "      <th>0</th>\n",
       "      <td>1</td>\n",
       "      <td>0.329433</td>\n",
       "      <td>6583</td>\n",
       "    </tr>\n",
       "    <tr>\n",
       "      <th>1</th>\n",
       "      <td>0</td>\n",
       "      <td>0.031413</td>\n",
       "      <td>5948</td>\n",
       "    </tr>\n",
       "    <tr>\n",
       "      <th>2</th>\n",
       "      <td>0</td>\n",
       "      <td>0.034137</td>\n",
       "      <td>1119</td>\n",
       "    </tr>\n",
       "    <tr>\n",
       "      <th>3</th>\n",
       "      <td>0</td>\n",
       "      <td>0.709881</td>\n",
       "      <td>5387</td>\n",
       "    </tr>\n",
       "    <tr>\n",
       "      <th>4</th>\n",
       "      <td>1</td>\n",
       "      <td>0.885869</td>\n",
       "      <td>4424</td>\n",
       "    </tr>\n",
       "  </tbody>\n",
       "</table>\n",
       "</div>"
      ],
      "text/plain": [
       "   Converted  Converted_prob  Prospect ID\n",
       "0          1        0.329433         6583\n",
       "1          0        0.031413         5948\n",
       "2          0        0.034137         1119\n",
       "3          0        0.709881         5387\n",
       "4          1        0.885869         4424"
      ]
     },
     "execution_count": 100,
     "metadata": {},
     "output_type": "execute_result"
    }
   ],
   "source": [
    "y_train_pred_final = pd.DataFrame({'Converted':y_train.values, 'Converted_prob':y_train_pred})\n",
    "y_train_pred_final['Prospect ID'] = y_train.index\n",
    "y_train_pred_final.head()"
   ]
  },
  {
   "cell_type": "code",
   "execution_count": 101,
   "metadata": {},
   "outputs": [
    {
     "data": {
      "text/html": [
       "<div>\n",
       "<style scoped>\n",
       "    .dataframe tbody tr th:only-of-type {\n",
       "        vertical-align: middle;\n",
       "    }\n",
       "\n",
       "    .dataframe tbody tr th {\n",
       "        vertical-align: top;\n",
       "    }\n",
       "\n",
       "    .dataframe thead th {\n",
       "        text-align: right;\n",
       "    }\n",
       "</style>\n",
       "<table border=\"1\" class=\"dataframe\">\n",
       "  <thead>\n",
       "    <tr style=\"text-align: right;\">\n",
       "      <th></th>\n",
       "      <th>Converted</th>\n",
       "      <th>Converted_prob</th>\n",
       "      <th>Prospect ID</th>\n",
       "      <th>Predicted</th>\n",
       "    </tr>\n",
       "  </thead>\n",
       "  <tbody>\n",
       "    <tr>\n",
       "      <th>0</th>\n",
       "      <td>1</td>\n",
       "      <td>0.329433</td>\n",
       "      <td>6583</td>\n",
       "      <td>0</td>\n",
       "    </tr>\n",
       "    <tr>\n",
       "      <th>1</th>\n",
       "      <td>0</td>\n",
       "      <td>0.031413</td>\n",
       "      <td>5948</td>\n",
       "      <td>0</td>\n",
       "    </tr>\n",
       "    <tr>\n",
       "      <th>2</th>\n",
       "      <td>0</td>\n",
       "      <td>0.034137</td>\n",
       "      <td>1119</td>\n",
       "      <td>0</td>\n",
       "    </tr>\n",
       "    <tr>\n",
       "      <th>3</th>\n",
       "      <td>0</td>\n",
       "      <td>0.709881</td>\n",
       "      <td>5387</td>\n",
       "      <td>1</td>\n",
       "    </tr>\n",
       "    <tr>\n",
       "      <th>4</th>\n",
       "      <td>1</td>\n",
       "      <td>0.885869</td>\n",
       "      <td>4424</td>\n",
       "      <td>1</td>\n",
       "    </tr>\n",
       "  </tbody>\n",
       "</table>\n",
       "</div>"
      ],
      "text/plain": [
       "   Converted  Converted_prob  Prospect ID  Predicted\n",
       "0          1        0.329433         6583          0\n",
       "1          0        0.031413         5948          0\n",
       "2          0        0.034137         1119          0\n",
       "3          0        0.709881         5387          1\n",
       "4          1        0.885869         4424          1"
      ]
     },
     "execution_count": 101,
     "metadata": {},
     "output_type": "execute_result"
    }
   ],
   "source": [
    "#Intial cut-off is 0.5\n",
    "y_train_pred_final['Predicted'] = y_train_pred_final.Converted_prob.map(lambda x: 1 if x > 0.5 else 0)\n",
    "y_train_pred_final.head()"
   ]
  },
  {
   "cell_type": "code",
   "execution_count": 102,
   "metadata": {},
   "outputs": [
    {
     "name": "stdout",
     "output_type": "stream",
     "text": [
      "[[3803  464]\n",
      " [ 819 1844]]\n"
     ]
    }
   ],
   "source": [
    "from sklearn import metrics\n",
    "# Confusion matrix \n",
    "confusion = metrics.confusion_matrix(y_train_pred_final.Converted, y_train_pred_final.Predicted )\n",
    "print(confusion)"
   ]
  },
  {
   "cell_type": "code",
   "execution_count": 103,
   "metadata": {},
   "outputs": [
    {
     "name": "stdout",
     "output_type": "stream",
     "text": [
      "0.8148629148629148\n"
     ]
    }
   ],
   "source": [
    "print(metrics.accuracy_score(y_train_pred_final.Converted, y_train_pred_final.Predicted))"
   ]
  },
  {
   "cell_type": "code",
   "execution_count": 104,
   "metadata": {},
   "outputs": [],
   "source": [
    "TP = confusion[1,1] # true positive \n",
    "TN = confusion[0,0] # true negatives\n",
    "FP = confusion[0,1] # false positives\n",
    "FN = confusion[1,0] # false negatives"
   ]
  },
  {
   "cell_type": "markdown",
   "metadata": {},
   "source": [
    "##### Sensitivity"
   ]
  },
  {
   "cell_type": "code",
   "execution_count": 105,
   "metadata": {},
   "outputs": [
    {
     "data": {
      "text/plain": [
       "69.24521216672926"
      ]
     },
     "execution_count": 105,
     "metadata": {},
     "output_type": "execute_result"
    }
   ],
   "source": [
    "#sensitivity \n",
    "(TP / float(TP+FN))*100"
   ]
  },
  {
   "cell_type": "markdown",
   "metadata": {},
   "source": [
    "##### Specificity"
   ]
  },
  {
   "cell_type": "code",
   "execution_count": 106,
   "metadata": {},
   "outputs": [
    {
     "data": {
      "text/plain": [
       "89.12584954300445"
      ]
     },
     "execution_count": 106,
     "metadata": {},
     "output_type": "execute_result"
    }
   ],
   "source": [
    "#specificity\n",
    "(TN / float(TN+FP))*100"
   ]
  },
  {
   "cell_type": "markdown",
   "metadata": {},
   "source": [
    "##### False Postive Rate"
   ]
  },
  {
   "cell_type": "code",
   "execution_count": 107,
   "metadata": {},
   "outputs": [
    {
     "name": "stdout",
     "output_type": "stream",
     "text": [
      "0.10874150456995547\n"
     ]
    }
   ],
   "source": [
    "#False Postive Rate\n",
    "print(FP/ float(TN+FP))"
   ]
  },
  {
   "cell_type": "markdown",
   "metadata": {},
   "source": [
    "##### Positive Predictive Value"
   ]
  },
  {
   "cell_type": "code",
   "execution_count": 108,
   "metadata": {},
   "outputs": [
    {
     "name": "stdout",
     "output_type": "stream",
     "text": [
      "0.7989601386481803\n"
     ]
    }
   ],
   "source": [
    "# positive predictive value \n",
    "print (TP / float(TP+FP))"
   ]
  },
  {
   "cell_type": "markdown",
   "metadata": {},
   "source": [
    "##### Negative Predictive Value"
   ]
  },
  {
   "cell_type": "code",
   "execution_count": 109,
   "metadata": {},
   "outputs": [
    {
     "name": "stdout",
     "output_type": "stream",
     "text": [
      "0.8228039809606231\n"
     ]
    }
   ],
   "source": [
    "# Negative predictive value\n",
    "print (TN / float(TN+ FN))"
   ]
  },
  {
   "cell_type": "markdown",
   "metadata": {},
   "source": [
    "### ROC CURVE"
   ]
  },
  {
   "cell_type": "code",
   "execution_count": 110,
   "metadata": {},
   "outputs": [],
   "source": [
    "def draw_roc( actual, probs ):\n",
    "    fpr, tpr, thresholds = metrics.roc_curve( actual, probs,\n",
    "                                              drop_intermediate = False )\n",
    "    auc_score = metrics.roc_auc_score( actual, probs )\n",
    "    plt.figure(figsize=(5, 5))\n",
    "    plt.plot( fpr, tpr, label='ROC curve (area = %0.2f)' % auc_score )\n",
    "    plt.plot([0, 1], [0, 1], 'k--')\n",
    "    plt.xlim([0.0, 1.0])\n",
    "    plt.ylim([0.0, 1.05])\n",
    "    plt.xlabel('False Positive Rate or [1 - True Negative Rate]')\n",
    "    plt.ylabel('True Positive Rate')\n",
    "    plt.title('Receiver operating characteristic example')\n",
    "    plt.legend(loc=\"lower right\")\n",
    "    plt.show()\n",
    "\n",
    "    return None"
   ]
  },
  {
   "cell_type": "code",
   "execution_count": 111,
   "metadata": {},
   "outputs": [],
   "source": [
    "fpr, tpr, thresholds = metrics.roc_curve( y_train_pred_final.Converted, y_train_pred_final.Converted_prob, drop_intermediate = False )"
   ]
  },
  {
   "cell_type": "code",
   "execution_count": 112,
   "metadata": {},
   "outputs": [
    {
     "data": {
      "image/png": "[encoded data removed]",
      "text/plain": [
       "<Figure size 360x360 with 1 Axes>"
      ]
     },
     "metadata": {
      "needs_background": "light"
     },
     "output_type": "display_data"
    }
   ],
   "source": [
    "draw_roc(y_train_pred_final.Converted, y_train_pred_final.Converted_prob)"
   ]
  },
  {
   "cell_type": "code",
   "execution_count": 113,
   "metadata": {},
   "outputs": [
    {
     "data": {
      "text/html": [
       "<div>\n",
       "<style scoped>\n",
       "    .dataframe tbody tr th:only-of-type {\n",
       "        vertical-align: middle;\n",
       "    }\n",
       "\n",
       "    .dataframe tbody tr th {\n",
       "        vertical-align: top;\n",
       "    }\n",
       "\n",
       "    .dataframe thead th {\n",
       "        text-align: right;\n",
       "    }\n",
       "</style>\n",
       "<table border=\"1\" class=\"dataframe\">\n",
       "  <thead>\n",
       "    <tr style=\"text-align: right;\">\n",
       "      <th></th>\n",
       "      <th>Converted</th>\n",
       "      <th>Converted_prob</th>\n",
       "      <th>Prospect ID</th>\n",
       "      <th>Predicted</th>\n",
       "      <th>0.0</th>\n",
       "      <th>0.1</th>\n",
       "      <th>0.2</th>\n",
       "      <th>0.3</th>\n",
       "      <th>0.4</th>\n",
       "      <th>0.5</th>\n",
       "      <th>0.6</th>\n",
       "      <th>0.7</th>\n",
       "      <th>0.8</th>\n",
       "      <th>0.9</th>\n",
       "    </tr>\n",
       "  </thead>\n",
       "  <tbody>\n",
       "    <tr>\n",
       "      <th>0</th>\n",
       "      <td>1</td>\n",
       "      <td>0.329433</td>\n",
       "      <td>6583</td>\n",
       "      <td>0</td>\n",
       "      <td>1</td>\n",
       "      <td>1</td>\n",
       "      <td>1</td>\n",
       "      <td>1</td>\n",
       "      <td>0</td>\n",
       "      <td>0</td>\n",
       "      <td>0</td>\n",
       "      <td>0</td>\n",
       "      <td>0</td>\n",
       "      <td>0</td>\n",
       "    </tr>\n",
       "    <tr>\n",
       "      <th>1</th>\n",
       "      <td>0</td>\n",
       "      <td>0.031413</td>\n",
       "      <td>5948</td>\n",
       "      <td>0</td>\n",
       "      <td>1</td>\n",
       "      <td>0</td>\n",
       "      <td>0</td>\n",
       "      <td>0</td>\n",
       "      <td>0</td>\n",
       "      <td>0</td>\n",
       "      <td>0</td>\n",
       "      <td>0</td>\n",
       "      <td>0</td>\n",
       "      <td>0</td>\n",
       "    </tr>\n",
       "    <tr>\n",
       "      <th>2</th>\n",
       "      <td>0</td>\n",
       "      <td>0.034137</td>\n",
       "      <td>1119</td>\n",
       "      <td>0</td>\n",
       "      <td>1</td>\n",
       "      <td>0</td>\n",
       "      <td>0</td>\n",
       "      <td>0</td>\n",
       "      <td>0</td>\n",
       "      <td>0</td>\n",
       "      <td>0</td>\n",
       "      <td>0</td>\n",
       "      <td>0</td>\n",
       "      <td>0</td>\n",
       "    </tr>\n",
       "    <tr>\n",
       "      <th>3</th>\n",
       "      <td>0</td>\n",
       "      <td>0.709881</td>\n",
       "      <td>5387</td>\n",
       "      <td>1</td>\n",
       "      <td>1</td>\n",
       "      <td>1</td>\n",
       "      <td>1</td>\n",
       "      <td>1</td>\n",
       "      <td>1</td>\n",
       "      <td>1</td>\n",
       "      <td>1</td>\n",
       "      <td>1</td>\n",
       "      <td>0</td>\n",
       "      <td>0</td>\n",
       "    </tr>\n",
       "    <tr>\n",
       "      <th>4</th>\n",
       "      <td>1</td>\n",
       "      <td>0.885869</td>\n",
       "      <td>4424</td>\n",
       "      <td>1</td>\n",
       "      <td>1</td>\n",
       "      <td>1</td>\n",
       "      <td>1</td>\n",
       "      <td>1</td>\n",
       "      <td>1</td>\n",
       "      <td>1</td>\n",
       "      <td>1</td>\n",
       "      <td>1</td>\n",
       "      <td>1</td>\n",
       "      <td>0</td>\n",
       "    </tr>\n",
       "  </tbody>\n",
       "</table>\n",
       "</div>"
      ],
      "text/plain": [
       "   Converted  Converted_prob  Prospect ID  Predicted  0.0  0.1  0.2  0.3  0.4  \\\n",
       "0          1        0.329433         6583          0    1    1    1    1    0   \n",
       "1          0        0.031413         5948          0    1    0    0    0    0   \n",
       "2          0        0.034137         1119          0    1    0    0    0    0   \n",
       "3          0        0.709881         5387          1    1    1    1    1    1   \n",
       "4          1        0.885869         4424          1    1    1    1    1    1   \n",
       "\n",
       "   0.5  0.6  0.7  0.8  0.9  \n",
       "0    0    0    0    0    0  \n",
       "1    0    0    0    0    0  \n",
       "2    0    0    0    0    0  \n",
       "3    1    1    1    0    0  \n",
       "4    1    1    1    1    0  "
      ]
     },
     "execution_count": 113,
     "metadata": {},
     "output_type": "execute_result"
    }
   ],
   "source": [
    "numbers = [float(x)/10 for x in range(10)]\n",
    "for i in numbers:\n",
    "    y_train_pred_final[i]= y_train_pred_final.Converted_prob.map(lambda x: 1 if x > i else 0)\n",
    "y_train_pred_final.head()"
   ]
  },
  {
   "cell_type": "code",
   "execution_count": 159,
   "metadata": {},
   "outputs": [
    {
     "name": "stdout",
     "output_type": "stream",
     "text": [
      "     prob  accuracy     sensi     speci\n",
      "0.0   0.0  0.384271  1.000000  0.000000\n",
      "0.1   0.1  0.630447  0.969583  0.418795\n",
      "0.2   0.2  0.749784  0.934285  0.634638\n",
      "0.3   0.3  0.807792  0.857304  0.776892\n",
      "0.4   0.4  0.817893  0.788960  0.835950\n",
      "0.5   0.5  0.814863  0.692452  0.891258\n",
      "0.6   0.6  0.806926  0.624108  0.921022\n",
      "0.7   0.7  0.794372  0.544499  0.950316\n",
      "0.8   0.8  0.768543  0.440856  0.973049\n",
      "0.9   0.9  0.726118  0.303042  0.990157\n"
     ]
    }
   ],
   "source": [
    "# Now let's calculate accuracy sensitivity and specificity for various probability cutoffs.\n",
    "cutoff_df = pd.DataFrame( columns = ['prob','accuracy','sensi','speci'])\n",
    "from sklearn.metrics import confusion_matrix\n",
    "\n",
    "# TP = confusion[1,1] # true positive \n",
    "# TN = confusion[0,0] # true negatives\n",
    "# FP = confusion[0,1] # false positives\n",
    "# FN = confusion[1,0] # false negatives\n",
    "\n",
    "num = [0.0,0.1,0.2,0.3,0.4,0.5,0.6,0.7,0.8,0.9]\n",
    "for i in num:\n",
    "    cm1 = metrics.confusion_matrix(y_train_pred_final.Converted, y_train_pred_final[i] )\n",
    "    total1=sum(sum(cm1))\n",
    "    accuracy = (cm1[0,0]+cm1[1,1])/total1\n",
    "    \n",
    "    speci = cm1[0,0]/(cm1[0,0]+cm1[0,1])\n",
    "    sensi = cm1[1,1]/(cm1[1,0]+cm1[1,1])\n",
    "    cutoff_df.loc[i] =[ i ,accuracy,sensi,speci]\n",
    "print(cutoff_df)"
   ]
  },
  {
   "cell_type": "code",
   "execution_count": 162,
   "metadata": {},
   "outputs": [
    {
     "data": {
      "image/png": "[encoded data removed]",
      "text/plain": [
       "<Figure size 432x288 with 1 Axes>"
      ]
     },
     "metadata": {
      "needs_background": "light"
     },
     "output_type": "display_data"
    }
   ],
   "source": [
    "# Let's plot accuracy sensitivity and specificity for various probabilities.\n",
    "cutoff_df.plot.line(x='prob', y=['accuracy','sensi','speci'])\n",
    "plt.title('Plot of Accuracy, Sensitivity and Specificity')\n",
    "plt.show()"
   ]
  },
  {
   "cell_type": "code",
   "execution_count": 116,
   "metadata": {},
   "outputs": [
    {
     "data": {
      "text/html": [
       "<div>\n",
       "<style scoped>\n",
       "    .dataframe tbody tr th:only-of-type {\n",
       "        vertical-align: middle;\n",
       "    }\n",
       "\n",
       "    .dataframe tbody tr th {\n",
       "        vertical-align: top;\n",
       "    }\n",
       "\n",
       "    .dataframe thead th {\n",
       "        text-align: right;\n",
       "    }\n",
       "</style>\n",
       "<table border=\"1\" class=\"dataframe\">\n",
       "  <thead>\n",
       "    <tr style=\"text-align: right;\">\n",
       "      <th></th>\n",
       "      <th>Converted</th>\n",
       "      <th>Converted_prob</th>\n",
       "      <th>Prospect ID</th>\n",
       "      <th>Predicted</th>\n",
       "      <th>0.0</th>\n",
       "      <th>0.1</th>\n",
       "      <th>0.2</th>\n",
       "      <th>0.3</th>\n",
       "      <th>0.4</th>\n",
       "      <th>0.5</th>\n",
       "      <th>0.6</th>\n",
       "      <th>0.7</th>\n",
       "      <th>0.8</th>\n",
       "      <th>0.9</th>\n",
       "      <th>final_Predicted</th>\n",
       "    </tr>\n",
       "  </thead>\n",
       "  <tbody>\n",
       "    <tr>\n",
       "      <th>0</th>\n",
       "      <td>1</td>\n",
       "      <td>0.329433</td>\n",
       "      <td>6583</td>\n",
       "      <td>0</td>\n",
       "      <td>1</td>\n",
       "      <td>1</td>\n",
       "      <td>1</td>\n",
       "      <td>1</td>\n",
       "      <td>0</td>\n",
       "      <td>0</td>\n",
       "      <td>0</td>\n",
       "      <td>0</td>\n",
       "      <td>0</td>\n",
       "      <td>0</td>\n",
       "      <td>0</td>\n",
       "    </tr>\n",
       "    <tr>\n",
       "      <th>1</th>\n",
       "      <td>0</td>\n",
       "      <td>0.031413</td>\n",
       "      <td>5948</td>\n",
       "      <td>0</td>\n",
       "      <td>1</td>\n",
       "      <td>0</td>\n",
       "      <td>0</td>\n",
       "      <td>0</td>\n",
       "      <td>0</td>\n",
       "      <td>0</td>\n",
       "      <td>0</td>\n",
       "      <td>0</td>\n",
       "      <td>0</td>\n",
       "      <td>0</td>\n",
       "      <td>0</td>\n",
       "    </tr>\n",
       "    <tr>\n",
       "      <th>2</th>\n",
       "      <td>0</td>\n",
       "      <td>0.034137</td>\n",
       "      <td>1119</td>\n",
       "      <td>0</td>\n",
       "      <td>1</td>\n",
       "      <td>0</td>\n",
       "      <td>0</td>\n",
       "      <td>0</td>\n",
       "      <td>0</td>\n",
       "      <td>0</td>\n",
       "      <td>0</td>\n",
       "      <td>0</td>\n",
       "      <td>0</td>\n",
       "      <td>0</td>\n",
       "      <td>0</td>\n",
       "    </tr>\n",
       "    <tr>\n",
       "      <th>3</th>\n",
       "      <td>0</td>\n",
       "      <td>0.709881</td>\n",
       "      <td>5387</td>\n",
       "      <td>1</td>\n",
       "      <td>1</td>\n",
       "      <td>1</td>\n",
       "      <td>1</td>\n",
       "      <td>1</td>\n",
       "      <td>1</td>\n",
       "      <td>1</td>\n",
       "      <td>1</td>\n",
       "      <td>1</td>\n",
       "      <td>0</td>\n",
       "      <td>0</td>\n",
       "      <td>1</td>\n",
       "    </tr>\n",
       "    <tr>\n",
       "      <th>4</th>\n",
       "      <td>1</td>\n",
       "      <td>0.885869</td>\n",
       "      <td>4424</td>\n",
       "      <td>1</td>\n",
       "      <td>1</td>\n",
       "      <td>1</td>\n",
       "      <td>1</td>\n",
       "      <td>1</td>\n",
       "      <td>1</td>\n",
       "      <td>1</td>\n",
       "      <td>1</td>\n",
       "      <td>1</td>\n",
       "      <td>1</td>\n",
       "      <td>0</td>\n",
       "      <td>1</td>\n",
       "    </tr>\n",
       "  </tbody>\n",
       "</table>\n",
       "</div>"
      ],
      "text/plain": [
       "   Converted  Converted_prob  Prospect ID  Predicted  0.0  0.1  0.2  0.3  0.4  \\\n",
       "0          1        0.329433         6583          0    1    1    1    1    0   \n",
       "1          0        0.031413         5948          0    1    0    0    0    0   \n",
       "2          0        0.034137         1119          0    1    0    0    0    0   \n",
       "3          0        0.709881         5387          1    1    1    1    1    1   \n",
       "4          1        0.885869         4424          1    1    1    1    1    1   \n",
       "\n",
       "   0.5  0.6  0.7  0.8  0.9  final_Predicted  \n",
       "0    0    0    0    0    0                0  \n",
       "1    0    0    0    0    0                0  \n",
       "2    0    0    0    0    0                0  \n",
       "3    1    1    1    0    0                1  \n",
       "4    1    1    1    1    0                1  "
      ]
     },
     "execution_count": 116,
     "metadata": {},
     "output_type": "execute_result"
    }
   ],
   "source": [
    "#based on above plot, the optimum cut-off could be 0.38\n",
    "y_train_pred_final['final_Predicted'] = y_train_pred_final.Converted_prob.map( lambda x: 1 if x > 0.38 else 0)\n",
    "\n",
    "y_train_pred_final.head()"
   ]
  },
  {
   "cell_type": "code",
   "execution_count": 117,
   "metadata": {},
   "outputs": [
    {
     "data": {
      "text/html": [
       "<div>\n",
       "<style scoped>\n",
       "    .dataframe tbody tr th:only-of-type {\n",
       "        vertical-align: middle;\n",
       "    }\n",
       "\n",
       "    .dataframe tbody tr th {\n",
       "        vertical-align: top;\n",
       "    }\n",
       "\n",
       "    .dataframe thead th {\n",
       "        text-align: right;\n",
       "    }\n",
       "</style>\n",
       "<table border=\"1\" class=\"dataframe\">\n",
       "  <thead>\n",
       "    <tr style=\"text-align: right;\">\n",
       "      <th></th>\n",
       "      <th>Converted</th>\n",
       "      <th>Converted_prob</th>\n",
       "      <th>Prospect ID</th>\n",
       "      <th>final_Predicted</th>\n",
       "      <th>Lead_Score</th>\n",
       "    </tr>\n",
       "  </thead>\n",
       "  <tbody>\n",
       "    <tr>\n",
       "      <th>0</th>\n",
       "      <td>1</td>\n",
       "      <td>0.329433</td>\n",
       "      <td>6583</td>\n",
       "      <td>0</td>\n",
       "      <td>33</td>\n",
       "    </tr>\n",
       "    <tr>\n",
       "      <th>1</th>\n",
       "      <td>0</td>\n",
       "      <td>0.031413</td>\n",
       "      <td>5948</td>\n",
       "      <td>0</td>\n",
       "      <td>3</td>\n",
       "    </tr>\n",
       "    <tr>\n",
       "      <th>2</th>\n",
       "      <td>0</td>\n",
       "      <td>0.034137</td>\n",
       "      <td>1119</td>\n",
       "      <td>0</td>\n",
       "      <td>3</td>\n",
       "    </tr>\n",
       "    <tr>\n",
       "      <th>3</th>\n",
       "      <td>0</td>\n",
       "      <td>0.709881</td>\n",
       "      <td>5387</td>\n",
       "      <td>1</td>\n",
       "      <td>71</td>\n",
       "    </tr>\n",
       "    <tr>\n",
       "      <th>4</th>\n",
       "      <td>1</td>\n",
       "      <td>0.885869</td>\n",
       "      <td>4424</td>\n",
       "      <td>1</td>\n",
       "      <td>89</td>\n",
       "    </tr>\n",
       "  </tbody>\n",
       "</table>\n",
       "</div>"
      ],
      "text/plain": [
       "   Converted  Converted_prob  Prospect ID  final_Predicted  Lead_Score\n",
       "0          1        0.329433         6583                0          33\n",
       "1          0        0.031413         5948                0           3\n",
       "2          0        0.034137         1119                0           3\n",
       "3          0        0.709881         5387                1          71\n",
       "4          1        0.885869         4424                1          89"
      ]
     },
     "execution_count": 117,
     "metadata": {},
     "output_type": "execute_result"
    }
   ],
   "source": [
    "y_train_pred_final['Lead_Score'] = y_train_pred_final.Converted_prob.map( lambda x: round(x*100))\n",
    "\n",
    "y_train_pred_final[['Converted','Converted_prob','Prospect ID','final_Predicted','Lead_Score']].head()"
   ]
  },
  {
   "cell_type": "code",
   "execution_count": 118,
   "metadata": {},
   "outputs": [
    {
     "data": {
      "text/plain": [
       "0.8171717171717172"
      ]
     },
     "execution_count": 118,
     "metadata": {},
     "output_type": "execute_result"
    }
   ],
   "source": [
    "metrics.accuracy_score(y_train_pred_final.Converted, y_train_pred_final.final_Predicted)"
   ]
  },
  {
   "cell_type": "code",
   "execution_count": 119,
   "metadata": {},
   "outputs": [
    {
     "data": {
      "text/plain": [
       "array([[3525,  742],\n",
       "       [ 525, 2138]])"
      ]
     },
     "execution_count": 119,
     "metadata": {},
     "output_type": "execute_result"
    }
   ],
   "source": [
    "confusion2 = metrics.confusion_matrix(y_train_pred_final.Converted, y_train_pred_final.final_Predicted )\n",
    "confusion2"
   ]
  },
  {
   "cell_type": "code",
   "execution_count": 120,
   "metadata": {},
   "outputs": [],
   "source": [
    "TP = confusion2[1,1] # true positive \n",
    "TN = confusion2[0,0] # true negatives\n",
    "FP = confusion2[0,1] # false positives\n",
    "FN = confusion2[1,0] # false negatives"
   ]
  },
  {
   "cell_type": "code",
   "execution_count": 121,
   "metadata": {},
   "outputs": [
    {
     "data": {
      "text/plain": [
       "0.8028539241457003"
      ]
     },
     "execution_count": 121,
     "metadata": {},
     "output_type": "execute_result"
    }
   ],
   "source": [
    "TP / float(TP+FN)"
   ]
  },
  {
   "cell_type": "code",
   "execution_count": 122,
   "metadata": {},
   "outputs": [
    {
     "data": {
      "text/plain": [
       "0.8261073353644246"
      ]
     },
     "execution_count": 122,
     "metadata": {},
     "output_type": "execute_result"
    }
   ],
   "source": [
    "TN / float(TN+FP)"
   ]
  },
  {
   "cell_type": "code",
   "execution_count": 123,
   "metadata": {},
   "outputs": [
    {
     "name": "stdout",
     "output_type": "stream",
     "text": [
      "0.17389266463557534\n"
     ]
    }
   ],
   "source": [
    "print(FP/ float(TN+FP))"
   ]
  },
  {
   "cell_type": "code",
   "execution_count": 124,
   "metadata": {},
   "outputs": [
    {
     "name": "stdout",
     "output_type": "stream",
     "text": [
      "0.7423611111111111\n"
     ]
    }
   ],
   "source": [
    "print (TP / float(TP+FP))"
   ]
  },
  {
   "cell_type": "code",
   "execution_count": 125,
   "metadata": {},
   "outputs": [
    {
     "name": "stdout",
     "output_type": "stream",
     "text": [
      "0.8703703703703703\n"
     ]
    }
   ],
   "source": [
    "print (TN / float(TN+ FN))"
   ]
  },
  {
   "cell_type": "code",
   "execution_count": 126,
   "metadata": {},
   "outputs": [],
   "source": [
    "from sklearn.metrics import precision_recall_curve"
   ]
  },
  {
   "cell_type": "code",
   "execution_count": 127,
   "metadata": {},
   "outputs": [],
   "source": [
    "y_train_pred_final.Converted, y_train_pred_final.final_Predicted\n",
    "p, r, thresholds = precision_recall_curve(y_train_pred_final.Converted, y_train_pred_final.Converted_prob)"
   ]
  },
  {
   "cell_type": "markdown",
   "metadata": {},
   "source": [
    "##### Precision vs Recall"
   ]
  },
  {
   "cell_type": "code",
   "execution_count": 165,
   "metadata": {},
   "outputs": [
    {
     "data": {
      "image/png": "[encoded data removed]",
      "text/plain": [
       "<Figure size 432x288 with 1 Axes>"
      ]
     },
     "metadata": {
      "needs_background": "light"
     },
     "output_type": "display_data"
    }
   ],
   "source": [
    "plt.plot(thresholds, p[:-1], \"g-\")\n",
    "plt.plot(thresholds, r[:-1], \"r-\")\n",
    "plt.title('Plot of Precision vs Recall')\n",
    "plt.show()\n",
    "#Precision vs Recall"
   ]
  },
  {
   "cell_type": "code",
   "execution_count": 129,
   "metadata": {},
   "outputs": [
    {
     "data": {
      "text/html": [
       "<div>\n",
       "<style scoped>\n",
       "    .dataframe tbody tr th:only-of-type {\n",
       "        vertical-align: middle;\n",
       "    }\n",
       "\n",
       "    .dataframe tbody tr th {\n",
       "        vertical-align: top;\n",
       "    }\n",
       "\n",
       "    .dataframe thead th {\n",
       "        text-align: right;\n",
       "    }\n",
       "</style>\n",
       "<table border=\"1\" class=\"dataframe\">\n",
       "  <thead>\n",
       "    <tr style=\"text-align: right;\">\n",
       "      <th></th>\n",
       "      <th>TotalVisits</th>\n",
       "      <th>Total Time Spent on Website</th>\n",
       "      <th>Page Views Per Visit</th>\n",
       "      <th>Lead Origin_Landing Page Submission</th>\n",
       "      <th>Lead Origin_Lead Add Form</th>\n",
       "      <th>Lead Origin_Lead Import</th>\n",
       "      <th>Lead Origin_Quick Add Form</th>\n",
       "      <th>Lead Source_Direct Traffic</th>\n",
       "      <th>Lead Source_Facebook</th>\n",
       "      <th>Lead Source_Google</th>\n",
       "      <th>...</th>\n",
       "      <th>Last Notable Activity_Form Submitted on Website</th>\n",
       "      <th>Last Notable Activity_Had a Phone Conversation</th>\n",
       "      <th>Last Notable Activity_Modified</th>\n",
       "      <th>Last Notable Activity_Olark Chat Conversation</th>\n",
       "      <th>Last Notable Activity_Page Visited on Website</th>\n",
       "      <th>Last Notable Activity_Resubscribed to emails</th>\n",
       "      <th>Last Notable Activity_SMS Sent</th>\n",
       "      <th>Last Notable Activity_Unreachable</th>\n",
       "      <th>Last Notable Activity_Unsubscribed</th>\n",
       "      <th>Last Notable Activity_View in browser link Clicked</th>\n",
       "    </tr>\n",
       "  </thead>\n",
       "  <tbody>\n",
       "    <tr>\n",
       "      <th>2212</th>\n",
       "      <td>-0.405348</td>\n",
       "      <td>1.135294</td>\n",
       "      <td>-0.119079</td>\n",
       "      <td>-1.025432</td>\n",
       "      <td>-0.303642</td>\n",
       "      <td>-0.080845</td>\n",
       "      <td>1.0</td>\n",
       "      <td>-0.591682</td>\n",
       "      <td>-0.080845</td>\n",
       "      <td>1.435132</td>\n",
       "      <td>...</td>\n",
       "      <td>1.0</td>\n",
       "      <td>-0.055132</td>\n",
       "      <td>1.31794</td>\n",
       "      <td>-0.151754</td>\n",
       "      <td>-0.170156</td>\n",
       "      <td>0.0</td>\n",
       "      <td>-0.559017</td>\n",
       "      <td>-0.046575</td>\n",
       "      <td>-0.072263</td>\n",
       "      <td>1.0</td>\n",
       "    </tr>\n",
       "    <tr>\n",
       "      <th>3034</th>\n",
       "      <td>-0.768136</td>\n",
       "      <td>1.406811</td>\n",
       "      <td>-0.682208</td>\n",
       "      <td>-1.025432</td>\n",
       "      <td>3.293350</td>\n",
       "      <td>-0.080845</td>\n",
       "      <td>1.0</td>\n",
       "      <td>-0.591682</td>\n",
       "      <td>-0.080845</td>\n",
       "      <td>-0.696800</td>\n",
       "      <td>...</td>\n",
       "      <td>1.0</td>\n",
       "      <td>-0.055132</td>\n",
       "      <td>1.31794</td>\n",
       "      <td>-0.151754</td>\n",
       "      <td>-0.170156</td>\n",
       "      <td>0.0</td>\n",
       "      <td>-0.559017</td>\n",
       "      <td>-0.046575</td>\n",
       "      <td>-0.072263</td>\n",
       "      <td>1.0</td>\n",
       "    </tr>\n",
       "    <tr>\n",
       "      <th>4492</th>\n",
       "      <td>-0.768136</td>\n",
       "      <td>-0.517656</td>\n",
       "      <td>-0.682208</td>\n",
       "      <td>-1.025432</td>\n",
       "      <td>-0.303642</td>\n",
       "      <td>-0.080845</td>\n",
       "      <td>1.0</td>\n",
       "      <td>-0.591682</td>\n",
       "      <td>-0.080845</td>\n",
       "      <td>-0.696800</td>\n",
       "      <td>...</td>\n",
       "      <td>1.0</td>\n",
       "      <td>-0.055132</td>\n",
       "      <td>-0.75876</td>\n",
       "      <td>6.589619</td>\n",
       "      <td>-0.170156</td>\n",
       "      <td>0.0</td>\n",
       "      <td>-0.559017</td>\n",
       "      <td>-0.046575</td>\n",
       "      <td>-0.072263</td>\n",
       "      <td>1.0</td>\n",
       "    </tr>\n",
       "    <tr>\n",
       "      <th>5063</th>\n",
       "      <td>0.683014</td>\n",
       "      <td>-0.431431</td>\n",
       "      <td>0.162486</td>\n",
       "      <td>0.975199</td>\n",
       "      <td>-0.303642</td>\n",
       "      <td>-0.080845</td>\n",
       "      <td>1.0</td>\n",
       "      <td>-0.591682</td>\n",
       "      <td>-0.080845</td>\n",
       "      <td>-0.696800</td>\n",
       "      <td>...</td>\n",
       "      <td>1.0</td>\n",
       "      <td>-0.055132</td>\n",
       "      <td>-0.75876</td>\n",
       "      <td>-0.151754</td>\n",
       "      <td>-0.170156</td>\n",
       "      <td>0.0</td>\n",
       "      <td>1.788854</td>\n",
       "      <td>-0.046575</td>\n",
       "      <td>-0.072263</td>\n",
       "      <td>1.0</td>\n",
       "    </tr>\n",
       "    <tr>\n",
       "      <th>7645</th>\n",
       "      <td>-1.130924</td>\n",
       "      <td>-0.880901</td>\n",
       "      <td>-1.245338</td>\n",
       "      <td>-1.025432</td>\n",
       "      <td>-0.303642</td>\n",
       "      <td>-0.080845</td>\n",
       "      <td>1.0</td>\n",
       "      <td>-0.591682</td>\n",
       "      <td>-0.080845</td>\n",
       "      <td>-0.696800</td>\n",
       "      <td>...</td>\n",
       "      <td>1.0</td>\n",
       "      <td>-0.055132</td>\n",
       "      <td>1.31794</td>\n",
       "      <td>-0.151754</td>\n",
       "      <td>-0.170156</td>\n",
       "      <td>0.0</td>\n",
       "      <td>-0.559017</td>\n",
       "      <td>-0.046575</td>\n",
       "      <td>-0.072263</td>\n",
       "      <td>1.0</td>\n",
       "    </tr>\n",
       "  </tbody>\n",
       "</table>\n",
       "<p>5 rows × 104 columns</p>\n",
       "</div>"
      ],
      "text/plain": [
       "      TotalVisits  Total Time Spent on Website  Page Views Per Visit  \\\n",
       "2212    -0.405348                     1.135294             -0.119079   \n",
       "3034    -0.768136                     1.406811             -0.682208   \n",
       "4492    -0.768136                    -0.517656             -0.682208   \n",
       "5063     0.683014                    -0.431431              0.162486   \n",
       "7645    -1.130924                    -0.880901             -1.245338   \n",
       "\n",
       "      Lead Origin_Landing Page Submission  Lead Origin_Lead Add Form  \\\n",
       "2212                            -1.025432                  -0.303642   \n",
       "3034                            -1.025432                   3.293350   \n",
       "4492                            -1.025432                  -0.303642   \n",
       "5063                             0.975199                  -0.303642   \n",
       "7645                            -1.025432                  -0.303642   \n",
       "\n",
       "      Lead Origin_Lead Import  Lead Origin_Quick Add Form  \\\n",
       "2212                -0.080845                         1.0   \n",
       "3034                -0.080845                         1.0   \n",
       "4492                -0.080845                         1.0   \n",
       "5063                -0.080845                         1.0   \n",
       "7645                -0.080845                         1.0   \n",
       "\n",
       "      Lead Source_Direct Traffic  Lead Source_Facebook  Lead Source_Google  \\\n",
       "2212                   -0.591682             -0.080845            1.435132   \n",
       "3034                   -0.591682             -0.080845           -0.696800   \n",
       "4492                   -0.591682             -0.080845           -0.696800   \n",
       "5063                   -0.591682             -0.080845           -0.696800   \n",
       "7645                   -0.591682             -0.080845           -0.696800   \n",
       "\n",
       "      ...  Last Notable Activity_Form Submitted on Website  \\\n",
       "2212  ...                                              1.0   \n",
       "3034  ...                                              1.0   \n",
       "4492  ...                                              1.0   \n",
       "5063  ...                                              1.0   \n",
       "7645  ...                                              1.0   \n",
       "\n",
       "      Last Notable Activity_Had a Phone Conversation  \\\n",
       "2212                                       -0.055132   \n",
       "3034                                       -0.055132   \n",
       "4492                                       -0.055132   \n",
       "5063                                       -0.055132   \n",
       "7645                                       -0.055132   \n",
       "\n",
       "      Last Notable Activity_Modified  \\\n",
       "2212                         1.31794   \n",
       "3034                         1.31794   \n",
       "4492                        -0.75876   \n",
       "5063                        -0.75876   \n",
       "7645                         1.31794   \n",
       "\n",
       "      Last Notable Activity_Olark Chat Conversation  \\\n",
       "2212                                      -0.151754   \n",
       "3034                                      -0.151754   \n",
       "4492                                       6.589619   \n",
       "5063                                      -0.151754   \n",
       "7645                                      -0.151754   \n",
       "\n",
       "      Last Notable Activity_Page Visited on Website  \\\n",
       "2212                                      -0.170156   \n",
       "3034                                      -0.170156   \n",
       "4492                                      -0.170156   \n",
       "5063                                      -0.170156   \n",
       "7645                                      -0.170156   \n",
       "\n",
       "      Last Notable Activity_Resubscribed to emails  \\\n",
       "2212                                           0.0   \n",
       "3034                                           0.0   \n",
       "4492                                           0.0   \n",
       "5063                                           0.0   \n",
       "7645                                           0.0   \n",
       "\n",
       "      Last Notable Activity_SMS Sent  Last Notable Activity_Unreachable  \\\n",
       "2212                       -0.559017                          -0.046575   \n",
       "3034                       -0.559017                          -0.046575   \n",
       "4492                       -0.559017                          -0.046575   \n",
       "5063                        1.788854                          -0.046575   \n",
       "7645                       -0.559017                          -0.046575   \n",
       "\n",
       "      Last Notable Activity_Unsubscribed  \\\n",
       "2212                           -0.072263   \n",
       "3034                           -0.072263   \n",
       "4492                           -0.072263   \n",
       "5063                           -0.072263   \n",
       "7645                           -0.072263   \n",
       "\n",
       "      Last Notable Activity_View in browser link Clicked  \n",
       "2212                                                1.0   \n",
       "3034                                                1.0   \n",
       "4492                                                1.0   \n",
       "5063                                                1.0   \n",
       "7645                                                1.0   \n",
       "\n",
       "[5 rows x 104 columns]"
      ]
     },
     "execution_count": 129,
     "metadata": {},
     "output_type": "execute_result"
    }
   ],
   "source": [
    "num_cols=X_test.select_dtypes(include=['float64', 'int64']).columns\n",
    "\n",
    "X_test[num_cols] = sc.fit_transform(X_test[num_cols])\n",
    "\n",
    "X_test.head()"
   ]
  },
  {
   "cell_type": "markdown",
   "metadata": {},
   "source": [
    "### Apply into Test Data"
   ]
  },
  {
   "cell_type": "code",
   "execution_count": 130,
   "metadata": {},
   "outputs": [
    {
     "data": {
      "text/html": [
       "<div>\n",
       "<style scoped>\n",
       "    .dataframe tbody tr th:only-of-type {\n",
       "        vertical-align: middle;\n",
       "    }\n",
       "\n",
       "    .dataframe tbody tr th {\n",
       "        vertical-align: top;\n",
       "    }\n",
       "\n",
       "    .dataframe thead th {\n",
       "        text-align: right;\n",
       "    }\n",
       "</style>\n",
       "<table border=\"1\" class=\"dataframe\">\n",
       "  <thead>\n",
       "    <tr style=\"text-align: right;\">\n",
       "      <th></th>\n",
       "      <th>Total Time Spent on Website</th>\n",
       "      <th>Lead Origin_Landing Page Submission</th>\n",
       "      <th>Lead Origin_Lead Add Form</th>\n",
       "      <th>Lead Source_Olark Chat</th>\n",
       "      <th>Lead Source_Welingak Website</th>\n",
       "      <th>Do Not Email_Yes</th>\n",
       "      <th>Last Activity_Olark Chat Conversation</th>\n",
       "      <th>Specialization_Others</th>\n",
       "      <th>What is your current occupation_Working Professional</th>\n",
       "      <th>Lead Profile_Other Leads</th>\n",
       "      <th>Lead Profile_Others</th>\n",
       "      <th>Lead Profile_Student of SomeSchool</th>\n",
       "      <th>Last Notable Activity_Email Opened</th>\n",
       "      <th>Last Notable Activity_Modified</th>\n",
       "    </tr>\n",
       "  </thead>\n",
       "  <tbody>\n",
       "    <tr>\n",
       "      <th>2212</th>\n",
       "      <td>1.135294</td>\n",
       "      <td>-1.025432</td>\n",
       "      <td>-0.303642</td>\n",
       "      <td>-0.491191</td>\n",
       "      <td>-0.127585</td>\n",
       "      <td>-0.298511</td>\n",
       "      <td>-0.348367</td>\n",
       "      <td>1.287722</td>\n",
       "      <td>-0.288946</td>\n",
       "      <td>-0.225733</td>\n",
       "      <td>0.583682</td>\n",
       "      <td>-0.171499</td>\n",
       "      <td>-0.672927</td>\n",
       "      <td>1.31794</td>\n",
       "    </tr>\n",
       "    <tr>\n",
       "      <th>3034</th>\n",
       "      <td>1.406811</td>\n",
       "      <td>-1.025432</td>\n",
       "      <td>3.293350</td>\n",
       "      <td>-0.491191</td>\n",
       "      <td>-0.127585</td>\n",
       "      <td>-0.298511</td>\n",
       "      <td>-0.348367</td>\n",
       "      <td>1.287722</td>\n",
       "      <td>-0.288946</td>\n",
       "      <td>-0.225733</td>\n",
       "      <td>0.583682</td>\n",
       "      <td>-0.171499</td>\n",
       "      <td>-0.672927</td>\n",
       "      <td>1.31794</td>\n",
       "    </tr>\n",
       "    <tr>\n",
       "      <th>4492</th>\n",
       "      <td>-0.517656</td>\n",
       "      <td>-1.025432</td>\n",
       "      <td>-0.303642</td>\n",
       "      <td>2.035870</td>\n",
       "      <td>-0.127585</td>\n",
       "      <td>-0.298511</td>\n",
       "      <td>2.870540</td>\n",
       "      <td>1.287722</td>\n",
       "      <td>-0.288946</td>\n",
       "      <td>-0.225733</td>\n",
       "      <td>0.583682</td>\n",
       "      <td>-0.171499</td>\n",
       "      <td>-0.672927</td>\n",
       "      <td>-0.75876</td>\n",
       "    </tr>\n",
       "    <tr>\n",
       "      <th>5063</th>\n",
       "      <td>-0.431431</td>\n",
       "      <td>0.975199</td>\n",
       "      <td>-0.303642</td>\n",
       "      <td>-0.491191</td>\n",
       "      <td>-0.127585</td>\n",
       "      <td>3.349959</td>\n",
       "      <td>-0.348367</td>\n",
       "      <td>-0.776565</td>\n",
       "      <td>-0.288946</td>\n",
       "      <td>-0.225733</td>\n",
       "      <td>0.583682</td>\n",
       "      <td>-0.171499</td>\n",
       "      <td>-0.672927</td>\n",
       "      <td>-0.75876</td>\n",
       "    </tr>\n",
       "    <tr>\n",
       "      <th>7645</th>\n",
       "      <td>-0.880901</td>\n",
       "      <td>-1.025432</td>\n",
       "      <td>-0.303642</td>\n",
       "      <td>2.035870</td>\n",
       "      <td>-0.127585</td>\n",
       "      <td>-0.298511</td>\n",
       "      <td>2.870540</td>\n",
       "      <td>1.287722</td>\n",
       "      <td>-0.288946</td>\n",
       "      <td>-0.225733</td>\n",
       "      <td>0.583682</td>\n",
       "      <td>-0.171499</td>\n",
       "      <td>-0.672927</td>\n",
       "      <td>1.31794</td>\n",
       "    </tr>\n",
       "  </tbody>\n",
       "</table>\n",
       "</div>"
      ],
      "text/plain": [
       "      Total Time Spent on Website  Lead Origin_Landing Page Submission  \\\n",
       "2212                     1.135294                            -1.025432   \n",
       "3034                     1.406811                            -1.025432   \n",
       "4492                    -0.517656                            -1.025432   \n",
       "5063                    -0.431431                             0.975199   \n",
       "7645                    -0.880901                            -1.025432   \n",
       "\n",
       "      Lead Origin_Lead Add Form  Lead Source_Olark Chat  \\\n",
       "2212                  -0.303642               -0.491191   \n",
       "3034                   3.293350               -0.491191   \n",
       "4492                  -0.303642                2.035870   \n",
       "5063                  -0.303642               -0.491191   \n",
       "7645                  -0.303642                2.035870   \n",
       "\n",
       "      Lead Source_Welingak Website  Do Not Email_Yes  \\\n",
       "2212                     -0.127585         -0.298511   \n",
       "3034                     -0.127585         -0.298511   \n",
       "4492                     -0.127585         -0.298511   \n",
       "5063                     -0.127585          3.349959   \n",
       "7645                     -0.127585         -0.298511   \n",
       "\n",
       "      Last Activity_Olark Chat Conversation  Specialization_Others  \\\n",
       "2212                              -0.348367               1.287722   \n",
       "3034                              -0.348367               1.287722   \n",
       "4492                               2.870540               1.287722   \n",
       "5063                              -0.348367              -0.776565   \n",
       "7645                               2.870540               1.287722   \n",
       "\n",
       "      What is your current occupation_Working Professional  \\\n",
       "2212                                          -0.288946      \n",
       "3034                                          -0.288946      \n",
       "4492                                          -0.288946      \n",
       "5063                                          -0.288946      \n",
       "7645                                          -0.288946      \n",
       "\n",
       "      Lead Profile_Other Leads  Lead Profile_Others  \\\n",
       "2212                 -0.225733             0.583682   \n",
       "3034                 -0.225733             0.583682   \n",
       "4492                 -0.225733             0.583682   \n",
       "5063                 -0.225733             0.583682   \n",
       "7645                 -0.225733             0.583682   \n",
       "\n",
       "      Lead Profile_Student of SomeSchool  Last Notable Activity_Email Opened  \\\n",
       "2212                           -0.171499                           -0.672927   \n",
       "3034                           -0.171499                           -0.672927   \n",
       "4492                           -0.171499                           -0.672927   \n",
       "5063                           -0.171499                           -0.672927   \n",
       "7645                           -0.171499                           -0.672927   \n",
       "\n",
       "      Last Notable Activity_Modified  \n",
       "2212                         1.31794  \n",
       "3034                         1.31794  \n",
       "4492                        -0.75876  \n",
       "5063                        -0.75876  \n",
       "7645                         1.31794  "
      ]
     },
     "execution_count": 130,
     "metadata": {},
     "output_type": "execute_result"
    }
   ],
   "source": [
    "X_test = X_test[col]\n",
    "X_test.head()"
   ]
  },
  {
   "cell_type": "code",
   "execution_count": 131,
   "metadata": {},
   "outputs": [],
   "source": [
    "X_test_sm = sm.add_constant(X_test)"
   ]
  },
  {
   "cell_type": "code",
   "execution_count": 132,
   "metadata": {},
   "outputs": [],
   "source": [
    "y_test_pred = res.predict(X_test_sm)"
   ]
  },
  {
   "cell_type": "code",
   "execution_count": 133,
   "metadata": {},
   "outputs": [
    {
     "data": {
      "text/plain": [
       "2212    0.341429\n",
       "3034    0.921758\n",
       "4492    0.208772\n",
       "5063    0.083298\n",
       "7645    0.034491\n",
       "4658    0.498296\n",
       "7481    0.442835\n",
       "2608    0.092932\n",
       "3706    0.163090\n",
       "5626    0.295603\n",
       "dtype: float64"
      ]
     },
     "execution_count": 133,
     "metadata": {},
     "output_type": "execute_result"
    }
   ],
   "source": [
    "y_test_pred[:10]"
   ]
  },
  {
   "cell_type": "code",
   "execution_count": 134,
   "metadata": {},
   "outputs": [],
   "source": [
    "y_pred_1 = pd.DataFrame(y_test_pred)"
   ]
  },
  {
   "cell_type": "code",
   "execution_count": 135,
   "metadata": {},
   "outputs": [],
   "source": [
    "y_test_df = pd.DataFrame(y_test)"
   ]
  },
  {
   "cell_type": "code",
   "execution_count": 136,
   "metadata": {},
   "outputs": [],
   "source": [
    "y_test_df['Prospect ID'] = y_test_df.index"
   ]
  },
  {
   "cell_type": "code",
   "execution_count": 137,
   "metadata": {},
   "outputs": [],
   "source": [
    "y_pred_1.reset_index(drop=True, inplace=True)\n",
    "y_test_df.reset_index(drop=True, inplace=True)"
   ]
  },
  {
   "cell_type": "code",
   "execution_count": 138,
   "metadata": {},
   "outputs": [],
   "source": [
    "y_pred_final = pd.concat([y_test_df, y_pred_1],axis=1)"
   ]
  },
  {
   "cell_type": "code",
   "execution_count": 139,
   "metadata": {},
   "outputs": [
    {
     "data": {
      "text/html": [
       "<div>\n",
       "<style scoped>\n",
       "    .dataframe tbody tr th:only-of-type {\n",
       "        vertical-align: middle;\n",
       "    }\n",
       "\n",
       "    .dataframe tbody tr th {\n",
       "        vertical-align: top;\n",
       "    }\n",
       "\n",
       "    .dataframe thead th {\n",
       "        text-align: right;\n",
       "    }\n",
       "</style>\n",
       "<table border=\"1\" class=\"dataframe\">\n",
       "  <thead>\n",
       "    <tr style=\"text-align: right;\">\n",
       "      <th></th>\n",
       "      <th>Converted</th>\n",
       "      <th>Prospect ID</th>\n",
       "      <th>0</th>\n",
       "    </tr>\n",
       "  </thead>\n",
       "  <tbody>\n",
       "    <tr>\n",
       "      <th>0</th>\n",
       "      <td>0</td>\n",
       "      <td>2212</td>\n",
       "      <td>0.341429</td>\n",
       "    </tr>\n",
       "    <tr>\n",
       "      <th>1</th>\n",
       "      <td>1</td>\n",
       "      <td>3034</td>\n",
       "      <td>0.921758</td>\n",
       "    </tr>\n",
       "    <tr>\n",
       "      <th>2</th>\n",
       "      <td>0</td>\n",
       "      <td>4492</td>\n",
       "      <td>0.208772</td>\n",
       "    </tr>\n",
       "    <tr>\n",
       "      <th>3</th>\n",
       "      <td>0</td>\n",
       "      <td>5063</td>\n",
       "      <td>0.083298</td>\n",
       "    </tr>\n",
       "    <tr>\n",
       "      <th>4</th>\n",
       "      <td>0</td>\n",
       "      <td>7645</td>\n",
       "      <td>0.034491</td>\n",
       "    </tr>\n",
       "  </tbody>\n",
       "</table>\n",
       "</div>"
      ],
      "text/plain": [
       "   Converted  Prospect ID         0\n",
       "0          0         2212  0.341429\n",
       "1          1         3034  0.921758\n",
       "2          0         4492  0.208772\n",
       "3          0         5063  0.083298\n",
       "4          0         7645  0.034491"
      ]
     },
     "execution_count": 139,
     "metadata": {},
     "output_type": "execute_result"
    }
   ],
   "source": [
    "y_pred_final.head()"
   ]
  },
  {
   "cell_type": "code",
   "execution_count": 140,
   "metadata": {},
   "outputs": [],
   "source": [
    "y_pred_final= y_pred_final.rename(columns={ 0 : 'Converted_prob'})"
   ]
  },
  {
   "cell_type": "code",
   "execution_count": 141,
   "metadata": {},
   "outputs": [],
   "source": [
    "y_pred_final = y_pred_final[['Prospect ID','Converted','Converted_prob']]\n",
    "y_pred_final['Lead_Score'] = y_pred_final.Converted_prob.map( lambda x: round(x*100))"
   ]
  },
  {
   "cell_type": "code",
   "execution_count": 142,
   "metadata": {},
   "outputs": [
    {
     "data": {
      "text/html": [
       "<div>\n",
       "<style scoped>\n",
       "    .dataframe tbody tr th:only-of-type {\n",
       "        vertical-align: middle;\n",
       "    }\n",
       "\n",
       "    .dataframe tbody tr th {\n",
       "        vertical-align: top;\n",
       "    }\n",
       "\n",
       "    .dataframe thead th {\n",
       "        text-align: right;\n",
       "    }\n",
       "</style>\n",
       "<table border=\"1\" class=\"dataframe\">\n",
       "  <thead>\n",
       "    <tr style=\"text-align: right;\">\n",
       "      <th></th>\n",
       "      <th>Prospect ID</th>\n",
       "      <th>Converted</th>\n",
       "      <th>Converted_prob</th>\n",
       "      <th>Lead_Score</th>\n",
       "    </tr>\n",
       "  </thead>\n",
       "  <tbody>\n",
       "    <tr>\n",
       "      <th>0</th>\n",
       "      <td>2212</td>\n",
       "      <td>0</td>\n",
       "      <td>0.341429</td>\n",
       "      <td>34</td>\n",
       "    </tr>\n",
       "    <tr>\n",
       "      <th>1</th>\n",
       "      <td>3034</td>\n",
       "      <td>1</td>\n",
       "      <td>0.921758</td>\n",
       "      <td>92</td>\n",
       "    </tr>\n",
       "    <tr>\n",
       "      <th>2</th>\n",
       "      <td>4492</td>\n",
       "      <td>0</td>\n",
       "      <td>0.208772</td>\n",
       "      <td>21</td>\n",
       "    </tr>\n",
       "    <tr>\n",
       "      <th>3</th>\n",
       "      <td>5063</td>\n",
       "      <td>0</td>\n",
       "      <td>0.083298</td>\n",
       "      <td>8</td>\n",
       "    </tr>\n",
       "    <tr>\n",
       "      <th>4</th>\n",
       "      <td>7645</td>\n",
       "      <td>0</td>\n",
       "      <td>0.034491</td>\n",
       "      <td>3</td>\n",
       "    </tr>\n",
       "  </tbody>\n",
       "</table>\n",
       "</div>"
      ],
      "text/plain": [
       "   Prospect ID  Converted  Converted_prob  Lead_Score\n",
       "0         2212          0        0.341429          34\n",
       "1         3034          1        0.921758          92\n",
       "2         4492          0        0.208772          21\n",
       "3         5063          0        0.083298           8\n",
       "4         7645          0        0.034491           3"
      ]
     },
     "execution_count": 142,
     "metadata": {},
     "output_type": "execute_result"
    }
   ],
   "source": [
    "y_pred_final.head()"
   ]
  },
  {
   "cell_type": "code",
   "execution_count": 143,
   "metadata": {},
   "outputs": [],
   "source": [
    "y_pred_final['final_Predicted'] = y_pred_final.Converted_prob.map(lambda x: 1 if x > 0.39 else 0)"
   ]
  },
  {
   "cell_type": "code",
   "execution_count": 144,
   "metadata": {},
   "outputs": [
    {
     "data": {
      "text/html": [
       "<div>\n",
       "<style scoped>\n",
       "    .dataframe tbody tr th:only-of-type {\n",
       "        vertical-align: middle;\n",
       "    }\n",
       "\n",
       "    .dataframe tbody tr th {\n",
       "        vertical-align: top;\n",
       "    }\n",
       "\n",
       "    .dataframe thead th {\n",
       "        text-align: right;\n",
       "    }\n",
       "</style>\n",
       "<table border=\"1\" class=\"dataframe\">\n",
       "  <thead>\n",
       "    <tr style=\"text-align: right;\">\n",
       "      <th></th>\n",
       "      <th>Prospect ID</th>\n",
       "      <th>Converted</th>\n",
       "      <th>Converted_prob</th>\n",
       "      <th>Lead_Score</th>\n",
       "      <th>final_Predicted</th>\n",
       "    </tr>\n",
       "  </thead>\n",
       "  <tbody>\n",
       "    <tr>\n",
       "      <th>0</th>\n",
       "      <td>2212</td>\n",
       "      <td>0</td>\n",
       "      <td>0.341429</td>\n",
       "      <td>34</td>\n",
       "      <td>0</td>\n",
       "    </tr>\n",
       "    <tr>\n",
       "      <th>1</th>\n",
       "      <td>3034</td>\n",
       "      <td>1</td>\n",
       "      <td>0.921758</td>\n",
       "      <td>92</td>\n",
       "      <td>1</td>\n",
       "    </tr>\n",
       "    <tr>\n",
       "      <th>2</th>\n",
       "      <td>4492</td>\n",
       "      <td>0</td>\n",
       "      <td>0.208772</td>\n",
       "      <td>21</td>\n",
       "      <td>0</td>\n",
       "    </tr>\n",
       "    <tr>\n",
       "      <th>3</th>\n",
       "      <td>5063</td>\n",
       "      <td>0</td>\n",
       "      <td>0.083298</td>\n",
       "      <td>8</td>\n",
       "      <td>0</td>\n",
       "    </tr>\n",
       "    <tr>\n",
       "      <th>4</th>\n",
       "      <td>7645</td>\n",
       "      <td>0</td>\n",
       "      <td>0.034491</td>\n",
       "      <td>3</td>\n",
       "      <td>0</td>\n",
       "    </tr>\n",
       "  </tbody>\n",
       "</table>\n",
       "</div>"
      ],
      "text/plain": [
       "   Prospect ID  Converted  Converted_prob  Lead_Score  final_Predicted\n",
       "0         2212          0        0.341429          34                0\n",
       "1         3034          1        0.921758          92                1\n",
       "2         4492          0        0.208772          21                0\n",
       "3         5063          0        0.083298           8                0\n",
       "4         7645          0        0.034491           3                0"
      ]
     },
     "execution_count": 144,
     "metadata": {},
     "output_type": "execute_result"
    }
   ],
   "source": [
    "y_pred_final.head()"
   ]
  },
  {
   "cell_type": "code",
   "execution_count": 145,
   "metadata": {},
   "outputs": [
    {
     "data": {
      "text/plain": [
       "0.8350649350649351"
      ]
     },
     "execution_count": 145,
     "metadata": {},
     "output_type": "execute_result"
    }
   ],
   "source": [
    "metrics.accuracy_score(y_pred_final.Converted, y_pred_final.final_Predicted)"
   ]
  },
  {
   "cell_type": "code",
   "execution_count": 146,
   "metadata": {},
   "outputs": [
    {
     "data": {
      "text/plain": [
       "array([[1203,  209],\n",
       "       [ 172,  726]])"
      ]
     },
     "execution_count": 146,
     "metadata": {},
     "output_type": "execute_result"
    }
   ],
   "source": [
    "confusion2 = metrics.confusion_matrix(y_pred_final.Converted, y_pred_final.final_Predicted )\n",
    "confusion2"
   ]
  },
  {
   "cell_type": "code",
   "execution_count": 147,
   "metadata": {},
   "outputs": [],
   "source": [
    "TP = confusion2[1,1] # true positive \n",
    "TN = confusion2[0,0] # true negatives\n",
    "FP = confusion2[0,1] # false positives\n",
    "FN = confusion2[1,0] # false negatives"
   ]
  },
  {
   "cell_type": "code",
   "execution_count": 148,
   "metadata": {},
   "outputs": [
    {
     "data": {
      "text/plain": [
       "0.8084632516703786"
      ]
     },
     "execution_count": 148,
     "metadata": {},
     "output_type": "execute_result"
    }
   ],
   "source": [
    "TP / float(TP+FN)"
   ]
  },
  {
   "cell_type": "code",
   "execution_count": 149,
   "metadata": {},
   "outputs": [
    {
     "data": {
      "text/plain": [
       "0.8519830028328612"
      ]
     },
     "execution_count": 149,
     "metadata": {},
     "output_type": "execute_result"
    }
   ],
   "source": [
    "TN / float(TN+FP)"
   ]
  },
  {
   "cell_type": "code",
   "execution_count": 150,
   "metadata": {},
   "outputs": [],
   "source": [
    "from sklearn import metrics"
   ]
  },
  {
   "cell_type": "code",
   "execution_count": 151,
   "metadata": {},
   "outputs": [
    {
     "data": {
      "text/plain": [
       "0.7764705882352941"
      ]
     },
     "execution_count": 151,
     "metadata": {},
     "output_type": "execute_result"
    }
   ],
   "source": [
    "precision_score(y_pred_final.Converted , y_pred_final.final_Predicted)"
   ]
  },
  {
   "cell_type": "code",
   "execution_count": 152,
   "metadata": {},
   "outputs": [
    {
     "data": {
      "text/plain": [
       "0.8084632516703786"
      ]
     },
     "execution_count": 152,
     "metadata": {},
     "output_type": "execute_result"
    }
   ],
   "source": [
    "recall_score(y_pred_final.Converted, y_pred_final.final_Predicted)"
   ]
  },
  {
   "cell_type": "markdown",
   "metadata": {},
   "source": [
    "### Final Result\n"
   ]
  },
  {
   "cell_type": "markdown",
   "metadata": {},
   "source": [
    "#### Train Data: \n",
    "\n",
    "1) Accuracy : 81.71%\n",
    "\n",
    "2) Sensitivity : 80.28%\n",
    "\n",
    "3) Specificity : 82.61%"
   ]
  },
  {
   "cell_type": "markdown",
   "metadata": {},
   "source": [
    "#### Test Data:\n",
    "\n",
    "1) Accuracy : 83.50%\n",
    "\n",
    "2) Sensitivity : 80.84%\n",
    "\n",
    "3) Specificity : 85.19%"
   ]
  },
  {
   "cell_type": "code",
   "execution_count": null,
   "metadata": {},
   "outputs": [],
   "source": []
  },
  {
   "cell_type": "code",
   "execution_count": null,
   "metadata": {},
   "outputs": [],
   "source": []
  },
  {
   "cell_type": "code",
   "execution_count": null,
   "metadata": {},
   "outputs": [],
   "source": []
  },
  {
   "cell_type": "code",
   "execution_count": null,
   "metadata": {},
   "outputs": [],
   "source": []
  },
  {
   "cell_type": "code",
   "execution_count": null,
   "metadata": {},
   "outputs": [],
   "source": []
  },
  {
   "cell_type": "code",
   "execution_count": null,
   "metadata": {},
   "outputs": [],
   "source": []
  },
  {
   "cell_type": "code",
   "execution_count": null,
   "metadata": {},
   "outputs": [],
   "source": []
  },
  {
   "cell_type": "code",
   "execution_count": null,
   "metadata": {},
   "outputs": [],
   "source": []
  },
  {
   "cell_type": "code",
   "execution_count": null,
   "metadata": {},
   "outputs": [],
   "source": []
  },
  {
   "cell_type": "code",
   "execution_count": null,
   "metadata": {},
   "outputs": [],
   "source": []
  },
  {
   "cell_type": "code",
   "execution_count": null,
   "metadata": {},
   "outputs": [],
   "source": []
  },
  {
   "cell_type": "code",
   "execution_count": null,
   "metadata": {},
   "outputs": [],
   "source": []
  }
 ],
 "metadata": {
  "kernelspec": {
   "display_name": "Python 3",
   "language": "python",
   "name": "python3"
  },
  "language_info": {
   "codemirror_mode": {
    "name": "ipython",
    "version": 3
   },
   "file_extension": ".py",
   "mimetype": "text/x-python",
   "name": "python",
   "nbconvert_exporter": "python",
   "pygments_lexer": "ipython3",
   "version": "3.8.5"
  }
 },
 "nbformat": 4,
 "nbformat_minor": 4
}
